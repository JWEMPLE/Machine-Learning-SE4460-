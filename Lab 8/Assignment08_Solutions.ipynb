{
 "cells": [
  {
   "cell_type": "code",
   "execution_count": 1,
   "metadata": {},
   "outputs": [],
   "source": [
    "# You can import *ANYTHING* you want here.\n",
    "import numpy as np\n",
    "import matplotlib.pyplot as plt\n",
    "import matplotlib as mpl\n",
    "from sklearn.tree import DecisionTreeClassifier\n",
    "from sklearn.ensemble import BaggingClassifier, RandomForestClassifier\n",
    "from sklearn.metrics import accuracy_score\n",
    "import pandas as pd\n",
    "from tqdm import tqdm # this is just a tool to show a progress bar as your simulations are running"
   ]
  },
  {
   "cell_type": "markdown",
   "metadata": {},
   "source": [
    "# Assignment Week 08: Nested Spheres\n",
    "\n",
    "Simulation is an incredibly useful tool in data science.  We can use simulation to evaluate how algorithms perform against ground truth, and how algorithms compare to one another.\n",
    "\n",
    "In this assignment, you will be implementing and extending the nested spheres simulation study found in *Elements of Statistical Learning* page 339. https://web.stanford.edu/~hastie/ElemStatLearn/\n",
    "\n",
    "# Nested Spheres\n",
    "\n",
    "Consider a dataset which contains 10 features $X_1 \\,, X_2 \\,, \\cdots \\,, X_{10}$.  The features are standard independent Gaussian random variables.  That is to say\n",
    "\n",
    "$$ X_j \\sim \\operatorname{Normal}(0,1) \\quad \\forall j = 1 \\dots 10$$\n",
    "\n",
    "We are going to use these features to study a classification problem.  You will have to create the target variable, $Y$ by computing the following rule:\n",
    "\n",
    "$$ Y = \\begin{cases}  1 \\quad \\mbox{ if } \\sum_{j=1}^{10} X^2_j>9.34 \\\\ 0 \\quad  \\mbox{else} \\end{cases}$$\n",
    "\n",
    "# The Simulation Study\n",
    "\n",
    "Follow these steps to complete the assignment. "
   ]
  },
  {
   "cell_type": "markdown",
   "metadata": {},
   "source": [
    "### Part 1 ( X / 25 pts )\n",
    "Write a function, `generate_data`, that takes a dataset size N and creates a dataset according to the rule above, returning the feature matrix `X` and the labels `y`."
   ]
  },
  {
   "cell_type": "code",
   "execution_count": 2,
   "metadata": {},
   "outputs": [],
   "source": [
    "def generate_data(N):\n",
    "    # Create feature matrix X and labels y\n",
    "    \n",
    "    # Some logic to prevent some errors\n",
    "    if N<=0:\n",
    "        raise ValueError('N must be a positive integer')\n",
    "    if isinstance(N,float):\n",
    "        N = int(np.floor(N))\n",
    "\n",
    "    # Generate the features to learn from.\n",
    "    # Features are iid standard gaussian, so draw from a multivariable standard normal in which the \n",
    "    # covariance matrix is the identity\n",
    "    X = np.random.normal(0,1,(N,10))\n",
    "\n",
    "    # Calculate the sum to determine if y=0 or y=1\n",
    "    y = (np.sum(X**2, axis=1) > 9.34).astype(int)\n",
    "\n",
    "    return X,y"
   ]
  },
  {
   "cell_type": "markdown",
   "metadata": {},
   "source": [
    "## Part 2 ( X / 25 pts )\n",
    "\n",
    "Write a function `run_simulation` that accepts two numbers, Ntrain and Ntest. It should generate a training set and testing set using your `generate_data` function and then train **four classifiers**. The first should be a bagged decision tree, the second should be a random forest with `max_features=1`, the third should be a random forest with `max_features=3`, and the fourth can be anything you like, for example a random forest with more features or an XGboost model. Use 500 trees in your random forests and the bagged classifier. The function should return the accuracy for each of these models estimated using the training set you generated."
   ]
  },
  {
   "cell_type": "code",
   "execution_count": 3,
   "metadata": {},
   "outputs": [],
   "source": [
    "def run_simulation(Ntrain,Ntest):\n",
    "    # Step 1: \n",
    "    # Generate a training and test data sets of observations according to the description above.  \n",
    "    # Label each of these training examples according to the rule above.\n",
    "    Xtrain, ytrain = generate_data(Ntrain)\n",
    "    Xtest, ytest = generate_data(Ntest)\n",
    "    \n",
    "    # Instantiate Models\n",
    "    bag = BaggingClassifier(DecisionTreeClassifier(), n_estimators=500)\n",
    "    rf1 = RandomForestClassifier(n_estimators=500, max_features=1)\n",
    "    rf3 = RandomForestClassifier(n_estimators=500, max_features=3)\n",
    "    rf5 = RandomForestClassifier(n_estimators=500, max_features=5)\n",
    "    \n",
    "    # Train a bagged estimator, a random forrest with `max_features=1` and a random forest with `max_features=3`. \n",
    "    # Use 500 trees in your random forests and bagged estimator. Then try your own.\n",
    "    bag.fit(Xtrain, ytrain)\n",
    "    rf1.fit(Xtrain, ytrain)\n",
    "    rf3.fit(Xtrain, ytrain)\n",
    "    rf5.fit(Xtrain, ytrain)\n",
    "    \n",
    "    # Use each model to predict on the testing data.  \n",
    "    bag_pred = bag.predict(Xtest)\n",
    "    rf1_pred = rf1.predict(Xtest)\n",
    "    rf3_pred = rf3.predict(Xtest)\n",
    "    rf5_pred = rf5.predict(Xtest)\n",
    "    \n",
    "    # Record the testing error rate (that is 1 - accuracy).\n",
    "    bag_accuracy = accuracy_score(ytest, bag_pred)\n",
    "    rf_mf1_accuracy = accuracy_score(ytest, rf1_pred)\n",
    "    rf_mf3_accuracy = accuracy_score(ytest, rf3_pred)\n",
    "    my_classifier_accuracy = accuracy_score(ytest, rf5_pred)\n",
    "     \n",
    "    return bag_accuracy, rf_mf1_accuracy, rf_mf3_accuracy, my_classifier_accuracy"
   ]
  },
  {
   "cell_type": "markdown",
   "metadata": {},
   "source": [
    "## Part 3 ( X / 25 pts )\n",
    "\n",
    "Run 50 simulations using a training set of size 1000 and a test set of size 5000 and record all the results in four vectors, one for each type of model. *You should probably debug your code using smaller training and test set sized first because these will take a while. The full simulation takes 10 minutes on my old 2.8GHz core i5 laptop.*"
   ]
  },
  {
   "cell_type": "code",
   "execution_count": 4,
   "metadata": {},
   "outputs": [
    {
     "name": "stderr",
     "output_type": "stream",
     "text": [
      "100%|██████████| 50/50 [10:41<00:00, 12.83s/it]\n"
     ]
    }
   ],
   "source": [
    "Ntrain = 1000\n",
    "Ntest = 5000\n",
    "Nsim = 50\n",
    "bag_acc = []\n",
    "rf1_acc = []\n",
    "rf3_acc = []\n",
    "mine_acc = []\n",
    "for sim in tqdm(range(Nsim)):\n",
    "    # Run simulations, collect data\n",
    "    (bag,rf1,rf3,mine) = run_simulation(Ntrain,Ntest)\n",
    "    bag_acc.append(bag)\n",
    "    rf1_acc.append(rf1)\n",
    "    rf3_acc.append(rf3)\n",
    "    mine_acc.append(mine)\n"
   ]
  },
  {
   "cell_type": "markdown",
   "metadata": {},
   "source": [
    "## Part 4 (X / 25 pts) \n",
    "Plot the error rates for each model using a boxplot for each one. The four models should be across the x-axis, and the y-axis should be accuracy."
   ]
  },
  {
   "cell_type": "code",
   "execution_count": 5,
   "metadata": {},
   "outputs": [
    {
     "data": {
      "image/png": "[encoded data removed]",
      "text/plain": [
       "<Figure size 432x288 with 1 Axes>"
      ]
     },
     "metadata": {
      "needs_background": "light"
     },
     "output_type": "display_data"
    }
   ],
   "source": [
    "#Plot the error rates as a box plot by model to complete the assignment.\n",
    "df = pd.DataFrame({'bag': bag_acc, 'rf1': rf1_acc, 'rf3': rf3_acc, 'mine': mine_acc})\n",
    "fig, ax = plt.subplots()\n",
    "df.boxplot(ax = ax, grid = False)\n",
    "ax.axhline(0, color = 'red')\n",
    "ax.set_ylabel('Test accuracy')\n",
    "plt.tight_layout()\n",
    "plt.savefig('comparison.png')"
   ]
  },
  {
   "cell_type": "code",
   "execution_count": null,
   "metadata": {},
   "outputs": [],
   "source": []
  }
 ],
 "metadata": {
  "kernelspec": {
   "display_name": "Python 3",
   "language": "python",
   "name": "python3"
  },
  "language_info": {
   "codemirror_mode": {
    "name": "ipython",
    "version": 3
   },
   "file_extension": ".py",
   "mimetype": "text/x-python",
   "name": "python",
   "nbconvert_exporter": "python",
   "pygments_lexer": "ipython3",
   "version": "3.8.3"
  }
 },
 "nbformat": 4,
 "nbformat_minor": 4
}
