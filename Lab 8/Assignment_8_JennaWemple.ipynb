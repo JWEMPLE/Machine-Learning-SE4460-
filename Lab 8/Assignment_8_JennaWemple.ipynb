{
 "cells": [
  {
   "cell_type": "code",
   "execution_count": 1,
   "metadata": {},
   "outputs": [],
   "source": [
    "# You can import *ANYTHING* you want here.\n",
    "import numpy as np\n",
    "import matplotlib.pyplot as plt\n",
    "import matplotlib as mpl\n",
    "from sklearn.tree import DecisionTreeClassifier\n",
    "from sklearn.ensemble import BaggingClassifier, RandomForestClassifier\n",
    "\n",
    "from sklearn.metrics import accuracy_score\n",
    "import pandas as pd\n",
    "from tqdm import tqdm # this is just a tool to show a progress bar as your simulations are running"
   ]
  },
  {
   "cell_type": "markdown",
   "metadata": {},
   "source": [
    "# Assignment Week 08: Nested Spheres\n",
    "\n",
    "Simulation is an incredibly useful tool in data science.  We can use simulation to evaluate how algorithms perform against ground truth, and how algorithms compare to one another.\n",
    "\n",
    "In this assignment, you will be implementing and extending the nested spheres simulation study found in *Elements of Statistical Learning* page 339. https://web.stanford.edu/~hastie/ElemStatLearn/\n",
    "\n",
    "# Nested Spheres\n",
    "\n",
    "Consider a dataset which contains 10 features $X_1 \\,, X_2 \\,, \\cdots \\,, X_{10}$.  The features are standard independent Gaussian random variables.  That is to say\n",
    "\n",
    "$$ X_j \\sim \\operatorname{Normal}(0,1) \\quad \\forall j = 1 \\dots 10$$\n",
    "\n",
    "We are going to use these features to study a classification problem.  You will have to create the target variable, $Y$ by computing the following rule:\n",
    "\n",
    "$$ Y = \\begin{cases}  1 \\quad \\mbox{ if } \\sum_{j=1}^{10} X^2_j>9.34 \\\\ 0 \\quad  \\mbox{else} \\end{cases}$$\n",
    "\n",
    "# The Simulation Study\n",
    "\n",
    "Follow these steps to complete the assignment. "
   ]
  },
  {
   "cell_type": "markdown",
   "metadata": {},
   "source": [
    "### Part 1 ( X / 25 pts )\n",
    "Write a function, `generate_data`, that takes a dataset size N and creates a dataset according to the rule above, returning the feature matrix `X` and the labels `y`."
   ]
  },
  {
   "cell_type": "code",
   "execution_count": 3,
   "metadata": {},
   "outputs": [
    {
     "name": "stdout",
     "output_type": "stream",
     "text": [
      "[[-0.70730307  0.9694176  -0.20647904  0.56132476  1.39237604 -2.2354558\n",
      "  -1.03312245 -0.08285727 -0.18327725  0.12812399]\n",
      " [-0.27916304 -0.31850482 -0.23206825  0.11952038  0.781421    0.04899866\n",
      "  -2.48074299 -0.71198162 -0.82059634 -1.32801771]\n",
      " [ 1.15038176 -1.07667853  0.64132769  0.3096465   2.06252642  0.95656469\n",
      "  -1.01915446  1.55871102  0.67660432 -1.14739539]\n",
      " [-0.95199441  1.02427113  1.11146244  1.02528326  2.02242597  0.46980942\n",
      "  -1.76815215  1.47484306 -0.95997688 -0.94656403]\n",
      " [ 0.05607037  0.51626717  0.54564267  0.26702548 -1.5630084   0.56419491\n",
      "   0.08319851 -0.60260351  1.33163242  0.62556434]\n",
      " [-0.64377531 -0.92010718 -0.90178962 -0.47743302 -0.42646407 -0.68586741\n",
      "  -0.34510131 -0.24565798 -0.23083251  0.68989671]\n",
      " [ 1.65655409 -0.02367007 -0.10525292 -0.83398002  0.5335897  -0.63811772\n",
      "   0.6551429  -1.15394957  0.43864406 -0.24419574]\n",
      " [-0.20942504  1.81776256  0.8185157   2.05244202 -1.4154029  -0.38712779\n",
      "   1.60035302  0.0099609   0.43859302  1.16078112]\n",
      " [-0.34600586 -1.39943075  0.5357622   1.82434659  0.2014125   0.18235339\n",
      "   0.82626787 -0.21885434  0.11571213 -1.66987187]\n",
      " [-0.70228904  0.42387198 -1.06558104 -0.45045095 -1.37839699 -0.0142275\n",
      "  -0.13030555 -1.20238154  0.53265657 -1.50357637]]\n",
      "[1. 1. 1. 1. 0. 0. 0. 1. 0. 0.]\n"
     ]
    }
   ],
   "source": [
    "def generate_data(N):\n",
    "    # Create feature matrix X and labels y\n",
    "    #np.random.seed(2)\n",
    "    #X = np.random.uniform (0,1, size = (N,10))\n",
    "    X = np.random.normal(0,1, size = (N,10))\n",
    "    #X = np.linspace(0,1,21).reshape(-1,1)\n",
    "    #y = np.floor(np.sum(X**2, axis = 1)/9.34)\n",
    "    #could use np.floor above instead of all the for loops below\n",
    "    #but both work the same so it doesn't matter\n",
    "    \n",
    "    z = np.sum(X**2, axis = 1)\n",
    "    y = np.empty(N)\n",
    "    \n",
    "    for i in range(N):   \n",
    "        if z[i] > 9.34:\n",
    "             y[i] = 1\n",
    "        else:\n",
    "             y[i] = 0\n",
    "        \n",
    "    return X,y\n",
    "\n",
    "x,y = generate_data(10)\n",
    "print(x)\n",
    "print(y)"
   ]
  },
  {
   "cell_type": "markdown",
   "metadata": {},
   "source": [
    "## Part 2 ( X / 25 pts )\n",
    "\n",
    "Write a function `run_simulation` that accepts two numbers, Ntrain and Ntest. It should generate a training set and testing set using your `generate_data` function and then train **four classifiers**. The first should be a bagged decision tree, the second should be a random forest with `max_features=1`, the third should be a random forest with `max_features=3`, and the fourth can be anything you like, for example a random forest with more features or an XGboost model. Use 500 trees in your random forests and the bagged classifier. The function should return the accuracy for each of these models estimated using the training set you generated."
   ]
  },
  {
   "cell_type": "code",
   "execution_count": 4,
   "metadata": {},
   "outputs": [
    {
     "name": "stdout",
     "output_type": "stream",
     "text": [
      "0.7512\n",
      "0.8712\n",
      "0.8578\n",
      "0.8536\n"
     ]
    }
   ],
   "source": [
    "def run_simulation(Ntrain,Ntest):\n",
    "    # Code to generate data and run one simulation\n",
    "    xtrain, ytrain = generate_data(Ntrain)\n",
    "    xtest, ytest = generate_data(Ntest)\n",
    "    \n",
    "    #bagged decision tree classifier\n",
    "    tree = DecisionTreeClassifier(max_depth = 5)\n",
    "    bag = BaggingClassifier(base_estimator= tree, n_estimators=500,random_state=0, n_jobs = -1).fit(xtrain, ytrain)\n",
    "  \n",
    "    #random forest classifiers\n",
    "    rf1 = RandomForestClassifier(n_estimators= 500, min_samples_leaf= 0.001, max_features= 1, min_impurity_decrease= 0.0001, oob_score= True, random_state= 0).fit(xtrain, ytrain)\n",
    "    rf3 = RandomForestClassifier(n_estimators= 500, min_samples_leaf= 0.001, max_features= 3, min_impurity_decrease= 0.0001, oob_score= True, random_state= 0).fit(xtrain, ytrain)\n",
    "    rf5 = RandomForestClassifier(n_estimators= 500, min_samples_leaf= 0.001, max_features= 5, min_impurity_decrease= 0.0001, oob_score= True, random_state= 0).fit(xtrain, ytrain)\n",
    "    \n",
    "    #XGboost classifier\n",
    "    #xgboost = \n",
    "    \n",
    "    #predict from classifiers\n",
    "    ypred_bag = bag.predict(xtest)\n",
    "    ypred_rf1 = rf1.predict(xtest)\n",
    "    ypred_rf3 = rf3.predict(xtest)\n",
    "    ypred_rf5 = rf5.predict(xtest)\n",
    "    #ypred_boost = xgboost.predict(xtest)\n",
    "    \n",
    "    #calculate accuracy of all classifier\n",
    "    bag_accuracy = accuracy_score(ytest, ypred_bag)\n",
    "    rf_mf1_accuracy = accuracy_score(ytest, ypred_rf1)\n",
    "    rf_mf3_accuracy = accuracy_score(ytest, ypred_rf3)\n",
    "    my_classifier_accuracy = accuracy_score(ytest, ypred_rf5)\n",
    "    #my_classifier_accuracy = accuracy_score(ytest, ypred_boost)\n",
    "    \n",
    "    return bag_accuracy, rf_mf1_accuracy, rf_mf3_accuracy, my_classifier_accuracy\n",
    "\n",
    "bag_accuracy, rf_mf1_accuracy, rf_mf3_accuracy, my_classifier_accuracy = run_simulation(1000,5000)\n",
    "\n",
    "print (bag_accuracy)\n",
    "print (rf_mf1_accuracy)\n",
    "print (rf_mf3_accuracy)\n",
    "print (my_classifier_accuracy)\n"
   ]
  },
  {
   "cell_type": "markdown",
   "metadata": {},
   "source": [
    "## Part 3 ( X / 25 pts )\n",
    "\n",
    "Run 50 simulations using a training set of size 1000 and a test set of size 5000 and record all the results in four vectors, one for each type of model. *You should probably debug your code using smaller training and test set sized first because these will take a while. The full simulation takes 10 minutes on my old 2.8GHz core i5 laptop.*"
   ]
  },
  {
   "cell_type": "code",
   "execution_count": 5,
   "metadata": {},
   "outputs": [
    {
     "name": "stderr",
     "output_type": "stream",
     "text": [
      "100%|██████████████████████████████████████████████████████████████████████████████████| 50/50 [19:37<00:00, 23.56s/it]"
     ]
    },
    {
     "name": "stdout",
     "output_type": "stream",
     "text": [
      "[[0.745  0.8552 0.8398 0.8324]\n",
      " [0.7668 0.8736 0.8556 0.8468]\n",
      " [0.736  0.8578 0.8484 0.8442]\n",
      " [0.7482 0.879  0.8578 0.8532]\n",
      " [0.7136 0.8512 0.8284 0.824 ]\n",
      " [0.7276 0.8768 0.8602 0.8554]\n",
      " [0.7388 0.872  0.8508 0.8422]\n",
      " [0.7002 0.8628 0.8404 0.8344]\n",
      " [0.735  0.8548 0.835  0.8278]\n",
      " [0.6978 0.8472 0.819  0.8074]\n",
      " [0.7106 0.8722 0.8526 0.8424]\n",
      " [0.705  0.8656 0.8436 0.838 ]\n",
      " [0.7198 0.8696 0.8514 0.8456]\n",
      " [0.722  0.8524 0.8402 0.832 ]\n",
      " [0.7266 0.8728 0.86   0.8574]\n",
      " [0.7044 0.8508 0.8364 0.8256]\n",
      " [0.7126 0.8654 0.8572 0.85  ]\n",
      " [0.7494 0.8786 0.8594 0.8548]\n",
      " [0.7064 0.8376 0.8204 0.8146]\n",
      " [0.7418 0.8562 0.8434 0.8422]\n",
      " [0.7194 0.883  0.8498 0.848 ]\n",
      " [0.7176 0.871  0.8492 0.8348]\n",
      " [0.7146 0.8684 0.8476 0.8396]\n",
      " [0.7416 0.8774 0.8648 0.8568]\n",
      " [0.7244 0.856  0.8446 0.8398]\n",
      " [0.7132 0.8566 0.846  0.8374]\n",
      " [0.7154 0.8634 0.8414 0.8352]\n",
      " [0.7382 0.8694 0.858  0.8496]\n",
      " [0.803  0.8818 0.8698 0.8612]\n",
      " [0.7838 0.8716 0.8568 0.8496]\n",
      " [0.7262 0.8646 0.842  0.828 ]\n",
      " [0.7376 0.8868 0.8614 0.855 ]\n",
      " [0.6918 0.8688 0.854  0.8484]\n",
      " [0.742  0.859  0.8374 0.831 ]\n",
      " [0.7112 0.866  0.848  0.8428]\n",
      " [0.7064 0.8726 0.8506 0.8464]\n",
      " [0.7182 0.8642 0.8384 0.8346]\n",
      " [0.6992 0.8626 0.8428 0.8338]\n",
      " [0.7166 0.8718 0.8498 0.8408]\n",
      " [0.7312 0.8674 0.8364 0.8274]\n",
      " [0.7178 0.865  0.8356 0.8322]\n",
      " [0.7002 0.867  0.8462 0.8324]\n",
      " [0.72   0.8674 0.838  0.8288]\n",
      " [0.734  0.8704 0.8478 0.8426]\n",
      " [0.7534 0.8752 0.8564 0.848 ]\n",
      " [0.7328 0.8616 0.8366 0.8332]\n",
      " [0.7002 0.8634 0.842  0.8304]\n",
      " [0.756  0.8798 0.8606 0.8566]\n",
      " [0.7012 0.859  0.8404 0.8358]\n",
      " [0.688  0.8652 0.8446 0.8374]]\n"
     ]
    },
    {
     "name": "stderr",
     "output_type": "stream",
     "text": [
      "\n"
     ]
    }
   ],
   "source": [
    "#Setup code to record results here:\n",
    "Nsim = 50\n",
    "results = np.empty(shape = (Nsim,4))\n",
    "\n",
    "#Loop to run simulations:\n",
    "for sim in tqdm(range(Nsim)):\n",
    "    # Run simulations, collect data\n",
    "    results[sim,:] = run_simulation(1000,5000)\n",
    "    \n",
    "print(results)\n",
    "    "
   ]
  },
  {
   "cell_type": "markdown",
   "metadata": {},
   "source": [
    "## Part 4 (X / 25 pts) \n",
    "Plot the error rates for each model using a boxplot for each one. The four models should be across the x-axis, and the y-axis should be accuracy."
   ]
  },
  {
   "cell_type": "code",
   "execution_count": 6,
   "metadata": {},
   "outputs": [
    {
     "data": {
      "image/png": "[encoded data removed]",
      "text/plain": [
       "<Figure size 720x480 with 1 Axes>"
      ]
     },
     "metadata": {
      "needs_background": "light"
     },
     "output_type": "display_data"
    }
   ],
   "source": [
    "#Plot the error rates as a box plot by model to complete the assignment.\n",
    "\n",
    "# Multiple box plots on one Axes\n",
    "fig, ax = plt.subplots(dpi=120)\n",
    "data = [results[:,0],results[:,1], results[:,2], results[:,3]]\n",
    "ax.boxplot(data)\n",
    "\n",
    "plt.xlabel(\"Model Number\") #x axis label\n",
    "plt.ylabel(\"Accuracy\") #y axis label\n",
    "plt.title('Error Rates for Each Model') #adding a title to the plot\n",
    "\n",
    "plt.show()\n"
   ]
  },
  {
   "cell_type": "code",
   "execution_count": null,
   "metadata": {},
   "outputs": [],
   "source": []
  }
 ],
 "metadata": {
  "kernelspec": {
   "display_name": "Python 3",
   "language": "python",
   "name": "python3"
  },
  "language_info": {
   "codemirror_mode": {
    "name": "ipython",
    "version": 3
   },
   "file_extension": ".py",
   "mimetype": "text/x-python",
   "name": "python",
   "nbconvert_exporter": "python",
   "pygments_lexer": "ipython3",
   "version": "3.8.3"
  }
 },
 "nbformat": 4,
 "nbformat_minor": 4
}
