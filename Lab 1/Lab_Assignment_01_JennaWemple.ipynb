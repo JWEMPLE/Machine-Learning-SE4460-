{
 "cells": [
  {
   "cell_type": "markdown",
   "metadata": {},
   "source": [
    "# Grade: /100 points\n",
    "\n",
    "# Lab Assignment 01: Supervised learning, Linear models, and Loss functions\n",
    "\n",
    "In this Lab assignment, you're going to write your own methods to fit a linear model using either an OLS or LAD cost function.  \n",
    "\n",
    "## Data set \n",
    "\n",
    "For this assignment, we will examine some data representing possums in Australia and New Guinea. The data frame contains 46 observations on the following 6 variables:\n",
    "\n",
    "* sex: Sex, either m (male) or f (female).\n",
    "* age: Age in years.\n",
    "* headL: Head length, in mm.\n",
    "* skullW: Skull width, in mm.\n",
    "* totalL: Total length, in cm.\n",
    "* tailL: Tail length, in cm.\n",
    "\n",
    "## Follow These Steps before submitting\n",
    "Once you are finished, ensure to complete the following steps.\n",
    "\n",
    "1.  Restart your kernel by clicking 'Kernel' > 'Restart & Run All'.\n",
    "\n",
    "2.  Fix any errors which result from this.\n",
    "\n",
    "3.  Repeat steps 1. and 2. until your notebook runs without errors.\n",
    "\n",
    "4.  Submit your completed notebook to OWL by the deadline.\n",
    "\n",
    "\n",
    "## Preliminaries"
   ]
  },
  {
   "cell_type": "code",
   "execution_count": 2,
   "metadata": {},
   "outputs": [],
   "source": [
    "# Import all the necessary packages: \n",
    "import matplotlib.pyplot as plt \n",
    "import numpy as np\n",
    "import pandas as pd\n",
    "import scipy.stats as ss \n",
    "import scipy.optimize as so\n",
    "import statsmodels.api as sm\n",
    "import statsmodels.formula.api as smf\n",
    "\n",
    "%matplotlib inline"
   ]
  },
  {
   "cell_type": "markdown",
   "metadata": {},
   "source": [
    "\n",
    "## Part 1\n",
    "### Question 1.1:  /10 points\n",
    "\n",
    "\n",
    "Read in the `possum.csv` file as a `pandas.DataFrame`.  Investigate the relationship between the possum's age and it's tail length by plotting a scatter plot of the `age` and `tailL` columns. You might want to add an `alpha` in case some data are overlapping. "
   ]
  },
  {
   "cell_type": "code",
   "execution_count": 3,
   "metadata": {},
   "outputs": [
    {
     "data": {
      "image/png": "[encoded data removed]",
      "text/plain": [
       "<Figure size 432x288 with 1 Axes>"
      ]
     },
     "metadata": {
      "needs_background": "light"
     },
     "output_type": "display_data"
    }
   ],
   "source": [
    "# Read in the data with pandas\n",
    "possum_data = pd.read_csv(\"possum.csv\") #file located in directory so don't need to list entire file path\n",
    "\n",
    "# Make the scatter plot (don't forget the axis labels)\n",
    "possum_data.head()\n",
    "possum_age_data = possum_data['age'] #selecting the age column and assigning it to a variable\n",
    "possum_tailL_data = possum_data['tailL'] #selecting the tail length column and assigning it to a variable\n",
    "\n",
    "possum_data.plot(x = \"age\", y = \"tailL\", kind = 'scatter', alpha = 0.5) #using pandas to create a scatter plot, added an alpha to change the colour of the plot\n",
    "plt.title('Possum Tail Length vs. Possum Age') #adding a title to the plot\n",
    "plt.xlabel(\"Age (years)\") #x axis label\n",
    "plt.ylabel(\"Tail Length (cm)\") #y axis label\n",
    "plt.show() #shows the generated plot\n"
   ]
  },
  {
   "cell_type": "markdown",
   "metadata": {},
   "source": [
    "### Question 1.2: /5 point\n",
    "\n",
    "Recall that the linear model, we obtain predictions by computing \n",
    "\n",
    "$$ \\hat{\\mathbf{y}} = \\mathbf{X} \\beta $$\n",
    "\n",
    "Here, $\\mathbf{X}$ is a design matrix which includes a column of ones, $\\beta$ are coefficients, and $\\mathbf{y}$ are outcomes.  Write a function `linearModelPredict` to compute linear model predictions given data and a coefficient vector.  The function should take as it's arguments a 1d-array of coefficients `b` and the design matrix `X` as a 2d-array and return linear model predictions `yp`.\n",
    "\n",
    "Test the function by setting \n",
    "\n",
    "```\n",
    "X = np.array([[1,0],[1,-1],[1,2]])\n",
    "b = np.array([0.1,0.3])\n",
    "```\n",
    "and call you function with these values! \n",
    "\n",
    "Report $\\hat{\\mathbf{y}}$. \n",
    "What is the dimensionality of the numpy-array that you get back? \n",
    "\n",
    "Hint:  Read the documentation for `np.dot` or the `@` operator in `numpy`."
   ]
  },
  {
   "cell_type": "code",
   "execution_count": 4,
   "metadata": {},
   "outputs": [
    {
     "name": "stdout",
     "output_type": "stream",
     "text": [
      "X@b is: [ 0.1 -0.2  0.7]\n"
     ]
    }
   ],
   "source": [
    "def linearModelPredict(b,X):\n",
    "    yp = np.dot(X, b)\n",
    "    return yp\n",
    "\n",
    "X = np.array([[1,0],[1,-1],[1,2]])\n",
    "b = np.array([0.1,0.3])\n",
    "\n",
    "print(\"X@b is:\", linearModelPredict(b,X))\n",
    "\n",
    "# Always important: Test the new function you have written! \n",
    "# By the way: What happens when b is a 2d-array?  \n"
   ]
  },
  {
   "cell_type": "markdown",
   "metadata": {},
   "source": [
    "### Question 1.3: /15 points\n",
    "\n",
    "Write a function `linearModelLossRSS` which computes and returns the loss function for an OLS model parameterized by $\\beta$, as well as the gradient of the loss.  The function should take as its first argument a 1d-array `beta` of coefficients for the linear model, as its second argument the design matrix `X` as a 2d-array, and as its third argument a 1d-array `y` of observed outcomes.\n",
    "\n",
    "Test the function with the values \n",
    "\n",
    "```\n",
    "X = np.array([[1,0],[1,-1],[1,2]])\n",
    "b = np.array([0.1,0.3])\n",
    "y = np.array([0,0.4,2]) \n",
    "```\n",
    "\n",
    "Report RSS and gradient. \n",
    "Written answer: To minimize the cost do you need increase or decrease the value of the parameters? "
   ]
  },
  {
   "cell_type": "code",
   "execution_count": 5,
   "metadata": {},
   "outputs": [
    {
     "data": {
      "text/plain": [
       "(2.06, [-3.6, -4.0])"
      ]
     },
     "execution_count": 5,
     "metadata": {},
     "output_type": "execute_result"
    }
   ],
   "source": [
    "def linearModelLossRSS(b,x,y):\n",
    "\n",
    "    predict_y = linearModelPredict(b,x) #get model prediction\n",
    "\n",
    "    res = (y - predict_y) #get vector of residuals \n",
    "    RSS = np.sum (res**2) #get the residuals sum of squares\n",
    "    gradient = [-2*np.sum(res), -2*np.sum(res*x[:,1])] #get the gradient & only select second column of x since first is all 1s\n",
    "\n",
    "    #return rss and gradient\n",
    "    return (RSS, gradient)\n",
    "\n",
    "X = np.array([[1,0],[1,-1],[1,2]])\n",
    "b = np.array([0.1,0.3])\n",
    "y = np.array([0,0.4,2])\n",
    "\n",
    "linearModelLossRSS(b,X,y)"
   ]
  },
  {
   "cell_type": "code",
   "execution_count": null,
   "metadata": {},
   "outputs": [],
   "source": [
    "#Written answer: To minimze the cost you need to increase the value of both of the parameters because the gradient is negative for both parameters"
   ]
  },
  {
   "cell_type": "markdown",
   "metadata": {},
   "source": [
    "### Question 1.4:  /15 points. \n",
    "\n",
    "Now that you've implemented a loss function in question 3, it is now time to minimize it!\n",
    "\n",
    "Write a function `linearModelFit` to fit a linear model.  The function should take as its first argument the design matrix `X` as a 2d-array, as its second argument a 1d-array `y` of outcomes, and as its third argument a function  `lossfcn` which returns as a tuple the value of the loss, as well as the gradient of the loss. As a result, it should return the estimated betas and the R2. \n",
    "\n",
    "Test the function with the values: \n",
    "```\n",
    "X = np.array([[1,0],[1,-1],[1,2]])\n",
    "b = np.array([0.1,0.3])\n",
    "y = np.array([0,0.4,2]) \n",
    "```\n",
    "\n",
    "Report best parameters and the fitted R2. \n"
   ]
  },
  {
   "cell_type": "code",
   "execution_count": 32,
   "metadata": {},
   "outputs": [
    {
     "data": {
      "text/plain": [
       "(array([0.6, 0.6]), 0.75)"
      ]
     },
     "execution_count": 32,
     "metadata": {},
     "output_type": "execute_result"
    }
   ],
   "source": [
    "def linearModelFit(x,y,lossfcn):\n",
    "    #b has to have the same dimensions as X has columns - 2d array\n",
    "    \n",
    "    bstart = [0,0] # set some starting values - set to zero but could technically set to anything\n",
    "    Result = so.minimize(lossfcn, bstart, args=(X,y), jac=True) #call the optimization function\n",
    "    \n",
    "    res = linearModelLossRSS (Result.x,x,y) #residual recalculated\n",
    "    y_average = np.average(y) #taking the average\n",
    "    RSS = res[0] #retrieving just RSS\n",
    "    TSS = sum((y-y_average)**2) #calculating TSS\n",
    "    \n",
    "    R2 = 1 - (RSS/TSS) #calculating R2\n",
    "   \n",
    "    return(Result.x, R2) # 0= no fit, 1= perfect fit\n",
    "\n",
    "X = np.array([[1,0],[1,-1],[1,2]])\n",
    "b = np.array([0.1,0.3])\n",
    "y = np.array([0,0.4,2]) \n",
    "\n",
    "linearModelFit (X,y,linearModelLossRSS)"
   ]
  },
  {
   "cell_type": "markdown",
   "metadata": {},
   "source": [
    "### Question 1.5: /15 points\n",
    "\n",
    "Use the above functions to fit your model to the possum data. Then use your model and the fitted parameters to make predictions along a grid of equally spaced possum ages.  \n",
    "\n",
    "Plot the data and add a line for the predicted values. You can get these by generating a new X-matrix with equally space ages (using for example np.linspace). Also report the R2 value for the fit. \n",
    "\n"
   ]
  },
  {
   "cell_type": "code",
   "execution_count": 30,
   "metadata": {},
   "outputs": [
    {
     "name": "stdout",
     "output_type": "stream",
     "text": [
      "R2:0.22\n"
     ]
    },
    {
     "data": {
      "image/png": "[encoded data removed]",
      "text/plain": [
       "<Figure size 432x288 with 1 Axes>"
      ]
     },
     "metadata": {
      "needs_background": "light"
     },
     "output_type": "display_data"
    }
   ],
   "source": [
    "#Need to fit the data\n",
    "#Make the design matrix using np.c_ \n",
    "y = possum_data['tailL'] #selecting the tail length\n",
    "#OR y = possum_data.tailL.values\n",
    "X =  np.c_[np.ones(possum_data.shape[0]), possum_data['age']] #creating x matrix by adding a column of 1's the same size as possum data\n",
    "\n",
    "# Call your fitting function \n",
    "Result = linearModelFit(X,y,linearModelLossRSS) #fitting the model and returning parameters and R2\n",
    "b = Result[0] # saving the parameters under b or couldve done b=Result.x\n",
    "\n",
    "# Create the scatter plot (see question 1.1)\n",
    "possum_data.plot(x = \"age\", y = \"tailL\", kind = 'scatter', alpha = 0.5) #using pandas to create a scatter plot, added an alpha to change the colour of the plot\n",
    "plt.title('Possum Tail Length vs. Possum Age') #adding a title to the plot\n",
    "plt.xlabel(\"Age (years)\") #x axis label\n",
    "plt.ylabel(\"Tail Length (cm)\") #y axis label\n",
    "\n",
    "# Create a new X matrix with equally space data\n",
    "x_grid= np.linspace(possum_data['age'].min(), possum_data['age'].max(), num = np.size(possum_data['age']))#get grid\n",
    "new_x = np.c_[np.ones(possum_data.shape[0]), x_grid]\n",
    "y_predict = linearModelPredict(b,new_x) #get new y_predict based on x values\n",
    "\n",
    "# Add the line to the graph \n",
    "plt.plot(x_grid, y_predict, color='red')\n",
    "\n",
    "# Report R2\n",
    "print(\"R2:\" +str(\"{:.2f}\".format(Result[1])));\n"
   ]
  },
  {
   "cell_type": "markdown",
   "metadata": {},
   "source": [
    "## Part 2: LAD Regression\n",
    "\n",
    "### Question 2.1:  /15 points\n",
    "\n",
    "In the previous section, we worked with the squared loss.  Now, we'll implement a linear model with least absolute deviation loss.\n",
    "\n",
    "Write a function `linearModelLossLAD` which computes the least absolute deviation loss function for a linear model  parameterized by $\\beta$, as well as the gradient of the loss.  The function should take as its first argument a 1d-array `beta` of coefficients for the linear model, as its second argument the design matrix `X` as a 2d-array, and as its third argument a 1d-array `y` of observed outcomes.\n",
    "\n",
    "Test the function with the values \n",
    "\n",
    "```\n",
    "X = np.array([[1,0],[1,-1],[1,2]])\n",
    "b = np.array([0.1,0.3])\n",
    "y = np.array([0,0.4,2]) \n",
    "```\n",
    "\n",
    "Report RSS and gradient. "
   ]
  },
  {
   "cell_type": "code",
   "execution_count": 39,
   "metadata": {},
   "outputs": [
    {
     "name": "stdout",
     "output_type": "stream",
     "text": [
      "LAD: 2.0 \n",
      "Gradient:  [-1.0, -1.0]\n"
     ]
    }
   ],
   "source": [
    "def linearModelLossLAD(b,x,y):\n",
    "    predict_y = linearModelPredict(b,x) #get model prediction\n",
    "    \n",
    "    res = (y - predict_y) #get vector of residuals \n",
    "    SRES = np.sign(res); \n",
    "    \n",
    "    sabs_dev = np.sum (abs(res)) #get the residuals sum of absolute errors\n",
    "    gradient = [-np.sum(np.sign(res)), -np.sum(np.sign(res)*x[:,1])] #get the gradient\n",
    "\n",
    "    #return LAD and gradient\n",
    "    return (sabs_dev, gradient)\n",
    "\n",
    "X = np.array([[1,0],[1,-1],[1,2]])\n",
    "b = np.array([0.1,0.3])\n",
    "y = np.array([0,0.4,2])\n",
    "\n",
    "LAD, gradient = linearModelLossLAD(b,X,y)\n",
    "\n",
    "print(\"LAD:\", LAD, \"\\nGradient: \", gradient)"
   ]
  },
  {
   "cell_type": "markdown",
   "metadata": {},
   "source": [
    "### Question 2.2: /10 points\n",
    "\n",
    "\n",
    "Use the above functions to fit your LAD model. Use your model to make predictions along a grid of equally spaced possum ages.  Once fit, the code below will plot the fit.  The code will also print the R squared value on the plot.\n",
    "\n",
    "Written answer: What is the difference in the fit obtained with an L1 as compared to the L2 cost function? Which one has a higher R2 value? Why?  \n",
    "\n",
    "Note: If you recieve an error from the optimizer, it may be because the loss function for the LAD model is not differentiable at its minimum.  This will lead to some gradient based optimiers to fail to converge.  If this happens to you then pass `method=\"Powell\"` to `scipy.optimize.minimize`.\n",
    "\n"
   ]
  },
  {
   "cell_type": "code",
   "execution_count": 1,
   "metadata": {},
   "outputs": [
    {
     "ename": "NameError",
     "evalue": "name 'possum_data' is not defined",
     "output_type": "error",
     "traceback": [
      "\u001b[1;31m---------------------------------------------------------------------------\u001b[0m",
      "\u001b[1;31mNameError\u001b[0m                                 Traceback (most recent call last)",
      "\u001b[1;32m<ipython-input-1-371c26623fa9>\u001b[0m in \u001b[0;36m<module>\u001b[1;34m\u001b[0m\n\u001b[1;32m----> 1\u001b[1;33m \u001b[0my\u001b[0m \u001b[1;33m=\u001b[0m \u001b[0mpossum_data\u001b[0m\u001b[1;33m[\u001b[0m\u001b[1;34m'tailL'\u001b[0m\u001b[1;33m]\u001b[0m \u001b[1;31m#getting real y values\u001b[0m\u001b[1;33m\u001b[0m\u001b[1;33m\u001b[0m\u001b[0m\n\u001b[0m\u001b[0;32m      2\u001b[0m \u001b[0mx\u001b[0m \u001b[1;33m=\u001b[0m \u001b[0mnp\u001b[0m\u001b[1;33m.\u001b[0m\u001b[0mc_\u001b[0m\u001b[1;33m[\u001b[0m\u001b[0mnp\u001b[0m\u001b[1;33m.\u001b[0m\u001b[0mones\u001b[0m\u001b[1;33m(\u001b[0m\u001b[0mage\u001b[0m\u001b[1;33m.\u001b[0m\u001b[0msize\u001b[0m\u001b[1;33m)\u001b[0m\u001b[1;33m,\u001b[0m \u001b[0mpossum_data\u001b[0m\u001b[1;33m[\u001b[0m\u001b[1;34m'age'\u001b[0m\u001b[1;33m]\u001b[0m\u001b[1;33m]\u001b[0m\u001b[1;33m\u001b[0m\u001b[1;33m\u001b[0m\u001b[0m\n\u001b[0;32m      3\u001b[0m \u001b[0mb_LAD\u001b[0m\u001b[1;33m,\u001b[0m \u001b[0mR2\u001b[0m \u001b[1;33m=\u001b[0m \u001b[0mlinearModelFit\u001b[0m\u001b[1;33m(\u001b[0m\u001b[0mx\u001b[0m\u001b[1;33m,\u001b[0m\u001b[0my\u001b[0m\u001b[1;33m,\u001b[0m \u001b[0mlossfcn\u001b[0m\u001b[1;33m=\u001b[0m\u001b[0mlinearModelLossLAD\u001b[0m\u001b[1;33m)\u001b[0m\u001b[1;33m\u001b[0m\u001b[1;33m\u001b[0m\u001b[0m\n\u001b[0;32m      4\u001b[0m \u001b[1;33m\u001b[0m\u001b[0m\n\u001b[0;32m      5\u001b[0m \u001b[1;31m# Create a new X matrix with equally space data\u001b[0m\u001b[1;33m\u001b[0m\u001b[1;33m\u001b[0m\u001b[1;33m\u001b[0m\u001b[0m\n",
      "\u001b[1;31mNameError\u001b[0m: name 'possum_data' is not defined"
     ]
    }
   ],
   "source": [
    "y = possum_data['tailL'] #getting real y values\n",
    "x = np.c_[np.ones(age.size), possum_data['age']]\n",
    "b_LAD, R2 = linearModelFit(x,y, lossfcn=linearModelLossLAD)\n",
    "\n",
    "# Create a new X matrix with equally space data\n",
    "x_grid = np.arange(possum_data['age'].min(),possum_data['age'].max()+1)\n",
    "x_new = np.c_[np.ones(x_grid.size), x_grid]\n",
    "y_predict = linearModelPredict(b_LAD, x_new)\n",
    "\n",
    "#Now create the plot\n",
    "possum_data.plot(x = \"age\", y = \"tailL\", kind = 'scatter', alpha = 0.5) #using pandas to create a scatter plot, added an alpha to change the colour of the plot\n",
    "plt.title('Possum Tail Length vs. Possum Age') #adding a title to the plot\n",
    "plt.xlabel(\"Age (years)\") #x axis label\n",
    "plt.ylabel(\"Tail Length (cm)\") #y axis label\n",
    "\n",
    "y_predict_LAD = linearModelPredict(b_LAD,x_new) #get new y_predict based on x values\n",
    "\n",
    "# Add the line to the graph \n",
    "plt.plot(x_grid, y_predict_LAD, color='purple')\n",
    "\n",
    "#Report R2\n",
    "print(\"R2:\" +str(\"{:.2f}\".format(R2)));\n"
   ]
  },
  {
   "cell_type": "code",
   "execution_count": null,
   "metadata": {},
   "outputs": [],
   "source": [
    "#Written answer: \n",
    "#L2 (OLS) has a higher R2 value because big errors count relatively more than \n",
    "#small errors. You can see there is an outlier at age 9, tail length 55, \n",
    "#that effected the fit for L2 (OLS) significantly more than it did for\n",
    "#L1 (LAD).This is because for L2 (OLS) minimized the RSS and in turn this\n",
    "#maximizes the R2"
   ]
  },
  {
   "cell_type": "markdown",
   "metadata": {},
   "source": [
    "### Question 2.3: /15 points\n",
    "\n",
    "Fit both an OLS model and a LAD model with `statsmodels`.  In no more than two sentences, comment on the rsquared values from `statsmodels` and the rsquared values from your models. Are they similar?"
   ]
  },
  {
   "cell_type": "code",
   "execution_count": 61,
   "metadata": {},
   "outputs": [
    {
     "name": "stdout",
     "output_type": "stream",
     "text": [
      "OLS R2: 0.22\n",
      "LAD R2: nan\n"
     ]
    },
    {
     "data": {
      "text/plain": [
       "[<matplotlib.lines.Line2D at 0x16224398ca0>]"
      ]
     },
     "execution_count": 61,
     "metadata": {},
     "output_type": "execute_result"
    },
    {
     "data": {
      "image/png": "[encoded data removed]",
      "text/plain": [
       "<Figure size 432x288 with 1 Axes>"
      ]
     },
     "metadata": {
      "needs_background": "light"
     },
     "output_type": "display_data"
    }
   ],
   "source": [
    "y = possum_data['tailL'] #retrieving y values\n",
    "x = np.c_[np.ones(possum_data.shape[0]), possum_data['age']] #creating x matrix by adding a column of 1's the same size as possum data\n",
    "\n",
    "model_OLS = sm.OLS(y,x) #calling the OLS function from the stats lib -recieves inputs and outputs and calculates\n",
    "result_OLS = model_OLS.fit() #fit the model\n",
    "b_OLS = np.array([result_OLS.params.const, result_OLS.params.x1]) #extracting parameters and storing\n",
    "\n",
    "model_LAD = smf.quantreg(formula=\"tailL~age\", data=possum_data) #LAD model created\n",
    "result_LAD = model_LAD.fit(q=0.5) #fit the model\n",
    "b_LAD = np.array([result_LAD.params.Intercept, result_LAD.params.age])#extracting parameters and storing\n",
    "\n",
    "#lossfunction_result = linearModelLossLAD(b_LAD, x, y)\n",
    "#RSS = lossfunction_result[0] #or could've done RSS linearModelLossLAD(b_LAD, x, y)[0]\n",
    "#TSS = np.sum(np.abs(y-np.average(y)))\n",
    "#R2 = 1 - (RSS/TSS)\n",
    "\n",
    "# Report R2's\n",
    "print(\"OLS R2: \" +str(\"{:.2f}\".format(result_OLS.rsquared))) # 0= no fit, 1= perfect fit\n",
    "print(\"LAD R2: \" +str(\"{:.2f}\".format(result_LAD.rsquared))) # 0= no fit, 1= perfect fit\n",
    "\n",
    "#Now create the plot\n",
    "possum_data.plot(x = \"age\", y = \"tailL\", kind = 'scatter', alpha = 0.5) #using pandas to create a scatter plot, added an alpha to change the colour of the plot\n",
    "plt.title('Possum Tail Length vs. Possum Age') #adding a title to the plot\n",
    "plt.xlabel(\"Age (years)\") #x axis label\n",
    "plt.ylabel(\"Tail Length (cm)\") #y axis label\n",
    "\n",
    "# Create a new X matrix with equally space data\n",
    "x_grid= np.linspace(possum_data['age'].min(), possum_data['age'].max(), num = np.size(possum_data['age']))#get grid\n",
    "new_x = np.c_[np.ones(possum_data.shape[0]), x_grid]\n",
    "\n",
    "y_predict_OLS = linearModelPredict(b_OLS,new_x) #get new y_predict based on x values\n",
    "y_predict_LAD = linearModelPredict(b_LAD,new_x) #get new y_predict based on x values\n",
    "\n",
    "\n",
    "# Add the line to the graph \n",
    "plt.plot(x_grid, y_predict_OLS, color='red')\n",
    "plt.plot(x_grid, y_predict_LAD, color='purple')"
   ]
  },
  {
   "cell_type": "code",
   "execution_count": null,
   "metadata": {},
   "outputs": [],
   "source": [
    "#Written Answer: \n",
    "#The R2 value for OLS is identical, 0.22 for both cases\n",
    "#But the R2 value for LAD in this case is \"nan\" \n",
    "#whereas before 0.13 was calculated"
   ]
  }
 ],
 "metadata": {
  "kernelspec": {
   "display_name": "Python 3",
   "language": "python",
   "name": "python3"
  },
  "language_info": {
   "codemirror_mode": {
    "name": "ipython",
    "version": 3
   },
   "file_extension": ".py",
   "mimetype": "text/x-python",
   "name": "python",
   "nbconvert_exporter": "python",
   "pygments_lexer": "ipython3",
   "version": "3.8.3"
  }
 },
 "nbformat": 4,
 "nbformat_minor": 4
}
