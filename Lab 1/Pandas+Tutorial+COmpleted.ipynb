{
 "cells": [
  {
   "cell_type": "markdown",
   "metadata": {},
   "source": [
    "# Pandas Tutorial\n",
    "\n",
    "`pandas` (short for Panel Data) is a python library which allows users to use R-like dataframes.  The functions mimic R's `data.frame` closely as they were the inspiration for `pandas`.\n",
    "\n",
    "In this short tutorial, we'll go through some of the basic functionality of pandas.  **The library is very expansive, and you are encouraged to explore the documentation on your own**. I'm discovering new things about the library every day! At the end of this tutorial, you'll be able to work in data in pandas at a very basic level."
   ]
  },
  {
   "cell_type": "markdown",
   "metadata": {},
   "source": [
    "# Reading Data\n",
    "\n",
    "Pandas offers lots of ways to read data into python. The most ubiqutous is likely `read_csv` which does what it says it does.\n",
    "\n",
    "You can also read data from...:\n",
    "\n",
    "* text files\n",
    "* SQL databases \n",
    "* JSON files\n",
    "* Google Big Query\n",
    "\n",
    "and more.\n",
    "\n",
    "Check out the documentation on I/O for more on reading and writing data.  See here: https://pandas.pydata.org/pandas-docs/stable/user_guide/io.html"
   ]
  },
  {
   "cell_type": "code",
   "execution_count": 1,
   "metadata": {},
   "outputs": [
    {
     "data": {
      "text/html": [
       "<div>\n",
       "<style scoped>\n",
       "    .dataframe tbody tr th:only-of-type {\n",
       "        vertical-align: middle;\n",
       "    }\n",
       "\n",
       "    .dataframe tbody tr th {\n",
       "        vertical-align: top;\n",
       "    }\n",
       "\n",
       "    .dataframe thead th {\n",
       "        text-align: right;\n",
       "    }\n",
       "</style>\n",
       "<table border=\"1\" class=\"dataframe\">\n",
       "  <thead>\n",
       "    <tr style=\"text-align: right;\">\n",
       "      <th></th>\n",
       "      <th>created_at</th>\n",
       "      <th>apparentTemperature</th>\n",
       "      <th>humidity</th>\n",
       "      <th>precipIntensity</th>\n",
       "      <th>precipProbability</th>\n",
       "      <th>precipType</th>\n",
       "      <th>pressure</th>\n",
       "      <th>visibility</th>\n",
       "      <th>windBearing</th>\n",
       "      <th>windSpeed</th>\n",
       "      <th>wr</th>\n",
       "    </tr>\n",
       "  </thead>\n",
       "  <tbody>\n",
       "    <tr>\n",
       "      <th>0</th>\n",
       "      <td>2018-01-02 06:28:33</td>\n",
       "      <td>-23.27</td>\n",
       "      <td>0.83</td>\n",
       "      <td>0.0</td>\n",
       "      <td>0.0</td>\n",
       "      <td>NoPrecip</td>\n",
       "      <td>1031.23</td>\n",
       "      <td>16.093</td>\n",
       "      <td>240.0</td>\n",
       "      <td>16.56</td>\n",
       "      <td>9.0</td>\n",
       "    </tr>\n",
       "    <tr>\n",
       "      <th>1</th>\n",
       "      <td>2018-01-02 06:58:21</td>\n",
       "      <td>-23.27</td>\n",
       "      <td>0.83</td>\n",
       "      <td>0.0</td>\n",
       "      <td>0.0</td>\n",
       "      <td>NoPrecip</td>\n",
       "      <td>1031.23</td>\n",
       "      <td>16.093</td>\n",
       "      <td>240.0</td>\n",
       "      <td>16.56</td>\n",
       "      <td>10.0</td>\n",
       "    </tr>\n",
       "    <tr>\n",
       "      <th>2</th>\n",
       "      <td>2018-01-02 07:27:11</td>\n",
       "      <td>-24.22</td>\n",
       "      <td>0.83</td>\n",
       "      <td>0.0</td>\n",
       "      <td>0.0</td>\n",
       "      <td>NoPrecip</td>\n",
       "      <td>1030.51</td>\n",
       "      <td>16.093</td>\n",
       "      <td>199.0</td>\n",
       "      <td>20.54</td>\n",
       "      <td>10.0</td>\n",
       "    </tr>\n",
       "    <tr>\n",
       "      <th>3</th>\n",
       "      <td>2018-01-02 07:58:38</td>\n",
       "      <td>-24.22</td>\n",
       "      <td>0.83</td>\n",
       "      <td>0.0</td>\n",
       "      <td>0.0</td>\n",
       "      <td>NoPrecip</td>\n",
       "      <td>1030.51</td>\n",
       "      <td>16.093</td>\n",
       "      <td>199.0</td>\n",
       "      <td>20.54</td>\n",
       "      <td>7.0</td>\n",
       "    </tr>\n",
       "    <tr>\n",
       "      <th>4</th>\n",
       "      <td>2018-01-02 08:27:15</td>\n",
       "      <td>-19.47</td>\n",
       "      <td>0.85</td>\n",
       "      <td>0.0</td>\n",
       "      <td>0.0</td>\n",
       "      <td>NoPrecip</td>\n",
       "      <td>1030.29</td>\n",
       "      <td>16.093</td>\n",
       "      <td>255.0</td>\n",
       "      <td>6.43</td>\n",
       "      <td>18.0</td>\n",
       "    </tr>\n",
       "  </tbody>\n",
       "</table>\n",
       "</div>"
      ],
      "text/plain": [
       "           created_at  apparentTemperature  humidity  precipIntensity  \\\n",
       "0 2018-01-02 06:28:33               -23.27      0.83              0.0   \n",
       "1 2018-01-02 06:58:21               -23.27      0.83              0.0   \n",
       "2 2018-01-02 07:27:11               -24.22      0.83              0.0   \n",
       "3 2018-01-02 07:58:38               -24.22      0.83              0.0   \n",
       "4 2018-01-02 08:27:15               -19.47      0.85              0.0   \n",
       "\n",
       "   precipProbability precipType  pressure  visibility  windBearing  windSpeed  \\\n",
       "0                0.0   NoPrecip   1031.23      16.093        240.0      16.56   \n",
       "1                0.0   NoPrecip   1031.23      16.093        240.0      16.56   \n",
       "2                0.0   NoPrecip   1030.51      16.093        199.0      20.54   \n",
       "3                0.0   NoPrecip   1030.51      16.093        199.0      20.54   \n",
       "4                0.0   NoPrecip   1030.29      16.093        255.0       6.43   \n",
       "\n",
       "     wr  \n",
       "0   9.0  \n",
       "1  10.0  \n",
       "2  10.0  \n",
       "3   7.0  \n",
       "4  18.0  "
      ]
     },
     "metadata": {},
     "output_type": "display_data"
    }
   ],
   "source": [
    "import pandas as pd\n",
    "import numpy as np\n",
    "from IPython.display import display\n",
    "import matplotlib.pyplot as plt\n",
    "\n",
    "df = pd.read_csv('2018_data.csv', parse_dates=['created_at'])\n",
    "\n",
    "#Display the top 5 rows of the dataframe in HTML\n",
    "display(df.head())"
   ]
  },
  {
   "cell_type": "markdown",
   "metadata": {},
   "source": [
    "# The Basics of Data Manipulation\n",
    "\n",
    "Dataframes are like numpy arrays but with more functionality.  If we want to access a column, we can use the `.iloc` or `.loc` method.\n",
    "\n",
    "For more, see here: https://pandas.pydata.org/pandas-docs/stable/user_guide/indexing.html"
   ]
  },
  {
   "cell_type": "code",
   "execution_count": 2,
   "metadata": {
    "scrolled": false
   },
   "outputs": [
    {
     "data": {
      "text/html": [
       "<div>\n",
       "<style scoped>\n",
       "    .dataframe tbody tr th:only-of-type {\n",
       "        vertical-align: middle;\n",
       "    }\n",
       "\n",
       "    .dataframe tbody tr th {\n",
       "        vertical-align: top;\n",
       "    }\n",
       "\n",
       "    .dataframe thead th {\n",
       "        text-align: right;\n",
       "    }\n",
       "</style>\n",
       "<table border=\"1\" class=\"dataframe\">\n",
       "  <thead>\n",
       "    <tr style=\"text-align: right;\">\n",
       "      <th></th>\n",
       "      <th>created_at</th>\n",
       "      <th>wr</th>\n",
       "    </tr>\n",
       "  </thead>\n",
       "  <tbody>\n",
       "    <tr>\n",
       "      <th>0</th>\n",
       "      <td>2018-01-02 06:28:33</td>\n",
       "      <td>9.0</td>\n",
       "    </tr>\n",
       "    <tr>\n",
       "      <th>1</th>\n",
       "      <td>2018-01-02 06:58:21</td>\n",
       "      <td>10.0</td>\n",
       "    </tr>\n",
       "    <tr>\n",
       "      <th>2</th>\n",
       "      <td>2018-01-02 07:27:11</td>\n",
       "      <td>10.0</td>\n",
       "    </tr>\n",
       "    <tr>\n",
       "      <th>3</th>\n",
       "      <td>2018-01-02 07:58:38</td>\n",
       "      <td>7.0</td>\n",
       "    </tr>\n",
       "    <tr>\n",
       "      <th>4</th>\n",
       "      <td>2018-01-02 08:27:15</td>\n",
       "      <td>18.0</td>\n",
       "    </tr>\n",
       "    <tr>\n",
       "      <th>...</th>\n",
       "      <td>...</td>\n",
       "      <td>...</td>\n",
       "    </tr>\n",
       "    <tr>\n",
       "      <th>6419</th>\n",
       "      <td>2018-12-29 10:58:00</td>\n",
       "      <td>15.0</td>\n",
       "    </tr>\n",
       "    <tr>\n",
       "      <th>6420</th>\n",
       "      <td>2018-12-29 11:28:15</td>\n",
       "      <td>18.0</td>\n",
       "    </tr>\n",
       "    <tr>\n",
       "      <th>6421</th>\n",
       "      <td>2018-12-29 11:57:46</td>\n",
       "      <td>13.0</td>\n",
       "    </tr>\n",
       "    <tr>\n",
       "      <th>6422</th>\n",
       "      <td>2018-12-29 12:30:52</td>\n",
       "      <td>12.0</td>\n",
       "    </tr>\n",
       "    <tr>\n",
       "      <th>6423</th>\n",
       "      <td>2018-12-29 13:06:43</td>\n",
       "      <td>24.0</td>\n",
       "    </tr>\n",
       "  </tbody>\n",
       "</table>\n",
       "<p>6424 rows × 2 columns</p>\n",
       "</div>"
      ],
      "text/plain": [
       "              created_at    wr\n",
       "0    2018-01-02 06:28:33   9.0\n",
       "1    2018-01-02 06:58:21  10.0\n",
       "2    2018-01-02 07:27:11  10.0\n",
       "3    2018-01-02 07:58:38   7.0\n",
       "4    2018-01-02 08:27:15  18.0\n",
       "...                  ...   ...\n",
       "6419 2018-12-29 10:58:00  15.0\n",
       "6420 2018-12-29 11:28:15  18.0\n",
       "6421 2018-12-29 11:57:46  13.0\n",
       "6422 2018-12-29 12:30:52  12.0\n",
       "6423 2018-12-29 13:06:43  24.0\n",
       "\n",
       "[6424 rows x 2 columns]"
      ]
     },
     "execution_count": 2,
     "metadata": {},
     "output_type": "execute_result"
    }
   ],
   "source": [
    "#Get the first column\n",
    "df.iloc[:,0]\n",
    "\n",
    "\n",
    "#Get the first row\n",
    "df.iloc[0,:]\n",
    "\n",
    "#Get first column by name\n",
    "df.loc[:, 'created_at']\n",
    "\n",
    "#Get multiple columns by name\n",
    "df.loc[:, ['created_at','wr']]"
   ]
  },
  {
   "cell_type": "markdown",
   "metadata": {},
   "source": [
    "We can also access columns as a method.  So to access the `wr` column, we can perform `df.wr`"
   ]
  },
  {
   "cell_type": "code",
   "execution_count": 3,
   "metadata": {},
   "outputs": [
    {
     "data": {
      "text/plain": [
       "0        9.0\n",
       "1       10.0\n",
       "2       10.0\n",
       "3        7.0\n",
       "4       18.0\n",
       "        ... \n",
       "6419    15.0\n",
       "6420    18.0\n",
       "6421    13.0\n",
       "6422    12.0\n",
       "6423    24.0\n",
       "Name: wr, Length: 6424, dtype: float64"
      ]
     },
     "execution_count": 3,
     "metadata": {},
     "output_type": "execute_result"
    }
   ],
   "source": [
    "#Get the wr column as a Series by accessing the column name as a method\n",
    "df.wr"
   ]
  },
  {
   "cell_type": "markdown",
   "metadata": {},
   "source": [
    "# Summarizing Data\n",
    "\n",
    "Dataframes and Series have their own methods for summary.  let's take a look!\n",
    "\n",
    "Lot's of methods of summary exist, including but not limited to:\n",
    "\n",
    "* Mean\n",
    "* Median\n",
    "* Min/Max\n",
    "* Quantile\n",
    "\n",
    "There are also a multitude of functions to compute between-column statistics.  See here: https://pandas.pydata.org/pandas-docs/stable/user_guide/cookbook.html#computation\n",
    "\n"
   ]
  },
  {
   "cell_type": "code",
   "execution_count": 4,
   "metadata": {},
   "outputs": [
    {
     "data": {
      "text/html": [
       "<div>\n",
       "<style scoped>\n",
       "    .dataframe tbody tr th:only-of-type {\n",
       "        vertical-align: middle;\n",
       "    }\n",
       "\n",
       "    .dataframe tbody tr th {\n",
       "        vertical-align: top;\n",
       "    }\n",
       "\n",
       "    .dataframe thead th {\n",
       "        text-align: right;\n",
       "    }\n",
       "</style>\n",
       "<table border=\"1\" class=\"dataframe\">\n",
       "  <thead>\n",
       "    <tr style=\"text-align: right;\">\n",
       "      <th></th>\n",
       "      <th>apparentTemperature</th>\n",
       "      <th>wr</th>\n",
       "    </tr>\n",
       "  </thead>\n",
       "  <tbody>\n",
       "    <tr>\n",
       "      <th>apparentTemperature</th>\n",
       "      <td>1.000000</td>\n",
       "      <td>-0.312728</td>\n",
       "    </tr>\n",
       "    <tr>\n",
       "      <th>wr</th>\n",
       "      <td>-0.312728</td>\n",
       "      <td>1.000000</td>\n",
       "    </tr>\n",
       "  </tbody>\n",
       "</table>\n",
       "</div>"
      ],
      "text/plain": [
       "                     apparentTemperature        wr\n",
       "apparentTemperature             1.000000 -0.312728\n",
       "wr                             -0.312728  1.000000"
      ]
     },
     "execution_count": 4,
     "metadata": {},
     "output_type": "execute_result"
    }
   ],
   "source": [
    "#Take the mean of the wr column\n",
    "df.wr.mean()\n",
    "\n",
    "#But, we can also call functions on the columns\n",
    "np.mean(df.wr)\n",
    "\n",
    "\n",
    "#How well correlated are apparentTemperature and wr?\n",
    "\n",
    "df.loc[:, ['apparentTemperature','wr']].corr()\n"
   ]
  },
  {
   "cell_type": "markdown",
   "metadata": {},
   "source": [
    "# Other Methods on Non-Numeric Data\n",
    "\n",
    "The `created_at` column contains dates.  We can extract different parts of those dates with some other methods!\n",
    "\n",
    "Let's creat columns for the month and time the data was observed.\n",
    "\n",
    "You can read more on timeedeltas and timestamps here: https://pandas.pydata.org/pandas-docs/stable/user_guide/timeseries.html"
   ]
  },
  {
   "cell_type": "code",
   "execution_count": null,
   "metadata": {},
   "outputs": [],
   "source": [
    "#Create a new column for time\n",
    "df['time'] = df.created_at.dt.hour\n",
    "\n",
    "\n",
    "#Create a new column for month\n",
    "df['month'] = df.created_at.dt.month_name()\n"
   ]
  },
  {
   "cell_type": "markdown",
   "metadata": {},
   "source": [
    "# Aggregation\n",
    "\n",
    "Sometimes, you want to know a summary of the data per group.  The average number of people in th weight room changes by month.  Let's use `groupby` to summarize by month.\n",
    "\n",
    "You can learn more about aggregation here: https://pandas.pydata.org/pandas-docs/stable/user_guide/groupby.html\n"
   ]
  },
  {
   "cell_type": "code",
   "execution_count": null,
   "metadata": {},
   "outputs": [],
   "source": [
    "#Aggregate by month to find mean number of people in weight room\n",
    "\n",
    "df.groupby('month').wr.mean()\n"
   ]
  },
  {
   "cell_type": "markdown",
   "metadata": {},
   "source": [
    "# Don't Loop With Pandas, Always Vectorize\n",
    "\n",
    "Looping through dataframes is not the most elegant or efficient way to do things.  Most computation in pandas can be done via vectorization so do it!"
   ]
  },
  {
   "cell_type": "code",
   "execution_count": null,
   "metadata": {},
   "outputs": [],
   "source": [
    "def count_months(df):\n",
    "    months = {}\n",
    "    for m in df.month:\n",
    "        if m in months:\n",
    "            months[m]+=1\n",
    "        else:\n",
    "            months[m]=1\n",
    "            \n",
    "    return months\n",
    "\n",
    "\n",
    "count_months(df)"
   ]
  },
  {
   "cell_type": "markdown",
   "metadata": {},
   "source": [
    "# Working With Categorical Data\n",
    "\n",
    "Inspired by `factors` in R, `pandas` uses `pd.Categorical` to turn categorical variables into a `CategoricalDtype` column.\n",
    "\n",
    "You can read more about categorical data here: https://pandas.pydata.org/pandas-docs/stable/user_guide/categorical.html"
   ]
  },
  {
   "cell_type": "code",
   "execution_count": null,
   "metadata": {},
   "outputs": [],
   "source": [
    "#Turn months into an ORDERED categorical variable\n",
    "months = ['January','February','March','April','May','June','July','August','September','October','November','December']\n",
    "df['month'] = pd.Categorical(df.month, ordered = True, categories=months)\n",
    "#Watch what happens when we group by an ordered categorical variable\n",
    "df.groupby('month').wr.mean()"
   ]
  },
  {
   "cell_type": "markdown",
   "metadata": {},
   "source": [
    "Categorical columns become really important when you are transforming data for learning.  A lot of analyses will have you one-hot-encode a categorical variable.  You can do this with pandas if your column is categorical."
   ]
  },
  {
   "cell_type": "code",
   "execution_count": null,
   "metadata": {},
   "outputs": [],
   "source": [
    "#One Hot Encode Months\n",
    "pd.get_dummies(df.month)\n"
   ]
  },
  {
   "cell_type": "markdown",
   "metadata": {},
   "source": [
    "# Plotting\n",
    "\n",
    "Though you can pass columns to `matplotlib` just like you would arrays, pandas offers it's own API for plotting.\n",
    "\n",
    "For more, see here: https://pandas.pydata.org/pandas-docs/stable/user_guide/visualization.html"
   ]
  },
  {
   "cell_type": "code",
   "execution_count": null,
   "metadata": {},
   "outputs": [],
   "source": [
    "#A simple histogram\n",
    "fig, ax = plt.subplots(dpi = 120)\n",
    "\n",
    "df.wr.hist(ax = ax, edgecolor = 'white', bins = 25)\n",
    "ax.grid(False)\n",
    "ax.set_xlabel('WR Numbers')\n",
    "ax.set_ylabel('Frequency')\n",
    "ax.set_title('Histogram of WR numbers')\n",
    "\n",
    "#A simple scatter plot\n",
    "fig2, ax2 = plt.subplots(dpi = 120)\n",
    "df['time'] = df.created_at.dt.hour + df.created_at.dt.minute/60\n",
    "df.plot.scatter(x = 'time', y = 'wr', alpha = 0.05, ax = ax2)\n",
    "\n",
    "#You can combine multiple plots as well!\n",
    "fig3, ax3 = plt.subplots(dpi = 120)\n",
    "\n",
    "month_group = df.groupby('month')\n",
    "monthly_mean = month_group.wr.mean()\n",
    "monthly_sd = month_group.wr.std()\n",
    "\n",
    "monthly_mean.plot(marker = 'o', linestyle = 'None',color = 'k')\n",
    "monthly_mean.plot.bar(ax = ax3, yerr = monthly_sd, capsize = 5)\n"
   ]
  }
 ],
 "metadata": {
  "kernelspec": {
   "display_name": "Python 3",
   "language": "python",
   "name": "python3"
  },
  "language_info": {
   "codemirror_mode": {
    "name": "ipython",
    "version": 3
   },
   "file_extension": ".py",
   "mimetype": "text/x-python",
   "name": "python",
   "nbconvert_exporter": "python",
   "pygments_lexer": "ipython3",
   "version": "3.8.3"
  }
 },
 "nbformat": 4,
 "nbformat_minor": 2
}
