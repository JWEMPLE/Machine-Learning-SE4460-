{
 "cells": [
  {
   "cell_type": "markdown",
   "metadata": {},
   "source": [
    "# Midterm SE 4460A\n",
    "# Student ID: 250902000 <font color = 'red'> (XX / 100pts) </font>\n",
    "## Student Name:  Jenna Wemple\n",
    "\n",
    "## General comments \n",
    "This Midterm integrates knowledge and skills acquired in the first half of the semester, especially in the 6 Assignments. You are allowed to use any document and source on your computer and look up documents on the internet. **You or not allowed to share documents, or communicate in any other way with people inside or outside the classroom during the midterm.** To finish the midterm in the alloted 2 hrs (an additonal 20 minutes is given to download/upload the exam/solutions), you will have to work efficiently. **Read the entirety of each question carefully.**\n",
    "\n",
    "* Students with last name starting A-D: please use **\"Data_Rack01.csv\"**\n",
    "* Students with last name starting F-L: please use **\"Data_Rack02.csv\"**\n",
    "* Students with last name starting M-N: please use **\"Data_Rack03.csv\"**\n",
    "* Students with last name starting P-S: please use **\"Data_Rack04.csv\"**\n",
    "* Students with last name starting T-Z: please use **\"Data_Rack05.csv\"**\n",
    "\n",
    "### Additional Guidance\n",
    "\n",
    "If at any point you are asking yourself \"are we supposed to...\", then *write your assumptions clearly in your exam and proceed according to those assumptions.*\n",
    "\n",
    "Good luck!\n",
    "\n",
    "\n"
   ]
  },
  {
   "cell_type": "code",
   "execution_count": 81,
   "metadata": {},
   "outputs": [],
   "source": [
    "## Preliminaries\n",
    "# Sets up the environment by importing \n",
    "# pandas, numpy, matplotlib, and statsmodels.\n",
    "\n",
    "### YOU MAY ADD ADDITIONAL IMPORTS IF YOU WISH\n",
    "\n",
    "import matplotlib\n",
    "import matplotlib.pyplot as plt \n",
    "%matplotlib inline\n",
    "import pandas as pd \n",
    "import numpy as np\n",
    "import seaborn as sns\n",
    "#import statsmodels.api as sm\n",
    "\n",
    "from sklearn.model_selection import train_test_split, cross_val_score,  GridSearchCV, KFold\n",
    "from sklearn.pipeline import Pipeline\n",
    "from sklearn.linear_model import LinearRegression, Lasso, Ridge\n",
    "from sklearn.preprocessing import PolynomialFeatures, StandardScaler\n",
    "from sklearn.dummy import DummyRegressor\n",
    "from sklearn.metrics import make_scorer, mean_absolute_error\n"
   ]
  },
  {
   "cell_type": "markdown",
   "metadata": {},
   "source": [
    "---\n",
    "## Data set \n",
    "\n",
    "This exam objective is to develop a data-driven predictive model for the power use of an industrial refrigeration system.  \n",
    "The data frame contains the following data, where each row represents a datapoint:\n",
    "\n",
    "- Dew_Point: the temperature to which air must be cooled to become saturated with water vapor \n",
    "- Indoor_Humidity: The indoor Humidity\n",
    "- Indoor_Temperature: The indoor temprature (Fahrenheit)\n",
    "- Outdoor_Humidity: The outdoor humidity\n",
    "- Outdoor_Temperature: The outdoor temprature (Fahrenheit)\n",
    "- Discharge_Pressure: The pressure generated on the output side of a gas compressor in a refrigeration system\n",
    "- Discharge_Temperature: The compressor's discharge temperature \n",
    "- KW: Power consumed\n",
    "- Power_Factor: The power factor of the refrigeration system\n",
    "- Volts_Line_to_Line: voltage line to line\n",
    "- Volts_Line_to_Neutral: line to neutral voltage\n",
    "\n",
    "\n"
   ]
  },
  {
   "cell_type": "markdown",
   "metadata": {},
   "source": [
    "## Task 0: Data Preparation (5pts)\n",
    "\n",
    "This task will focus on loading and pre-processing the data"
   ]
  },
  {
   "cell_type": "code",
   "execution_count": 60,
   "metadata": {},
   "outputs": [
    {
     "name": "stdout",
     "output_type": "stream",
     "text": [
      "   Dew_Point  Indoor_Humidity  Indoor_Temperature  Outdoor_Temperature  \\\n",
      "0      52.66            51.18               70.65                95.14   \n",
      "1      52.50            51.41               70.57                94.75   \n",
      "2      52.86            51.48               70.57                94.75   \n",
      "3      52.86            51.48               70.57                94.96   \n",
      "4      52.16            50.71               70.57                94.96   \n",
      "\n",
      "   Discharge_Pressure    kW  Power_Factor  Volts_Line_to_Line  \\\n",
      "0               283.8  33.1          0.73               607.5   \n",
      "1               278.0  32.5          0.72               607.7   \n",
      "2               285.0  31.8          0.71               608.0   \n",
      "3               285.0  31.6          0.71               607.2   \n",
      "4               279.6  31.1          0.71               608.2   \n",
      "\n",
      "   Volts_Line_to_Neutral  \n",
      "0                  350.1  \n",
      "1                  350.1  \n",
      "2                  350.3  \n",
      "3                  349.9  \n",
      "4                  350.5  \n"
     ]
    }
   ],
   "source": [
    "# Load data, remove the empty column(s), \n",
    "# Then drop rows with any missing data (\"NA\").\n",
    "# remove the 'DeviceName' column as well\n",
    "\n",
    "data = pd.read_csv(\"Data_Rack05.csv\")\n",
    "\n",
    "#dropping columns\n",
    "data = data.drop([\"Outdoor_Humidity\", \"Discharge_Temperature\", \"DeviceName\"], axis=1)\n",
    "data = data.dropna(axis = 1, how = 'all')\n",
    "\n",
    "print (data.head())"
   ]
  },
  {
   "cell_type": "markdown",
   "metadata": {},
   "source": [
    "\n",
    "## Task 1: Prediction (75pts)\n",
    "\n",
    "This task will focus on building predictive models for the power consumed based on the other available data."
   ]
  },
  {
   "cell_type": "markdown",
   "metadata": {},
   "source": [
    "### ---\n",
    "### Question 1.1 - Visualizing the Outcome (4pts)\n",
    "\n",
    "Produce a plot that visualizes the marginal distribution of the power consumed ('kW' column)."
   ]
  },
  {
   "cell_type": "code",
   "execution_count": 33,
   "metadata": {},
   "outputs": [
    {
     "data": {
      "text/plain": [
       "Text(0, 0.5, 'Power Consumed')"
      ]
     },
     "execution_count": 33,
     "metadata": {},
     "output_type": "execute_result"
    },
    {
     "data": {
      "image/png": "[encoded data removed]",
      "text/plain": [
       "<Figure size 720x480 with 1 Axes>"
      ]
     },
     "metadata": {
      "needs_background": "light"
     },
     "output_type": "display_data"
    }
   ],
   "source": [
    "# Q1.1 - Code to produce plot\n",
    "\n",
    "# Any plot of the marginal distribution is acceptable\n",
    "\n",
    "y= data.kW.values\n",
    "x = data.drop('kW', axis='columns').values\n",
    "\n",
    "# Plot distribution  \n",
    "fig, ax = plt.subplots(dpi = 120)\n",
    "sns.distplot(y, vertical = True)\n",
    "\n",
    "plt.title('Marginal Density for Power Consumed')\n",
    "ax.set_xlabel('Density')\n",
    "ax.set_ylabel('Power Consumed')\n"
   ]
  },
  {
   "cell_type": "markdown",
   "metadata": {},
   "source": [
    "---\n",
    "### Question 1.2 - Loss Functions (7pts)\n",
    "\n",
    "Define two loss functions, one that measures the absolute difference between observations and predictions, and one that gives the mean number of instances for which the difference is less than or equal to a threshold `thresh`.\n",
    "\n",
    "For example, if we had\n",
    "\n",
    "obs = [1, 2, 3, 4, 5]\n",
    "pred = [5, 4, 3, 2, 1]\n",
    "\n",
    "Then threshold_loss(obs, pred, 2) should give 0.6\n"
   ]
  },
  {
   "cell_type": "code",
   "execution_count": 74,
   "metadata": {},
   "outputs": [
    {
     "name": "stdout",
     "output_type": "stream",
     "text": [
      "0.8\n"
     ]
    }
   ],
   "source": [
    "# Q1.2 - definitions of loss functions\n",
    "def abs_diff(y, yp):\n",
    "    return (np.abs(y-yp))\n",
    "\n",
    "def threshold_loss(obs, pred, thresh):\n",
    "    meandiff = (obs-pred)\n",
    "    threshold_loss =sum( i <= thresh for i in meandiff)/meandiff.size\n",
    "    return threshold_loss\n",
    "\n",
    "# Check if you did it right\n",
    "#need to send them as an array\n",
    "obs = np.array([1, 2, 3, 4, 5]) \n",
    "pred = np.array([5, 4, 3, 2, 1]) \n",
    "\n",
    "print (threshold_loss(obs, pred, 2))"
   ]
  },
  {
   "cell_type": "markdown",
   "metadata": {},
   "source": [
    "---\n",
    "### Question 1.3 (7pts)\n",
    "\n",
    "Suppose you are using the absolute loss. If you wanted to set a test set aside for evaluation, how much data should you allocate for testing if you want to evaluate the performance of our predictor to within +/- 1 units of loss with 95% confidence? Explain in 2 or 3 sentences the assumptions you used to compute the sample size. (There are several different approaches that are all acceptable.)"
   ]
  },
  {
   "cell_type": "code",
   "execution_count": 76,
   "metadata": {},
   "outputs": [
    {
     "name": "stdout",
     "output_type": "stream",
     "text": [
      "66.1840996884803\n"
     ]
    }
   ],
   "source": [
    "# Q1.3 - Computation to compute sample size for absolute difference\n",
    "# Use the median as a prediction to get a \n",
    "# rough estimate of the noise\n",
    "\n",
    "y_median= np.median(y)\n",
    "abs_error = abs_diff(y, y_median)\n",
    "std = abs_error.std()\n",
    "\n",
    "d = 1 #Provided from question\n",
    "test_size = (1.96*std/d)**2\n",
    "\n",
    "print(test_size)"
   ]
  },
  {
   "cell_type": "markdown",
   "metadata": {},
   "source": [
    "#### Q1.3 - Explanation\n",
    "\n",
    "We can calcualte the expected test error on a new test set by using the confidence intervals equations and solving for n since we know the standard deviation value we would like to achieve on a 95 CI interval. An assumption I made for this was using the median as the prediction value, because median measures the central tendancy that is robust against outliers."
   ]
  },
  {
   "cell_type": "markdown",
   "metadata": {},
   "source": [
    "---\n",
    "### Question 1.4 (7pts)\n",
    "\n",
    "Suppose you are using the threshold loss with a cutoff of 5 KW to measure performance. If you wanted to set a test set aside for evaluation, how much data should you allocate for testing if you want to evaluate the performance of our predictor to within +/- 0.03 of the actual generalization performance with 95% confidence? Explain in 2 or 3 sentences the assumptions you used to compute the sample size. (There are several different approaches that are all acceptable.)"
   ]
  },
  {
   "cell_type": "code",
   "execution_count": 78,
   "metadata": {},
   "outputs": [
    {
     "name": "stdout",
     "output_type": "stream",
     "text": [
      "3480.7924393298426\n"
     ]
    }
   ],
   "source": [
    "# Q1.4 - Computation to compute sample size for proportion below threshold\n",
    "threshold = 5\n",
    "y_median= np.median(y)\n",
    "abs_error = threshold_loss(y, y_median, threshold)\n",
    "\n",
    "d = 0.03 #Provided from question\n",
    "test_size = (1.96*abs_error/d)**2\n",
    "\n",
    "print(test_size)"
   ]
  },
  {
   "cell_type": "markdown",
   "metadata": {},
   "source": [
    "#### Q1.4 - Explanation\n",
    "\n",
    "Again, one of the assumptions I made when i computed this was using the median because it is robust against outliers. Another assumption I made was using the absolute error in place as the standard deviation in my equation, because I wanted to take into account the threshold of 5, and it returns a whole number.\n"
   ]
  },
  {
   "cell_type": "markdown",
   "metadata": {},
   "source": [
    "###### ---\n",
    "### Question 1.5 - Test Split (8pts)\n",
    "\n",
    "Set aside some amount of data for testing, and retain the rest for training. Choose whichever amount you want based on your previous answers, and state which one you used. **Use your Student ID number as the *random_state* parameter value.**\n"
   ]
  },
  {
   "cell_type": "code",
   "execution_count": 79,
   "metadata": {},
   "outputs": [],
   "source": [
    "# Q1.5 - Code to set aside data\n",
    "\n",
    "xtrain, xtest, ytrain, ytest = train_test_split(x, y, test_size=66, random_state=250902000)\n"
   ]
  },
  {
   "cell_type": "markdown",
   "metadata": {},
   "source": [
    "I decided to use the test size determined by absolute error which was the  66, because I don't want to use too many and make sure I have enough for saved for training"
   ]
  },
  {
   "cell_type": "markdown",
   "metadata": {},
   "source": [
    "### ---\n",
    "### Question 1.6 - Simple Linear Model (5pts)\n",
    "\n",
    "Using Ordinary Least Squares, build a model to predict power consumed (KW) as a linear function of the other variables in the data.\n"
   ]
  },
  {
   "cell_type": "code",
   "execution_count": 37,
   "metadata": {},
   "outputs": [],
   "source": [
    "# Q1.6 - Code to produce simple OLS model\n",
    "model_OLS = LinearRegression().fit(xtrain, ytrain)\n",
    "yp = model_OLS.predict(xtrain)\n",
    "\n",
    "#fig, ax = plt.subplots(dpi = 120)\n",
    "#sns.distplot(xtrain, yp)\n",
    "# Add the line to the graph \n",
    "#plt.plot(xtrain, yp, color='red')\n"
   ]
  },
  {
   "cell_type": "markdown",
   "metadata": {},
   "source": [
    "---\n",
    "### Question 1.7 - More Complex Model (8pts)\n",
    "\n",
    "Again using Ordinary Least Squares, develop second a model that has lower training error than the simple model."
   ]
  },
  {
   "cell_type": "code",
   "execution_count": 52,
   "metadata": {},
   "outputs": [],
   "source": [
    "# Q1.7 - Code to produce more complex OLS model\n",
    "poly = PolynomialFeatures(degree = 2)\n",
    "pipe_model_P = Pipeline(steps = [('poly', poly),('Standardize', StandardScaler()), ('linear reg', LinearRegression())])\n",
    "model_P = pipe_model_P.fit(xtrain, ytrain)"
   ]
  },
  {
   "cell_type": "markdown",
   "metadata": {},
   "source": [
    "### Question 1.8 - Model Selection (10pts)\n",
    "\n",
    "Use cross-validation to compare the two model spaces to select the one you think will result in the smallest generalization error for one of the loss functions you defined above. (Either one.) Explain why you chose the particular model space. \n"
   ]
  },
  {
   "cell_type": "code",
   "execution_count": 80,
   "metadata": {},
   "outputs": [
    {
     "name": "stdout",
     "output_type": "stream",
     "text": [
      "CV score: [2.13669555 2.04528284 2.12442992 2.1460516  2.18924925]\n",
      "CV loss: 2.1283418291832086\n",
      "CV score: [1.62685437 1.54074043 1.5945994  1.64494308 1.64424376]\n",
      "CV loss: 1.6102762105530115\n"
     ]
    }
   ],
   "source": [
    "# Q1.8 - Code to do cross-validation to compare models\n",
    "#kf = KFold(n_splits=5,shuffle=False)\n",
    "def abs_diff_mean(y, yp):\n",
    "    return np.mean(np.abs(y-yp))\n",
    "\n",
    "sc = make_scorer(abs_diff_mean)\n",
    "#sc = make_scorer(threshold_loss)\n",
    "\n",
    "cv_scores1_LR = cross_val_score(model_OLS, xtrain, ytrain, cv=5, scoring=sc)\n",
    "cv_scores2_P = cross_val_score(model_P, xtrain, ytrain, cv=5, scoring=sc)\n",
    "\n",
    "print(f\"CV score: {cv_scores1_LR}\")\n",
    "print(f\"CV loss: {cv_scores1_LR.mean()}\")\n",
    "\n",
    "print(f\"CV score: {cv_scores2_P}\")\n",
    "print(f\"CV loss: {cv_scores2_P.mean()}\")"
   ]
  },
  {
   "cell_type": "markdown",
   "metadata": {},
   "source": [
    "#### Q1.8 - Explanation\n",
    "\n",
    "\n",
    "I choose to use this particular because the function Poly, because I don't want to overfit my data and ensure I have the correct bias-variance in my model, by only using degree =2. This then results in a much lower CV loss than my OLS model and verifies that it is working correctly"
   ]
  },
  {
   "cell_type": "markdown",
   "metadata": {},
   "source": [
    "---\n",
    "### Question 1.9 - Evaluation, Absolute Value, Normal approximation confidence interval (8pts)\n",
    "\n",
    "Provide a point estimate for the generalization error of your chosen model using the absolute difference loss. Also provide a 95% confidence interval for the true generalization error under this loss. Construct the interval using a normal approximation."
   ]
  },
  {
   "cell_type": "code",
   "execution_count": 55,
   "metadata": {},
   "outputs": [
    {
     "name": "stdout",
     "output_type": "stream",
     "text": [
      "Generalization Error:  1.5757712584905739\n",
      "Confidence interval:  [1.51314634 1.63839618]\n"
     ]
    },
    {
     "data": {
      "image/png": "[encoded data removed]",
      "text/plain": [
       "<Figure size 432x288 with 1 Axes>"
      ]
     },
     "metadata": {
      "needs_background": "light"
     },
     "output_type": "display_data"
    }
   ],
   "source": [
    "# Q1.9 Evaluation - Absolute Value Loss - Use normal approximation\n",
    "#Predict on the test set\n",
    "yp = model_P.predict(xtest)\n",
    "\n",
    "#Compute the errors and a point estimate of the generalization error\n",
    "test_errors = np.abs(ytest - yp)\n",
    "generalization_error = abs_diff(ytest, yp)\n",
    "\n",
    "#Construct a confidence interval\n",
    "# We have enough data in our test set that the appropirate t-quantile is close to 1.96\n",
    "test_ci = generalization_error + 1.96 * np.std(test_errors) / np.sqrt(len(test_errors)) * np.array([-1, 1])\n",
    "\n",
    "sns.distplot(abs(test_errors))\n",
    "\n",
    "print('Generalization Error: ',generalization_error)\n",
    "print('Confidence interval: ', test_ci)\n"
   ]
  },
  {
   "cell_type": "markdown",
   "metadata": {},
   "source": [
    "---\n",
    "### Question 1.10 - Evaluation, Threshold, Bootstrap approximation confidence interval (11pts)\n",
    "\n",
    "Provide a point estimate for the generalization error of your model using the threshold loss with a threshold of 4. Also provide a 95% confidence interval for the true generalization error under this loss. Construct the interval using the bootstrap."
   ]
  },
  {
   "cell_type": "code",
   "execution_count": 59,
   "metadata": {},
   "outputs": [
    {
     "ename": "ValueError",
     "evalue": "setting an array element with a sequence.",
     "output_type": "error",
     "traceback": [
      "\u001b[1;31m---------------------------------------------------------------------------\u001b[0m",
      "\u001b[1;31mTypeError\u001b[0m                                 Traceback (most recent call last)",
      "\u001b[1;31mTypeError\u001b[0m: only size-1 arrays can be converted to Python scalars",
      "\nThe above exception was the direct cause of the following exception:\n",
      "\u001b[1;31mValueError\u001b[0m                                Traceback (most recent call last)",
      "\u001b[1;32m<ipython-input-59-fda2d228b288>\u001b[0m in \u001b[0;36m<module>\u001b[1;34m\u001b[0m\n\u001b[0;32m     15\u001b[0m     \u001b[1;32mreturn\u001b[0m \u001b[0mtheta\u001b[0m\u001b[1;33m\u001b[0m\u001b[1;33m\u001b[0m\u001b[0m\n\u001b[0;32m     16\u001b[0m \u001b[1;33m\u001b[0m\u001b[0m\n\u001b[1;32m---> 17\u001b[1;33m \u001b[0mparams\u001b[0m \u001b[1;33m=\u001b[0m \u001b[0mBootstrapCoef\u001b[0m\u001b[1;33m(\u001b[0m\u001b[0mdata\u001b[0m\u001b[1;33m,\u001b[0m\u001b[1;36m100\u001b[0m\u001b[1;33m)\u001b[0m\u001b[1;33m\u001b[0m\u001b[1;33m\u001b[0m\u001b[0m\n\u001b[0m\u001b[0;32m     18\u001b[0m \u001b[1;33m\u001b[0m\u001b[0m\n\u001b[0;32m     19\u001b[0m \u001b[0mgeneralization_error\u001b[0m \u001b[1;33m=\u001b[0m \u001b[0mthreshold_loss\u001b[0m\u001b[1;33m(\u001b[0m\u001b[0mytest\u001b[0m\u001b[1;33m,\u001b[0m \u001b[0myp\u001b[0m\u001b[1;33m,\u001b[0m \u001b[1;36m4\u001b[0m\u001b[1;33m)\u001b[0m\u001b[1;33m\u001b[0m\u001b[1;33m\u001b[0m\u001b[0m\n",
      "\u001b[1;32m<ipython-input-59-fda2d228b288>\u001b[0m in \u001b[0;36mBootstrapCoef\u001b[1;34m(data, numboot)\u001b[0m\n\u001b[0;32m     12\u001b[0m         \u001b[1;31m#regr.fit(xtest,ytest)\u001b[0m\u001b[1;33m\u001b[0m\u001b[1;33m\u001b[0m\u001b[1;33m\u001b[0m\u001b[0m\n\u001b[0;32m     13\u001b[0m         \u001b[0mtheta\u001b[0m\u001b[1;33m[\u001b[0m\u001b[0mi\u001b[0m\u001b[1;33m,\u001b[0m\u001b[1;36m0\u001b[0m\u001b[1;33m]\u001b[0m\u001b[1;33m=\u001b[0m\u001b[0mregr\u001b[0m\u001b[1;33m.\u001b[0m\u001b[0mintercept_\u001b[0m\u001b[1;33m\u001b[0m\u001b[1;33m\u001b[0m\u001b[0m\n\u001b[1;32m---> 14\u001b[1;33m         \u001b[0mtheta\u001b[0m\u001b[1;33m[\u001b[0m\u001b[0mi\u001b[0m\u001b[1;33m,\u001b[0m\u001b[1;36m1\u001b[0m\u001b[1;33m]\u001b[0m\u001b[1;33m=\u001b[0m\u001b[0mregr\u001b[0m\u001b[1;33m.\u001b[0m\u001b[0mcoef_\u001b[0m\u001b[1;33m\u001b[0m\u001b[1;33m\u001b[0m\u001b[0m\n\u001b[0m\u001b[0;32m     15\u001b[0m     \u001b[1;32mreturn\u001b[0m \u001b[0mtheta\u001b[0m\u001b[1;33m\u001b[0m\u001b[1;33m\u001b[0m\u001b[0m\n\u001b[0;32m     16\u001b[0m \u001b[1;33m\u001b[0m\u001b[0m\n",
      "\u001b[1;31mValueError\u001b[0m: setting an array element with a sequence."
     ]
    }
   ],
   "source": [
    "# Q1.10 Evaluation - Threshold Loss - Use bootstrap\n",
    "\n",
    "# Write a Bootstrap function that records the fitted models \n",
    "def BootstrapCoef(data,numboot=1000):\n",
    "    regr = LinearRegression()\n",
    "    n = len(data)\n",
    "    theta = np.zeros((numboot,2))    \n",
    "    for i in range(numboot):\n",
    "        d = data.sample(n, replace=True)\n",
    "        X_fit = np.c_[xtest]\n",
    "        regr.fit(X_fit,ytest)\n",
    "        #regr.fit(xtest,ytest)\n",
    "        theta[i,0]=regr.intercept_\n",
    "        theta[i,1]=regr.coef_\n",
    "    return theta\n",
    "\n",
    "params = BootstrapCoef(data,100)\n",
    "\n",
    "generalization_error = threshold_loss(ytest, yp, 4)\n",
    "\n",
    "bs_res = params[:,1]-generalization_error\n",
    "plt.hist(params[:,1], edgecolor = 'white', density=True)\n",
    "ci_lower, ci_upper = np.quantile(bs_res, [0.025, 0.975])\n",
    "boot_ci = [generalization_error - ci_upper, \n",
    "           generalization_error - ci_lower]\n",
    "\n",
    "print('My confidence interval is between', boot_ci[0], ' and ', boot_ci[1])\n",
    "\n",
    "print('Generalization Error: ',generalization_error)\n",
    "print('Confidence interval: ', boot_ci)\n"
   ]
  },
  {
   "cell_type": "markdown",
   "metadata": {},
   "source": [
    "---\n",
    "---\n",
    "## Task 2 - Regularized Linear Regression Model"
   ]
  },
  {
   "cell_type": "markdown",
   "metadata": {},
   "source": [
    "---\n",
    "### Question 2.1 (10 pts)  \n",
    "\n",
    "Use L1 regularization to determine the best set of variables to include in a predictive model. Add a penalty of $\\lambda \\sum_{i}{|\\beta_i|_1}$ ($\\beta_i$ are your regression coefficients) to the linear regression model. Vary the regularization parameter $\\lambda$ between 0.2 and 200, evenly spaced in log-space.\n",
    "\n",
    "Apply all necessary preprocessing steps to your variables to be able to compare meaningfully between different predictors in the model.\n",
    "\n",
    "Plot the coefficient path, i.e. the size of the regression coefficients relative to the size of the the regularization paramter. Which two variables are the two most important predictors?"
   ]
  },
  {
   "cell_type": "code",
   "execution_count": 68,
   "metadata": {},
   "outputs": [
    {
     "name": "stdout",
     "output_type": "stream",
     "text": [
      "{'alpha': array([1.22140276e+00, 3.33349099e+00, 9.09786892e+00, 2.48301912e+01,\n",
      "       6.77673423e+01, 1.84952771e+02, 5.04778946e+02, 1.37765865e+03,\n",
      "       3.75994949e+03, 1.02617729e+04, 2.80067549e+04, 7.64369201e+04,\n",
      "       2.08614057e+05, 5.69356074e+05, 1.55390458e+06, 4.24096547e+06,\n",
      "       1.15745769e+07, 3.15897010e+07, 8.62156099e+07, 2.35302366e+08,\n",
      "       6.42194651e+08, 1.75269793e+09, 4.78351855e+09, 1.30553299e+10,\n",
      "       3.56310189e+10, 9.72453023e+10, 2.65404951e+11, 7.24351576e+11,\n",
      "       1.97692320e+12, 5.39548126e+12, 1.47255179e+13, 4.01893486e+13,\n",
      "       1.09686040e+14, 2.99358604e+14, 8.17018960e+14, 2.22983395e+15,\n",
      "       6.08573327e+15, 1.66093755e+16, 4.53308322e+16, 1.23718339e+17,\n",
      "       3.37656000e+17, 9.21541421e+17, 2.51509996e+18, 6.86429025e+18,\n",
      "       1.87342378e+19, 5.11300736e+19, 1.39545812e+20, 3.80852838e+20,\n",
      "       1.03943560e+21, 2.83686047e+21, 7.74244920e+21, 2.11309369e+22,\n",
      "       5.76712206e+22, 1.57398117e+23, 4.29575913e+23, 1.17241215e+24,\n",
      "       3.19978428e+24, 8.73295235e+24, 2.38342494e+25, 6.50491864e+25,\n",
      "       1.77534294e+26, 4.84532205e+26, 1.32240060e+27, 3.60913749e+27,\n",
      "       9.85017204e+27, 2.68834007e+28, 7.33710264e+28, 2.00246523e+29,\n",
      "       5.46519136e+29, 1.49157729e+30, 4.07085986e+30, 1.11103193e+31,\n",
      "       3.03226345e+31, 8.27574919e+31, 2.25864361e+32, 6.16436149e+32,\n",
      "       1.68239701e+33, 4.59165107e+33, 1.25316792e+34, 3.42018546e+34,\n",
      "       9.33447820e+34, 2.54759528e+35, 6.95297751e+35, 1.89762859e+36,\n",
      "       5.17906788e+36, 1.41348757e+37, 3.85773492e+37, 1.05286520e+38,\n",
      "       2.87351296e+38, 7.84248235e+38, 2.14039506e+39, 5.84163381e+39,\n",
      "       1.59431715e+40, 4.35126073e+40, 1.18755982e+41, 3.24112579e+41,\n",
      "       8.84578289e+41, 2.41421901e+42, 6.58896278e+42, 1.79828054e+43,\n",
      "       4.90792405e+43, 1.33948613e+44, 3.65576787e+44, 9.97743716e+44,\n",
      "       2.72307367e+45, 7.43189868e+45, 2.02833726e+46, 5.53580213e+46,\n",
      "       1.51084861e+47, 4.12345574e+47, 1.12538657e+48, 3.07144057e+48,\n",
      "       8.38267262e+48, 2.28782549e+49, 6.24400561e+49, 1.70413373e+50,\n",
      "       4.65097562e+50, 1.26935896e+51, 3.46437457e+51, 9.45508051e+51,\n",
      "       2.58051044e+52, 7.04281061e+52, 1.92214612e+53, 5.24598191e+53,\n",
      "       1.43174995e+54, 3.90757720e+54, 1.06646831e+55, 2.91063901e+55,\n",
      "       7.94380794e+55, 2.16804916e+56, 5.91710825e+56, 1.61491587e+57,\n",
      "       4.40747942e+57, 1.20290321e+58, 3.28300143e+58, 8.96007121e+58,\n",
      "       2.44541094e+59, 6.67409278e+59, 1.82151449e+60, 4.97133487e+60,\n",
      "       1.35679242e+61, 3.70300073e+61, 1.01063466e+62, 2.75825603e+62,\n",
      "       7.52791948e+62, 2.05454357e+63, 5.60732520e+63, 1.53036891e+64,\n",
      "       4.17673117e+64, 1.13992666e+65, 3.11112386e+65, 8.49097752e+65,\n",
      "       2.31738441e+66, 6.32467873e+66, 1.72615130e+67, 4.71106665e+67,\n",
      "       1.28575919e+68, 3.50913460e+68, 9.57724101e+68, 2.61385087e+69,\n",
      "       7.13380437e+69, 1.94698042e+70, 5.31376047e+70, 1.45024829e+71,\n",
      "       3.95806346e+71, 1.08024718e+72, 2.94824473e+72, 8.04644266e+72,\n",
      "       2.19606055e+73, 5.99355782e+73, 1.63578073e+74, 4.46442445e+74,\n",
      "       1.21844482e+75, 3.32541811e+75, 9.07583614e+75, 2.47700587e+76,\n",
      "       6.76032267e+76, 1.84504862e+77, 5.03556497e+77, 1.37432230e+78,\n",
      "       3.75084383e+78, 1.02369215e+79, 2.79389295e+79, 7.62518089e+79,\n",
      "       2.08108846e+80, 5.67977235e+80, 1.55014141e+81, 4.23069491e+81,\n",
      "       1.15465462e+82, 3.15131986e+82, 8.60068172e+82, 2.34732522e+83,\n",
      "       6.40639415e+83, 1.74845333e+84, 4.77193406e+84, 1.30237132e+85,\n",
      "       3.55447294e+85, 9.70097984e+85, 2.64762206e+86, 7.22597377e+86])}\n"
     ]
    },
    {
     "data": {
      "image/png": "[encoded data removed]",
      "text/plain": [
       "<Figure size 432x288 with 1 Axes>"
      ]
     },
     "metadata": {
      "needs_background": "light"
     },
     "output_type": "display_data"
    }
   ],
   "source": [
    "# Q 2.1\n",
    "# Systematically vary the ridge coeficient on a log-scale\n",
    "lam = np.exp(np.linspace(0.2,200,200))\n",
    "mse = np.zeros(200)\n",
    "\n",
    "sc = make_scorer(abs_diff)\n",
    "#'neg_mean_squared_error'\n",
    "\n",
    "for i in range(lam.size):\n",
    "    cv_scores = cross_val_score(Pipeline([('Scaler', StandardScaler()),('Lasso', Lasso(alpha=lam[i]))]), xtrain, ytrain, cv=10,scoring = sc)\n",
    "    mse[i]=cv_scores.mean()\n",
    "    \n",
    "# Determine lowest value \n",
    "plt.scatter(np.log(lam),mse, alpha = 0.5)\n",
    "plt.title('Distribution of Alphas vs Error') #adding a title to the plot\n",
    "plt.xlabel(\"Alpha\") #x axis label\n",
    "plt.ylabel(\"CV Error\") #y axis label\n",
    "\n",
    "#determine the best regualarization parameter\n",
    "parameters = {'alpha': lam}\n",
    "rrmodel = GridSearchCV(Lasso(),parameters,cv =10, scoring =sc)\n",
    "rrmodel.fit(xtrain, ytrain)\n",
    "\n",
    "print(parameters)\n",
    "#print(rrmodel.best_params_)\n",
    "#print(rrmodel.best_score_)\n"
   ]
  },
  {
   "cell_type": "markdown",
   "metadata": {},
   "source": [
    "#### Q2.1 - Explanation\n",
    "\n",
    "The two most important predictators are the two shown in the diagram that are below the line with an alpha of 1.22 and 3.33. These are the most important because they have the lowest cross-validation error. "
   ]
  },
  {
   "cell_type": "markdown",
   "metadata": {},
   "source": [
    "---\n",
    "### Question 2.2 (10 pts)\n",
    "\n",
    "Using the same model and the range of regularisation parameters as in T2, Q1, determine the 10-fold crossvalidated performance for different values of the L1-regularisation parameter. \n",
    "\n",
    "Make a plot of the crossvalidated score against $log(\\lambda)$. Based on this criterion, what is the optional setting of the L1-regularization parameter? At this value, which variables contribute to the prediction?"
   ]
  },
  {
   "cell_type": "code",
   "execution_count": 83,
   "metadata": {},
   "outputs": [
    {
     "ename": "IndexError",
     "evalue": "only integers, slices (`:`), ellipsis (`...`), numpy.newaxis (`None`) and integer or boolean arrays are valid indices",
     "output_type": "error",
     "traceback": [
      "\u001b[1;31m---------------------------------------------------------------------------\u001b[0m",
      "\u001b[1;31mIndexError\u001b[0m                                Traceback (most recent call last)",
      "\u001b[1;32m<ipython-input-83-5c417bc9d6da>\u001b[0m in \u001b[0;36m<module>\u001b[1;34m\u001b[0m\n\u001b[0;32m      6\u001b[0m \u001b[1;31m#using best\u001b[0m\u001b[1;33m\u001b[0m\u001b[1;33m\u001b[0m\u001b[1;33m\u001b[0m\u001b[0m\n\u001b[0;32m      7\u001b[0m \u001b[1;32mfor\u001b[0m \u001b[0mi\u001b[0m \u001b[1;32min\u001b[0m \u001b[0mrange\u001b[0m\u001b[1;33m(\u001b[0m\u001b[0mlam\u001b[0m\u001b[1;33m.\u001b[0m\u001b[0msize\u001b[0m\u001b[1;33m)\u001b[0m\u001b[1;33m:\u001b[0m\u001b[1;33m\u001b[0m\u001b[1;33m\u001b[0m\u001b[0m\n\u001b[1;32m----> 8\u001b[1;33m     \u001b[0mcv_scores1\u001b[0m \u001b[1;33m=\u001b[0m \u001b[0mcross_val_score\u001b[0m\u001b[1;33m(\u001b[0m\u001b[0mPipeline\u001b[0m\u001b[1;33m(\u001b[0m\u001b[1;33m[\u001b[0m\u001b[1;33m(\u001b[0m\u001b[1;34m'Scaler'\u001b[0m\u001b[1;33m,\u001b[0m \u001b[0mStandardScaler\u001b[0m\u001b[1;33m(\u001b[0m\u001b[1;33m)\u001b[0m\u001b[1;33m)\u001b[0m\u001b[1;33m,\u001b[0m\u001b[1;33m(\u001b[0m\u001b[1;34m'Lasso'\u001b[0m\u001b[1;33m,\u001b[0m \u001b[0mLasso\u001b[0m\u001b[1;33m(\u001b[0m\u001b[0malpha\u001b[0m\u001b[1;33m=\u001b[0m\u001b[0mlam\u001b[0m\u001b[1;33m[\u001b[0m\u001b[1;36m1.22\u001b[0m\u001b[1;33m]\u001b[0m\u001b[1;33m)\u001b[0m\u001b[1;33m)\u001b[0m\u001b[1;33m]\u001b[0m\u001b[1;33m)\u001b[0m\u001b[1;33m,\u001b[0m \u001b[0mxtrain\u001b[0m\u001b[1;33m,\u001b[0m \u001b[0mytrain\u001b[0m\u001b[1;33m,\u001b[0m \u001b[0mcv\u001b[0m\u001b[1;33m=\u001b[0m\u001b[0mkf\u001b[0m\u001b[1;33m,\u001b[0m \u001b[0mscoring\u001b[0m\u001b[1;33m=\u001b[0m\u001b[0msc\u001b[0m\u001b[1;33m)\u001b[0m\u001b[1;33m\u001b[0m\u001b[1;33m\u001b[0m\u001b[0m\n\u001b[0m\u001b[0;32m      9\u001b[0m     \u001b[0mmse\u001b[0m\u001b[1;33m[\u001b[0m\u001b[0mi\u001b[0m\u001b[1;33m]\u001b[0m\u001b[1;33m=\u001b[0m\u001b[0mcv_scores\u001b[0m\u001b[1;33m.\u001b[0m\u001b[0mmean\u001b[0m\u001b[1;33m(\u001b[0m\u001b[1;33m)\u001b[0m\u001b[1;33m\u001b[0m\u001b[1;33m\u001b[0m\u001b[0m\n\u001b[0;32m     10\u001b[0m \u001b[1;33m\u001b[0m\u001b[0m\n",
      "\u001b[1;31mIndexError\u001b[0m: only integers, slices (`:`), ellipsis (`...`), numpy.newaxis (`None`) and integer or boolean arrays are valid indices"
     ]
    }
   ],
   "source": [
    "# Q 2.2\n",
    "kf = KFold(n_splits=10,shuffle=False)\n",
    "sc = make_scorer(abs_diff_mean)\n",
    "lam = np.exp(np.linspace(0.2,200,200))\n",
    "mse = np.zeros(200)\n",
    "#using best\n",
    "for i in range(lam.size):\n",
    "    cv_scores1 = cross_val_score(Pipeline([('Scaler', StandardScaler()),('Lasso', Lasso(alpha=lam[1.22]))]), xtrain, ytrain, cv=kf, scoring=sc)\n",
    "    mse[i]=cv_scores.mean()\n",
    "    \n",
    "plt.scatter(np.log(1.22),mse, alpha = 0.5)\n",
    "plt.title('Distribution of Alphas vs Error') #adding a title to the plot\n",
    "plt.xlabel(\"Alpha\") #x axis label\n",
    "plt.ylabel(\"CV Error\") #y axis label"
   ]
  },
  {
   "cell_type": "markdown",
   "metadata": {},
   "source": [
    "#### Q2.2 - Answer\n",
    "\n",
    "\n",
    "*Write your explanation here*"
   ]
  },
  {
   "cell_type": "markdown",
   "metadata": {},
   "source": [
    "The optimal setting of the L1 regualarization is alpha of 1.22 because it has the lowest CV score"
   ]
  },
  {
   "cell_type": "markdown",
   "metadata": {},
   "source": [
    "At this value, values that contriubute to the prediction include all features except the ones we dropped. And any that were minimized to zero by the Lasso that were considered insignifcant. "
   ]
  },
  {
   "cell_type": "markdown",
   "metadata": {},
   "source": []
  }
 ],
 "metadata": {
  "kernelspec": {
   "display_name": "Python 3",
   "language": "python",
   "name": "python3"
  },
  "language_info": {
   "codemirror_mode": {
    "name": "ipython",
    "version": 3
   },
   "file_extension": ".py",
   "mimetype": "text/x-python",
   "name": "python",
   "nbconvert_exporter": "python",
   "pygments_lexer": "ipython3",
   "version": "3.8.3"
  }
 },
 "nbformat": 4,
 "nbformat_minor": 1
}
