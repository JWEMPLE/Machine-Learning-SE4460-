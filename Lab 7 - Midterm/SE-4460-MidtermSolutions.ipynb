{
 "cells": [
  {
   "cell_type": "markdown",
   "metadata": {},
   "source": [
    "# Midterm SE 4460A\n",
    "# Student ID: XXXXXXXXX <font color = 'red'> (XX / 100) </font>\n",
    "\n",
    "## General comments \n",
    "This Midterm integrates knowledge and skills acquired in the first half of the semester, especially in the 6 Assignments. You are allowed to use any document and source on your computer and look up documents on the internet. **You or not allowed to share documents, or communicate in any other way with people inside or outside the classroom during the midterm.** To finish the midterm in the alloted 2 hrs (an additonal 20 minutes is given to download/upload the exam/solutions), you will have to work efficiently. **Read the entirety of each question carefully.**\n",
    "\n",
    "* Students with last name starting A-D: please use **\"Data_Rack01.csv\"**\n",
    "* Students with last name starting F-L: please use **\"Data_Rack02.csv\"**\n",
    "* Students with last name starting M-N: please use **\"Data_Rack03.csv\"**\n",
    "* Students with last name starting P-S: please use **\"Data_Rack04.csv\"**\n",
    "* Students with last name starting T-Z: please use **\"Data_Rack05.csv\"**\n",
    "\n",
    "### Additional Guidance\n",
    "\n",
    "If at any point you are asking yourself \"are we supposed to...\", then *write your assumptions clearly in your exam and proceed according to those assumptions.*\n",
    "\n",
    "Good luck!\n",
    "\n",
    "\n"
   ]
  },
  {
   "cell_type": "code",
   "execution_count": 191,
   "metadata": {},
   "outputs": [],
   "source": [
    "## Preliminaries\n",
    "# Sets up the environment by importing \n",
    "# pandas, numpy, matplotlib, and statsmodels.\n",
    "\n",
    "### YOU MAY ADD ADDITIONAL IMPORTS IF YOU WISH\n",
    "\n",
    "import matplotlib\n",
    "import matplotlib.pyplot as plt \n",
    "%matplotlib inline\n",
    "import pandas as pd \n",
    "import numpy as np\n",
    "import seaborn as sns\n",
    "#from statsmodels.formula.api import ols\n",
    "\n",
    "from sklearn.model_selection import train_test_split, cross_val_score\n",
    "from sklearn.pipeline import Pipeline\n",
    "from sklearn.linear_model import LinearRegression, Lasso\n",
    "from sklearn.preprocessing import PolynomialFeatures, StandardScaler\n",
    "from sklearn.dummy import DummyRegressor\n",
    "from sklearn.metrics import make_scorer, mean_absolute_error\n"
   ]
  },
  {
   "cell_type": "markdown",
   "metadata": {},
   "source": [
    "---\n",
    "## Data set \n",
    "\n",
    "This exam objective is to develop a data-driven predictive model for the power use of an industrial refrigeration system.  \n",
    "The data frame contains the following data, where each row represents a datapoint:\n",
    "\n",
    "- Dew_Point: the temperature to which air must be cooled to become saturated with water vapor \n",
    "- Indoor_Humidity: The indoor Humidity\n",
    "- Indoor_Temperature: The indoor temprature (Fahrenheit)\n",
    "- Outdoor_Humidity: The outdoor humidity\n",
    "- Outdoor_Temperature: The outdoor temprature (Fahrenheit)\n",
    "- Discharge_Pressure: The pressure generated on the output side of a gas compressor in a refrigeration system\n",
    "- Discharge_Temperature: The compressor's discharge temperature \n",
    "- KW: Power consumed\n",
    "- Power_Factor: The power factor of the refrigeration system\n",
    "- Volts_Line_to_Line\n",
    "- Volts_Line_to_Neutral\n",
    "\n",
    "\n"
   ]
  },
  {
   "cell_type": "markdown",
   "metadata": {},
   "source": [
    "## Task 0: Data Preparation (5pts)\n",
    "\n",
    "This task will focus on loading and pre-processing the data"
   ]
  },
  {
   "cell_type": "code",
   "execution_count": 206,
   "metadata": {},
   "outputs": [
    {
     "name": "stdout",
     "output_type": "stream",
     "text": [
      "0\n",
      "<class 'pandas.core.frame.DataFrame'>\n",
      "Int64Index: 25751 entries, 0 to 25750\n",
      "Data columns (total 10 columns):\n",
      "Dew_Point                25751 non-null float64\n",
      "Indoor_Humidity          25751 non-null float64\n",
      "Indoor_Temperature       25751 non-null float64\n",
      "Outdoor_Humidity         25751 non-null float64\n",
      "Outdoor_Temperature      25751 non-null float64\n",
      "Discharge_Temperature    25751 non-null float64\n",
      "kW                       25751 non-null float64\n",
      "Power_Factor             25751 non-null float64\n",
      "Volts_Line_to_Line       25751 non-null float64\n",
      "Volts_Line_to_Neutral    25751 non-null float64\n",
      "dtypes: float64(10)\n",
      "memory usage: 2.2 MB\n"
     ]
    }
   ],
   "source": [
    "# Load data, remove the empty column(s), \n",
    "# Then drop rows with any missing data (\"NA\").\n",
    "# remove the 'DeviceName' column as well\n",
    "data = pd.read_csv('Data_Rack01.csv')\n",
    "\n",
    "data=data.drop(['Discharge_Pressure', 'DeviceName'],axis=1)\n",
    "df = data.dropna()\n",
    "df.head()\n",
    "print(df.isna().sum().sum())\n",
    "df.columns\n",
    "df.info()"
   ]
  },
  {
   "cell_type": "markdown",
   "metadata": {},
   "source": [
    "\n",
    "## Task 1: Prediction (75pts)\n",
    "\n",
    "This task will focus on building predictive models for the power consumed based on the other available data."
   ]
  },
  {
   "cell_type": "markdown",
   "metadata": {},
   "source": [
    "### ---\n",
    "### Question 1.1 - Visualizing the Outcome (4pts)\n",
    "\n",
    "Produce a plot that visualizes the marginal distribution of the power consumed ('kW' column)."
   ]
  },
  {
   "cell_type": "code",
   "execution_count": 207,
   "metadata": {},
   "outputs": [
    {
     "data": {
      "text/plain": [
       "<matplotlib.axes._subplots.AxesSubplot at 0x27d8ce15888>"
      ]
     },
     "execution_count": 207,
     "metadata": {},
     "output_type": "execute_result"
    },
    {
     "data": {
      "image/png": "[encoded data removed]",
      "text/plain": [
       "<Figure size 432x288 with 1 Axes>"
      ]
     },
     "metadata": {
      "needs_background": "light"
     },
     "output_type": "display_data"
    }
   ],
   "source": [
    "# Q1.1 - Code to produce plot\n",
    "\n",
    "# Any plot of the marginal distribution is acceptable\n",
    "\n",
    "df.kW.hist()"
   ]
  },
  {
   "cell_type": "markdown",
   "metadata": {},
   "source": [
    "---\n",
    "### Question 1.2 - Loss Functions (7pts)\n",
    "\n",
    "Define two loss functions, one that measures the absolute difference between observations and predictions, and one that gives the mean number of instances for which the difference is less than or equal to a threshold `thresh`.\n",
    "\n",
    "For example, if we had\n",
    "\n",
    "obs = [1, 2, 3, 4, 5]\n",
    "pred = [5, 4, 3, 2, 1]\n",
    "\n",
    "Then threshold_loss(obs, pred, 2) should give 0.6\n"
   ]
  },
  {
   "cell_type": "code",
   "execution_count": 208,
   "metadata": {},
   "outputs": [
    {
     "name": "stdout",
     "output_type": "stream",
     "text": [
      "(0.4, 0.5477225575051662)\n"
     ]
    }
   ],
   "source": [
    "# Q1.2 - definitions of loss functions\n",
    "\n",
    "def abs_diff_loss(obs, pred):\n",
    "    \n",
    "    # Resids is an array\n",
    "    resids = abs(pred-obs)\n",
    "    \n",
    "    # Arrays have mean and std methods\n",
    "    return resids.mean(), resids.std(ddof=1)\n",
    "    \n",
    "def threshold_loss(obs, pred, thresh):\n",
    "    \n",
    "    # Check if residual is within threshold\n",
    "    resids = abs(obs-pred)>thresh\n",
    "    \n",
    "    # This turns booleans into ints.  1==True, 0==False\n",
    "    # Most people used a loop.  That works too\n",
    "    resids = resids.astype(int)\n",
    "    return resids.mean(), resids.std(ddof=1)\n",
    "    \n",
    "\n",
    "# Did I do it right?\n",
    "results = threshold_loss(np.arange(1,6), np.arange(5,0, -1), 2)\n",
    "print(results)\n",
    "    \n",
    "    \n"
   ]
  },
  {
   "cell_type": "markdown",
   "metadata": {},
   "source": [
    "---\n",
    "### Question 1.3 (7pts)\n",
    "\n",
    "Suppose you are using the absolute loss. If you wanted to set a test set aside for evaluation, how much data should you allocate for testing if you want to evaluate the performance of our predictor to within +/- 1 units of loss with 95% confidence? Explain in 2 or 3 sentences the assumptions you used to compute the sample size. (There are several different approaches that are all acceptable.)"
   ]
  },
  {
   "cell_type": "code",
   "execution_count": 209,
   "metadata": {},
   "outputs": [
    {
     "name": "stdout",
     "output_type": "stream",
     "text": [
      "1365.0\n"
     ]
    }
   ],
   "source": [
    "# Q1.3 - Computation to compute sample size for absolute difference\n",
    "\n",
    "pred = df.kW.median()\n",
    "\n",
    "# Use the median as a prediction to get a \n",
    "# rough estimate of the noise\n",
    "mu, sigma = abs_diff_loss(pred, df.kW)\n",
    "\n",
    "\n",
    "\n",
    "# Formula from class\n",
    "n_abs_loss = np.ceil((2*sigma/1)**2)\n",
    "\n",
    "print(n_abs_loss)"
   ]
  },
  {
   "cell_type": "markdown",
   "metadata": {},
   "source": [
    "#### Q1.3 - Explanation\n",
    "\n",
    "Assume the standard deviation obtained from using median as prediction is good estimate for noise present in data.  Likely an overestimation.\n"
   ]
  },
  {
   "cell_type": "markdown",
   "metadata": {},
   "source": [
    "---\n",
    "### Question 1.4 (7pts)\n",
    "\n",
    "Suppose you are using the threshold loss with a cutoff of 5 KW to measure performance. If you wanted to set a test set aside for evaluation, how much data should you allocate for testing if you want to evaluate the performance of our predictor to within +/- 0.03 of the actual generalization performance with 95% confidence? Explain in 2 or 3 sentences the assumptions you used to compute the sample size. (There are several different approaches that are all acceptable.)"
   ]
  },
  {
   "cell_type": "code",
   "execution_count": 210,
   "metadata": {},
   "outputs": [
    {
     "name": "stdout",
     "output_type": "stream",
     "text": [
      "1112.0\n"
     ]
    }
   ],
   "source": [
    "# Q1.4 - Computation to compute sample size for proportion below threshold\n",
    "\n",
    "# This is the largest the sta\n",
    "max_sigma = 0.5\n",
    "\n",
    "n_thresh = np.ceil((2*max_sigma/0.03)**2)\n",
    "\n",
    "print(n_thresh)"
   ]
  },
  {
   "cell_type": "markdown",
   "metadata": {},
   "source": [
    "#### Q1.4 - Explanation\n",
    "\n",
    "The standard deviation of a binary random variale is $\\sqrt{p(1-p)}$, where $p$ is the fraction of observations equal to 1.  The largest this can be is 0.5.  Just assume that true sigma is as large as possible. Here the random variable is a binomial  random variable with values 0 or 1 (above or below the threshold). \n"
   ]
  },
  {
   "cell_type": "markdown",
   "metadata": {},
   "source": [
    "###### ---\n",
    "### Question 1.5 - Test Split (8pts)\n",
    "\n",
    "Set aside some amount of data for testing, and retain the rest for training. Choose whichever amount you want based on your previous answers, and state which one you used. **Use your Student ID number as the *random_state* parameter value.**\n"
   ]
  },
  {
   "cell_type": "code",
   "execution_count": 211,
   "metadata": {},
   "outputs": [
    {
     "name": "stdout",
     "output_type": "stream",
     "text": [
      "219474 12285\n",
      "Index(['Dew_Point', 'Indoor_Humidity', 'Indoor_Temperature',\n",
      "       'Outdoor_Humidity', 'Outdoor_Temperature', 'Discharge_Temperature',\n",
      "       'kW', 'Power_Factor', 'Volts_Line_to_Line', 'Volts_Line_to_Neutral'],\n",
      "      dtype='object')\n"
     ]
    }
   ],
   "source": [
    "# Q1.5 - Code to set aside data\n",
    "\n",
    "# Use absolute difference n_est\n",
    "\n",
    "X = df.drop('kW', axis = 'columns').values\n",
    "DfFeatures = df.drop('kW', axis = 'columns')\n",
    "y = df.kW.values\n",
    "\n",
    "Xtrain, Xtest, ytrain, ytest = train_test_split(X,\n",
    "                                                y, \n",
    "                                                test_size = int(n_abs_loss),\n",
    "                                                random_state = 19920908)\n",
    "\n",
    "print(Xtrain.size, Xtest.size)\n",
    "print(df.columns)"
   ]
  },
  {
   "cell_type": "markdown",
   "metadata": {},
   "source": [
    "### ---\n",
    "### Question 1.6 - Simple Linear Model (5pts)\n",
    "\n",
    "Using Ordinary Least Squares, build a model to predict power consumed (KW) as a linear function of the other variables in the data.\n"
   ]
  },
  {
   "cell_type": "code",
   "execution_count": 212,
   "metadata": {},
   "outputs": [],
   "source": [
    "# Q1.6 - Code to produce simple OLS model\n",
    "\n",
    "# Just build, don't fit.\n",
    "simple_model = Pipeline([\n",
    "    ('linear_regression', LinearRegression())\n",
    "])\n",
    "\n",
    "# If you wanted to be funny you could have used a dummy regressor\n",
    "# This just returns the median of the training data!\n",
    "# And I suppose *technically* it is a function of the other variables\n",
    "# Can't get simpler than that!\n",
    "dummy_model = DummyRegressor(strategy='median')\n"
   ]
  },
  {
   "cell_type": "markdown",
   "metadata": {},
   "source": [
    "---\n",
    "### Question 1.7 - More Complex Model (8pts)\n",
    "\n",
    "Again using Ordinary Least Squares, develop second a model that has lower training error than the simple model."
   ]
  },
  {
   "cell_type": "code",
   "execution_count": 213,
   "metadata": {},
   "outputs": [],
   "source": [
    "# Q1.7 - Code to produce more complex OLS model\n",
    "\n",
    "# Just Build, don't fit\n",
    "# Most people used polynomial features.  I think that's a good idea\n",
    "\n",
    "complex_model = Pipeline([\n",
    "    ('poly', PolynomialFeatures(degree=2, include_bias = False)),\n",
    "    ('linear_regression', LinearRegression())\n",
    "])\n",
    "\n",
    "# If you built a dummy regressor, all you needed to do here was pass\n",
    "# linear regression.  We didn't expect you to know that,\n",
    "# and I'm sure Dan didn't think of that.  This is just me\n",
    "# being pedantic."
   ]
  },
  {
   "cell_type": "markdown",
   "metadata": {},
   "source": [
    "### Question 1.8 - Model Selection (10pts)\n",
    "\n",
    "Use cross-validation to compare the two model spaces to select the one you think will result in the smallest generalization error for one of the loss functions you defined above. (Either one.) Explain why you chose the particular model space. \n"
   ]
  },
  {
   "cell_type": "code",
   "execution_count": 214,
   "metadata": {},
   "outputs": [
    {
     "name": "stdout",
     "output_type": "stream",
     "text": [
      "Simple model cv: 22.562732372576953\n",
      "Simple CV:  [22.47109471 22.32647119 22.67492311 22.80910396 22.53206889]\n",
      "Complex Model: 15.262977097953916\n",
      "Complex Model: [15.12021001 15.36096266 15.33033559 15.52142656 14.98195066]\n"
     ]
    }
   ],
   "source": [
    "# Q1.8 - Code to do cross-validation to compare models\n",
    "\n",
    "# Should have trained on training data from part 1.5\n",
    "# Cross validate mean absolute error directly\n",
    "simple_cv = cross_val_score(dummy_model, \n",
    "                            Xtrain, \n",
    "                            ytrain, \n",
    "                            cv = 5, \n",
    "                            scoring=make_scorer(mean_absolute_error))\n",
    "\n",
    "\n",
    "print('Simple model cv:', simple_cv.mean())\n",
    "print('Simple CV: ', simple_cv)\n",
    "\n",
    "complex_cv = cross_val_score(complex_model, \n",
    "                            Xtrain, \n",
    "                            ytrain, \n",
    "                            cv = 5, \n",
    "                            scoring=make_scorer(mean_absolute_error))\n",
    "\n",
    "# This is the dummy regressor's CV\n",
    "print('Complex Model:', complex_cv.mean())\n",
    "print('Complex Model:', complex_cv)\n"
   ]
  },
  {
   "cell_type": "markdown",
   "metadata": {},
   "source": [
    "#### Q1.8 - Explanation\n",
    "\n",
    "\n",
    "If it comes down between the two, select complex model.  Cross valdiation is an estimate of generalization error, so looks like complex model should have smaller generalization error than simple model."
   ]
  },
  {
   "cell_type": "markdown",
   "metadata": {},
   "source": [
    "---\n",
    "### Question 1.9 - Evaluation, Absolute Value, Normal approximation confidence interval (8pts)\n",
    "\n",
    "Provide a point estimate for the generalization error of your chosen model using the absolute difference loss. Also provide a 95% confidence interval for the true generalization error under this loss. Construct the interval using a normal approximation."
   ]
  },
  {
   "cell_type": "code",
   "execution_count": 215,
   "metadata": {},
   "outputs": [
    {
     "data": {
      "text/plain": [
       "array([14.11282367, 14.82418263, 15.5355416 ])"
      ]
     },
     "execution_count": 215,
     "metadata": {},
     "output_type": "execute_result"
    }
   ],
   "source": [
    "# Q1.9 Evaluation - Absolute Value Loss - Use normal approximation\n",
    "complex_model.fit(Xtrain, ytrain)\n",
    "preds = complex_model.predict(Xtest)\n",
    "mu, sigma = abs_diff_loss(ytest, preds)\n",
    "\n",
    "# Critical vaue should be approx 2.  Using 1.96 is also fine.\n",
    "# Since training is so small, I am going to use the true critical value\n",
    "# Because it results in a wider confidence interval\n",
    "tcrit = t.ppf(0.975, df=n_abs_loss-1)\n",
    "radius = tcrit*sigma/np.sqrt(n_abs_loss)\n",
    "\n",
    "#In order of appearence: Left end, point estimate, right end\n",
    "np.arange(-1,2)*radius + mu"
   ]
  },
  {
   "cell_type": "markdown",
   "metadata": {},
   "source": [
    "---\n",
    "### Question 1.10 - Evaluation, Threshold, Bootstrap approximation confidence interval (11pts)\n",
    "\n",
    "Provide a point estimate for the generalization error of your model using the threshold loss with a threshold of 4. Also provide a 95% confidence interval for the true generalization error under this loss. Construct the interval using the bootstrap."
   ]
  },
  {
   "cell_type": "code",
   "execution_count": 216,
   "metadata": {},
   "outputs": [
    {
     "name": "stdout",
     "output_type": "stream",
     "text": [
      "[0.82857143 0.84761905 0.86666667]\n"
     ]
    }
   ],
   "source": [
    "# Q1.10 Evaluation - Threshold Loss - Use bootstrap\n",
    "\n",
    "# This one is tough\n",
    "# I'm assuming I can use the sample size I chose earlier\n",
    "# and not the one I computed for this loss\n",
    "\n",
    "numits = 10000\n",
    "thresh = 4\n",
    "bootstrap_loss=np.zeros(numits)\n",
    "complex_model.fit(Xtrain, ytrain)\n",
    "\n",
    "\n",
    "for i in range(numits):\n",
    "    # Sample incicies from\n",
    "    ix = np.random.randint(low=0, high = int(n_abs_loss), size = int(n_abs_loss))\n",
    "    # Passing randomly sampled indicies is the same as randomly sampling\n",
    "    xboot = Xtest[ix]\n",
    "    yboot = ytest[ix]\n",
    "    ypreds = complex_model.predict(xboot)\n",
    "    mu, sigma = threshold_loss(yboot, ypreds, thresh)\n",
    "    bootstrap_loss[i]=mu\n",
    "    \n",
    "\n",
    "#Interval is quantiles\n",
    "interval_estimate = np.quantile(bootstrap_loss, [0.025, 0.5, 0.975])\n",
    "\n",
    "#In order of appearance: Left estimate, point estimate, right estimate\n",
    "print(interval_estimate)\n"
   ]
  },
  {
   "cell_type": "markdown",
   "metadata": {},
   "source": [
    "---\n",
    "---\n",
    "## Task 2 - Regularized Linear Regression Model"
   ]
  },
  {
   "cell_type": "markdown",
   "metadata": {},
   "source": [
    "---\n",
    "### Question 2.1 (10 pts)  \n",
    "\n",
    "Use L1 regularization to determine the best set of variables to include in a predictive model. Add a penalty of $\\lambda \\sum_{i}{|\\beta_i|_1}$ ($\\beta_i$ are your regression coefficients) to the linear regression model. Vary the regularization parameter $\\lambda$ between 0.2 and 200, evenly spaced in log-space.\n",
    "\n",
    "Apply all necessary preprocessing steps to your variables to be able to compare meanfully between different predictors in the model.\n",
    "\n",
    "Plot the coefficient path, i.e. the size of the regression coefficients relative to the size of the the regularization paramter. Which two variables are the two most important predictors?"
   ]
  },
  {
   "cell_type": "code",
   "execution_count": 217,
   "metadata": {},
   "outputs": [
    {
     "data": {
      "image/png": "[encoded data removed]",
      "text/plain": [
       "<Figure size 720x480 with 1 Axes>"
      ]
     },
     "metadata": {
      "needs_background": "light"
     },
     "output_type": "display_data"
    }
   ],
   "source": [
    "regularization_strength = np.exp(np.linspace(np.log(0.2),np.log(200),50))\n",
    "\n",
    "coefs = np.zeros((regularization_strength.size, X.shape[1]))\n",
    "\n",
    "for i,L in enumerate(regularization_strength):\n",
    "    lasso_pipe = Pipeline([\n",
    "    ('scale', StandardScaler()),\n",
    "    ('linear_regression', Lasso(alpha=L, \n",
    "                                               fit_intercept=True)) \n",
    "    ])\n",
    "    \n",
    "    lasso_pipe.fit(Xtrain, ytrain)\n",
    "    coefs[i] = lasso_pipe.named_steps['linear_regression'].coef_    \n",
    "\n",
    "fig, ax = plt.subplots(dpi = 120)\n",
    "ax.plot(np.log(regularization_strength), coefs)\n",
    "ax.set_xlabel(r'$\\log(\\lambda)$', fontsize = 16)\n",
    "ax.set_ylabel(r'$\\hat{\\beta}$', fontsize = 16)\n",
    "ax.set_title('Coefficient Path', fontsize = 18)\n",
    "ax.set_xlim(-4,None)\n",
    "\n",
    "for i, name in enumerate(DfFeatures.columns[:-1]):\n",
    "    \n",
    "    ax.annotate(name, xy = (-3, coefs[0,i]), ha = 'left', fontsize = 8)\n"
   ]
  },
  {
   "cell_type": "markdown",
   "metadata": {},
   "source": [
    "#### Q2.1 - Explanation\n",
    "\n"
   ]
  },
  {
   "cell_type": "markdown",
   "metadata": {},
   "source": [
    "---\n",
    "### Question 2.2 (10 pts)\n",
    "\n",
    "Using the same model and the range of regularisation parameters as in T2, Q1, determine the 10-fold crossvalidated performance for different values of the L1-regularisation parameter. \n",
    "\n",
    "Make a plot of the crossvalidated score against $log(\\lambda)$. Based on this criterion, what is the optional setting of the L1-regularization parameter? At this value, which variables contribute to the prediction?"
   ]
  },
  {
   "cell_type": "code",
   "execution_count": 218,
   "metadata": {
    "scrolled": true
   },
   "outputs": [
    {
     "data": {
      "text/plain": [
       "Text(0, 0.5, 'cvScoreMean')"
      ]
     },
     "execution_count": 218,
     "metadata": {},
     "output_type": "execute_result"
    },
    {
     "data": {
      "image/png": "[encoded data removed]",
      "text/plain": [
       "<Figure size 720x480 with 1 Axes>"
      ]
     },
     "metadata": {
      "needs_background": "light"
     },
     "output_type": "display_data"
    }
   ],
   "source": [
    "regularization_strength = np.exp(np.linspace(np.log(0.2),np.log(200),50))\n",
    "\n",
    "coefs = np.zeros((regularization_strength.size, X.shape[1]))\n",
    "\n",
    "cvScoreMean=np.zeros(regularization_strength.size)\n",
    "\n",
    "for i,L in enumerate(regularization_strength):\n",
    "    lasso_pipe = Pipeline([\n",
    "    ('scale', StandardScaler()),\n",
    "    ('linear_regression', Lasso(alpha=L, \n",
    "                                               fit_intercept=True)) \n",
    "    ])\n",
    "    cv_score = cross_val_score(lasso_pipe, Xtrain, ytrain, cv=10)\n",
    "    cvScoreMean[i]= cv_score.mean()\n",
    "\n",
    "fig, ax = plt.subplots(dpi = 120)\n",
    "ax.plot(np.log(regularization_strength), cvScoreMean)\n",
    "ax.set_xlabel(r'$\\log(\\lambda)$', fontsize = 16)\n",
    "ax.set_ylabel(r'cvScoreMean', fontsize = 16)"
   ]
  },
  {
   "cell_type": "code",
   "execution_count": 219,
   "metadata": {},
   "outputs": [
    {
     "name": "stdout",
     "output_type": "stream",
     "text": [
      "Best lambda: 0.2\n",
      "Variables included: Index([], dtype='object')\n"
     ]
    }
   ],
   "source": [
    "bestI=np.argmax(cvScoreMean)\n",
    "print('Best lambda:',regularization_strength[bestI])\n",
    "print('Variables included:',DfFeatures.columns[coefs[bestI]!=0])"
   ]
  },
  {
   "cell_type": "code",
   "execution_count": null,
   "metadata": {},
   "outputs": [],
   "source": []
  },
  {
   "cell_type": "code",
   "execution_count": null,
   "metadata": {},
   "outputs": [],
   "source": []
  }
 ],
 "metadata": {
  "kernelspec": {
   "display_name": "Python 3",
   "language": "python",
   "name": "python3"
  },
  "language_info": {
   "codemirror_mode": {
    "name": "ipython",
    "version": 3
   },
   "file_extension": ".py",
   "mimetype": "text/x-python",
   "name": "python",
   "nbconvert_exporter": "python",
   "pygments_lexer": "ipython3",
   "version": "3.8.3"
  }
 },
 "nbformat": 4,
 "nbformat_minor": 1
}
