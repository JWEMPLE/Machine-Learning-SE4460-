{
 "cells": [
  {
   "cell_type": "code",
   "execution_count": null,
   "metadata": {},
   "outputs": [],
   "source": [
    "class TestPublicTests: \n",
    "    \n",
    "    \"\"\"\n",
    "    You can verify your code is working by running these tests.\n",
    "    \"\"\"\n",
    "    # Xtrainamount is the variable used to store the values used for training the model\n",
    "    # In case you have assigned a different variable name, make sure this variable replaces the Xtrainamount\n",
    "    def test_trainSet_question4(Xtrainamount): \n",
    "        assert isinstance(Xtrainamount, np.ndarray)\n",
    "    \n",
    "    # The same applies to Xtestamount \n",
    "    def test_testSet_question4(Xtestamount):\n",
    "        assert Xtestamount.shape == (142404, 1)\n",
    "        \n",
    "    # xp is the data that is being fed to the predict function\n",
    "    def test_shapeOfPredictInput_question4(xp): \n",
    "        assert xp.shape == (50, 1)\n",
    "        \n",
    "    # yp2 is the 2-d array that includes the results of the predict_proba\n",
    "    def test_valOfProb_question4(yp2):\n",
    "        assert round(yp2[23, 1],2) == 0.08\n",
    "    \n",
    "    #lr_amount is the model that only uses the amount as its feature for predictions   \n",
    "    def test_valOfIntercept_question5(lr_amount):\n",
    "        assert round(lr_amount.intercept_[0], 2) == -6.38\n",
    "        \n",
    "    # lr_all is the model that uses all the features for training    \n",
    "    def test_coeffOfV2_question6(lr_all): \n",
    "        assert round(lr_all.coef_[0][3],2) == -1.18\n",
    "        \n",
    "    # This function tests a value of fpr that is output of the roc_curve function after applying it on the model\n",
    "    # that includes the amount feature only\n",
    "    def test_fprOfAmountOnly_question8(fpr):\n",
    "        assert round(fpr[421], 2) == 0.02\n",
    "    \n",
    "    # This function tests a value of tpr that is output of the roc_curve function after applying it on the model\n",
    "    # that includes all the features\n",
    "    def test_tprOfAll_question8(tpr):\n",
    "        assert round(tpr[223],2) == 0.88\n",
    "        \n",
    "    # This function tests a value of the array (ytest_prob_amount) that includes the probability values \n",
    "    # of predictions (predict_proba) that resulted from the model that includes the amount feature only \n",
    "    def test_probOfAmount_question9(ytest_prob_amount):\n",
    "        assert round(ytest_prob_amount[3,0],3) == 0.998\n",
    "    \n",
    "    # This function tests a value of the recall that is output of the precision recall function after applying it on the model\n",
    "    # that includes all the features\n",
    "    def test_precisionOfAll_question9(recall):\n",
    "        assert round(recall[210],3) == 0.996"
   ]
  }
 ],
 "metadata": {
  "kernelspec": {
   "display_name": "Python 3",
   "language": "python",
   "name": "python3"
  },
  "language_info": {
   "codemirror_mode": {
    "name": "ipython",
    "version": 3
   },
   "file_extension": ".py",
   "mimetype": "text/x-python",
   "name": "python",
   "nbconvert_exporter": "python",
   "pygments_lexer": "ipython3",
   "version": "3.7.2"
  }
 },
 "nbformat": 4,
 "nbformat_minor": 2
}
