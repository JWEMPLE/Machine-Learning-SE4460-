{
 "cells": [
  {
   "cell_type": "markdown",
   "metadata": {},
   "source": [
    "# Grade: /20 Mark(s)\n",
    "\n",
    "# Lab Assignment 02: Maximum Likelihood\n",
    "\n",
    "\n",
    "### Maximum Likelihood\n",
    "\n",
    "The poisson distribution https://en.wikipedia.org/wiki/Poisson_distribution is a discrete probability distribution often used to describe count-based data, like how many snowflakes fall in a day.\n",
    "\n",
    "If we have count data $y$ that are influenced by a covariate or feature $x$, we can use the maximum likelihood principle to develop a regression model relating $x$ to $y$.\n",
    "\n",
    "\n",
    "\n",
    "\n",
    "### Follow These Instructions\n",
    "\n",
    "Once you are finished, ensure to complete the following steps.\n",
    "\n",
    "1.  Restart your kernel by clicking 'Kernel' > 'Restart & Run All'.\n",
    "\n",
    "2.  Fix any errors which result from this.\n",
    "\n",
    "3.  Repeat steps 1. and 2. until your notebook runs without errors.\n",
    "\n",
    "4.  Submit your completed notebook to OWL by the deadline.\n"
   ]
  },
  {
   "cell_type": "code",
   "execution_count": 1,
   "metadata": {},
   "outputs": [],
   "source": [
    "#It's dangerous to go alone.  Take these!\n",
    "import numpy as np\n",
    "import matplotlib.pyplot as plt\n",
    "import pandas as pd\n",
    "import statsmodels.formula.api as sm\n",
    "from statsmodels.tools import add_constant\n",
    "from scipy.optimize import minimize\n",
    "from scipy.special import gammaln\n",
    "import pytest\n",
    "\n"
   ]
  },
  {
   "cell_type": "code",
   "execution_count": 2,
   "metadata": {},
   "outputs": [],
   "source": [
    "from scipy.stats import poisson\n",
    "    \n",
    "class TestPublicTests:\n",
    "\n",
    "    \"\"\"\n",
    "    You can verify your code is working by running these tests.\n",
    "    \"\"\"\n",
    "\n",
    "    def test_poissonNegLogLikelihood_returns_float(self):\n",
    "        # Your function should return a float, not an array\n",
    "        assert isinstance(poissonNegLogLikelihood(1.0, 1.0), float)\n",
    "\n",
    "    def test_poissonNegLogLikelihood_returns_nan(self):\n",
    "        # Your function should return NAN when I pass lam=0, y=0\n",
    "        assert np.isnan(poissonNegLogLikelihood(0, 0))\n",
    "\n",
    "    def test_poissonNegLogLikelihood_returns_inf(self):\n",
    "        # Your function should return inf when I pass lam=0, y=1\n",
    "        assert np.isinf(poissonNegLogLikelihood(0, 1))\n",
    "\n",
    "    def test_poissonNegLogLikelihood_values(self):\n",
    "        # Here are some test cases for your function.\n",
    "        # If you pass all of these, that is good evidence that your function is working.\n",
    "        pll_test_1 = poissonNegLogLikelihood(2.0, np.array([1.0]))\n",
    "        # Test 1\n",
    "        assert np.isclose(pll_test_1, 1.30, rtol=1e-2)\n",
    "\n",
    "    def test_poissonNegLogLikelihood_values2(self):\n",
    "        pll_test_2 = poissonNegLogLikelihood(5.5, 0)\n",
    "        print(pll_test_2)\n",
    "        # Test 2\n",
    "        assert pll_test_2 == 5.5\n",
    "\n",
    "    def test_poissonNegLogLikelihood_values3(self):\n",
    "        pll_test_3 = poissonNegLogLikelihood(np.arange(1, 4), np.arange(1, 4))\n",
    "        # Test 3\n",
    "        assert np.isclose(pll_test_3, 3.8, rtol=1e-2)\n",
    "\n",
    "    def test_poissonNegLogLikelihood_values4(self):\n",
    "\n",
    "        pll_test_4 = poissonNegLogLikelihood(np.ones(2), np.ones(2))\n",
    "        # Test 4\n",
    "        assert np.isclose(pll_test_4, 2.0, rtol=1e-2)\n",
    "\n",
    "    def test_poissonNegLogLikelihood_values5(self):\n",
    "        # Test 5\n",
    "        with pytest.raises(ValueError):\n",
    "            # Should not compute when lam and y are different sizes\n",
    "            poissonNegLogLikelihood(np.ones(2), np.ones(3))\n",
    "\n",
    "    def test_poissonRegressionLogLikelihood(self):\n",
    "\n",
    "        # Your answer should be a float\n",
    "        n,p = 10,1\n",
    "        x = np.random.normal(size=(n,p))\n",
    "        x[:,0] = 1\n",
    "        y = poisson.rvs(mu=2.0)\n",
    "        b = np.zeros(p)\n",
    "        prll_test_1 = poissonRegressionNegLogLikelihood(b, x, y)\n",
    "\n",
    "        # Test 1\n",
    "        assert isinstance(prll_test_1, float)\n",
    "\n",
    "    def test_fitPoissonRegression(self):\n",
    "        # This data has no relationship between x and y\n",
    "        n, p = 20, 3\n",
    "        X = np.random.normal(size=(n, p))\n",
    "        X[:,0] = 1\n",
    "        y = poisson.rvs(mu=2.0, size=n)\n",
    "        betas = fitModel(X, y)\n",
    "\n",
    "        # Test 1\n",
    "        assert isinstance(betas, np.ndarray)"
   ]
  },
  {
   "cell_type": "markdown",
   "metadata": {},
   "source": [
    "### Question 1: /2 Mark(s)\n",
    "\n",
    "The negative log likelihood for a Poisson random variable is\n",
    "\n",
    "$$\\ell(\\lambda; \\mathbf{y}) = -\\sum_{i=1}^N\\Bigg( y_{i}\\cdot \\ln(\\lambda) - \\lambda - \\ln(y_i!) \\Bigg)$$\n",
    "\n",
    "Here, $\\mathbf{y}$ is a vector of counts and $\\lambda$ is a scalar value.\n",
    "\n",
    "Write a function called `poissonNegLogLikelihood` that takes a vector of counts $\\mathbf{y}$ and a parameter $\\lambda$ and returns the negative log likelihood.  The $\\sum_{i} \\ln(y_i!)$ does not affect the location of the maximum, and so you can omit the $ \\ln(y_i!)$ in your function.\n",
    "\n",
    "\n",
    "Test your function by calling it with `lam = 1.3` and `y=np.array([2,1,0,0])`.\n",
    "\n",
    "What happens when you call the function when `lam=np.array([1,0.5,1,3])` and  `y=np.array([2,1,0,0])`? \n",
    "\n",
    "Answer the following below in markdown: What happens when you set an element of lam to 0 or a negative number and why? \n"
   ]
  },
  {
   "cell_type": "code",
   "execution_count": 3,
   "metadata": {},
   "outputs": [
    {
     "name": "stdout",
     "output_type": "stream",
     "text": [
      "5.106054387157472\n"
     ]
    }
   ],
   "source": [
    "def poissonNegLogLikelihood(lam,y):\n",
    "    \n",
    "    # Read up on the gamma function to make sure you get the likelihood right!\n",
    "    neg_log_lik = -np.sum((y*np.log(lam))-lam-gammaln(y+1))\n",
    "    return neg_log_lik\n",
    "\n",
    "lam = 1.3\n",
    "y = np.array([2,1,0,0])\n",
    "\n",
    "#lam=np.array([1,0.5,1,3])\n",
    "#y=np.array([2,1,0,0])\n",
    "\n",
    "#instead of keeping a constant, ex. 1.3, it sums the values in the array together, therefore it results in a larger number\n",
    "#but arrays have to be the same size\n",
    "\n",
    "final_answer = poissonNegLogLikelihood(lam,y)\n",
    "\n",
    "print(final_answer)\n",
    "\n",
    "#print(poissonNegLogLikelihood(0,0))\n",
    "\n",
    "#test = TestPublicTests()\n",
    "#test.test_poissonNegLogLikelihood_returns_float()\n",
    "#test.test_poissonNegLogLikelihood_returns_nan()\n",
    "#test.test_poissonNegLogLikelihood_returns_inf()\n",
    "#test.test_poissonNegLogLikelihood_values()\n",
    "#test.test_poissonNegLogLikelihood_values2()\n",
    "#test.test_poissonNegLogLikelihood_values3()\n",
    "#test.test_poissonNegLogLikelihood_values4()\n",
    "#test.test_poissonNegLogLikelihood_values5()"
   ]
  },
  {
   "cell_type": "markdown",
   "metadata": {},
   "source": [
    "Write your answer here\n",
    "\n",
    "When you set an element of lam to 0 or a negative number it returns \"nan\", because log can only accept  a value from 1 to infinity."
   ]
  },
  {
   "cell_type": "markdown",
   "metadata": {},
   "source": [
    "### Question 2: /3 Mark(s)\n",
    "\n",
    "Write a function called `poissonRegressionNegLogLikelihood` that takes as arguments a vector $\\mathbf{y}$ of counts, a design matrix $\\mathbf{X}$ of features for each count, and a vector $\\mathbf{\\beta}$ of parameters. The function should return the negative log likelihood of this dataset, assuming that each element of  $\\mathbf{y}$ is independent and Poisson distributed with parameter $\\lambda = \\exp(\\mathbf{X}\\beta)$.\n",
    "\n",
    "Hint: You can use `poissonNegLogLikelihood` in this answer!\n",
    "Test your function by calling it with \n",
    "* `b=np.array([1,2])`\n",
    "* `X=np.array([[1,2,3],[2,3,1]]).T`\n",
    "* `y=np.array([0,2,10])`\n"
   ]
  },
  {
   "cell_type": "code",
   "execution_count": 4,
   "metadata": {},
   "outputs": [
    {
     "name": "stdout",
     "output_type": "stream",
     "text": [
      "3227.581865000517\n"
     ]
    }
   ],
   "source": [
    "def poissonRegressionNegLogLikelihood(b, X, y):\n",
    "    #Enter the expression for lambda as shown above!\n",
    "    lam = np.exp(np.dot(X,b))\n",
    "    # Use poissonNegLogLikelihood to compute the likelihood\n",
    "    neg_log_lik = poissonNegLogLikelihood(lam,y)\n",
    "    return neg_log_lik\n",
    "\n",
    "b=np.array([1,2])\n",
    "X=np.array([[1,2,3],[2,3,1]]).T\n",
    "y=np.array([0,2,10])\n",
    "\n",
    "final_answer = poissonRegressionNegLogLikelihood(b,X,y)\n",
    "\n",
    "print (final_answer)\n",
    "\n",
    "#test.test_poissonRegressionLogLikelihood()"
   ]
  },
  {
   "cell_type": "markdown",
   "metadata": {},
   "source": [
    "### Question 3: /2 Mark(s)\n",
    "\n",
    "a) In `poissonRegressionNegLogLikelihood`, why did we apply the exponential function to $\\mathbf{X}\\beta$?  Hint: Can an exponential ever be negative?\n",
    "\n",
    "b) What might have happened had we just passed $\\lambda = \\mathbf{X}\\beta$?\n",
    "\n",
    "Answer parts a) and b) below in this cell.  Write no more than 2 sentences per answer! \n",
    "\n",
    "---\n",
    "a) We applied the exponential function because using exp() will never result in a negative lam. Which allows us to calculate the proper negative log likelihood for a Poisson random variable every time, by ensuring we are only passing poissonRegressionNegLogLikelihood function positive values. \n",
    "\n",
    "b) If we had just passed $\\lambda = \\mathbf{X}\\beta$ we would not be able to calculate the correct negative log likelihood for a Poisson random variable. This is because when we pass a negative variable to simply just $\\lambda = \\mathbf{X}\\beta$ it could produce a negative lam variable. "
   ]
  },
  {
   "cell_type": "markdown",
   "metadata": {},
   "source": [
    "### Question 4: /1 Mark(s)\n",
    "\n",
    "Write a function called `modelPrediction` which accepts as its first argument a vector of coefficents $\\beta$ and a design matrix $\\mathbf{X}$.  The function should return predictions of the form $\\widehat{\\mathbf{y}} = \\exp(\\mathbf{X}\\beta)$. \n",
    "\n",
    "Hint: Numpy implements the exponential using `np.exp`.  \n",
    "\n",
    "Test your function by calling it with \n",
    "* `b=np.array([1,2])`\n",
    "* `X=np.array([[1,2,3],[2,3,1]]).T`"
   ]
  },
  {
   "cell_type": "code",
   "execution_count": 5,
   "metadata": {},
   "outputs": [
    {
     "name": "stdout",
     "output_type": "stream",
     "text": [
      "[ 148.4131591  2980.95798704  148.4131591 ]\n"
     ]
    }
   ],
   "source": [
    "def modelPrediction(b,X):\n",
    "    yhat = np.exp(np.dot(X,b))\n",
    "    return yhat\n",
    "\n",
    "b=np.array([1,2])\n",
    "X=np.array([[1,2,3],[2,3,1]]).T\n",
    "\n",
    "final_answer = modelPrediction(b,X)\n",
    "\n",
    "print(final_answer)"
   ]
  },
  {
   "cell_type": "markdown",
   "metadata": {},
   "source": [
    "### Question 5: /3 Mark(s)\n",
    "\n",
    "Write a function called `fitModel` which accepts as its first argument argument a design matrix $\\mathbf{X}$ and as its second argument a vector of outcomes counts $\\mathbf{y}$. The function should return the maximum likelihood estimates for the coefficients of a Poisson regression of $\\mathbf{y}$ onto $\\mathbf{X}$.\n",
    "\n",
    "Test your function by calling it with \n",
    "* `X=np.array([[1,2,3],[2,3,1]]).T`\n",
    "* `y=np.array([0,2,10])`\n",
    "\n",
    "What is your estimated b? "
   ]
  },
  {
   "cell_type": "code",
   "execution_count": 6,
   "metadata": {},
   "outputs": [
    {
     "name": "stdout",
     "output_type": "stream",
     "text": [
      "[ 0.94827557 -0.52953521]\n"
     ]
    }
   ],
   "source": [
    "def fitModel(X,y):\n",
    "\n",
    "    # Instantiate a guess for the betas, beta_start, so that the optimizer has somewhere to start\n",
    "    # Keep in mind what shape the beta_start should be. It shoud have the same number of elements as X as columns\n",
    "    beta_start = np.array(np.ones(X.shape[1])) #x.shape[1] retrieves numbers of columns in X\n",
    "    \n",
    "    # Minimize the appropriate likelihood function\n",
    "    lossfcn = poissonRegressionNegLogLikelihood\n",
    "    mle = minimize(lossfcn, beta_start, args=(X,y))\n",
    "    \n",
    "    # Extract the maximum likelihood estimates from the optimizer.\n",
    "    betas = mle.x\n",
    "    return betas\n",
    "\n",
    "X=np.array([[1,2,3],[2,3,1]]).T\n",
    "y=np.array([0,2,10])\n",
    "\n",
    "final_answer = fitModel(X,y)\n",
    "\n",
    "print(final_answer)\n",
    "\n",
    "#test.test_fitPoissonRegression()"
   ]
  },
  {
   "cell_type": "markdown",
   "metadata": {},
   "source": [
    "### Question 6: /4 Mark(s)\n",
    "\n",
    "Load in the data from `poisson_regression_data.csv`. Plot a scatterplot of the data. Fit a poisson regression to this data using the functions you wrote above.  Plot the model predictions over $x \\in [-2,2]$ on the same graph as the scatterplot of the data.  "
   ]
  },
  {
   "cell_type": "code",
   "execution_count": 7,
   "metadata": {},
   "outputs": [
    {
     "data": {
      "text/plain": [
       "[<matplotlib.lines.Line2D at 0x200c978a430>]"
      ]
     },
     "execution_count": 7,
     "metadata": {},
     "output_type": "execute_result"
    },
    {
     "data": {
      "image/png": "[encoded data removed]",
      "text/plain": [
       "<Figure size 720x480 with 1 Axes>"
      ]
     },
     "metadata": {
      "needs_background": "light"
     },
     "output_type": "display_data"
    }
   ],
   "source": [
    "# Loading in the data.  \n",
    "df = pd.read_csv(\"poisson_regression_data.csv\") #file located in directory so don't need to list entire file path\n",
    "\n",
    "# Fit the model.  You can use your functions.  \n",
    "x = df.x.values \n",
    "X = np.c_[np.ones(df.shape[0]), x]\n",
    "y= df.y.values\n",
    "\n",
    "fig, ax= plt.subplots(dpi = 120)\n",
    "\n",
    "# Scatter the data. \n",
    "ax.scatter(x,y, alpha = 0.5)\n",
    "\n",
    "plt.title('Poisson Exponential Regression') #adding a title to the plot\n",
    "plt.xlabel(\"X\") #x axis label\n",
    "plt.ylabel(\"Y\") #y axis label\n",
    "\n",
    "# Find the maximum likelihood estimates for the coefficients for this data\n",
    "betas = fitModel(X,y)\n",
    "\n",
    "# Make predictions on new data\n",
    "newx = np.linspace(-2,2,101) #Returns number spaces evenly w.r.t interval. Similar to arange but instead of step it uses sample number.\n",
    "newX = np.c_[np.ones(df.shape[0]), newx]\n",
    "\n",
    "# Make predictions on the new data\n",
    "y_predicted= modelPrediction(betas,newX)\n",
    "\n",
    "#Finally, plot the predictions on the same axis and color the predictions red\n",
    "plt.plot(newx, y_predicted, color='red')\n"
   ]
  },
  {
   "cell_type": "markdown",
   "metadata": {},
   "source": [
    "### Question 7:  /4 Mark(s)\n",
    "\n",
    "Now apply linear regression (ordinary least squares) to the data, obtain parameter estimates and plot the predictions over the same range.  Feel free to use `statsmodels` to fit the linear regression."
   ]
  },
  {
   "cell_type": "code",
   "execution_count": 8,
   "metadata": {
    "scrolled": true
   },
   "outputs": [
    {
     "data": {
      "text/plain": [
       "[<matplotlib.lines.Line2D at 0x200c9869520>]"
      ]
     },
     "execution_count": 8,
     "metadata": {},
     "output_type": "execute_result"
    },
    {
     "data": {
      "image/png": "[encoded data removed]",
      "text/plain": [
       "<Figure size 720x480 with 1 Axes>"
      ]
     },
     "metadata": {
      "needs_background": "light"
     },
     "output_type": "display_data"
    }
   ],
   "source": [
    "# Read in the data\n",
    "df = pd.read_csv(\"poisson_regression_data.csv\")\n",
    "x = df.x.values \n",
    "X = np.c_[np.ones(df.shape[0]), x]\n",
    "y= df.y.values\n",
    "\n",
    "# Instantiate the model\n",
    "model = sm.ols(formula=\"y~x\", data= df) #calling the OLS function from the stats lib -recieves inputs and outputs and calculates\n",
    "#could've done model =sm.ols(formula=\"y~x\", data= df).fit()\n",
    "\n",
    "# Fit the model.  Remember, in statsmodels this happens in a different step!\n",
    "# You can use either the formula or the functionl API here \n",
    "result_OLS = model.fit() #fit the model\n",
    "b_OLS = np.array([result_OLS.params.Intercept, result_OLS.params.x]) #extracting parameters and storing\n",
    "\n",
    "# Make predictions over the range -2 to 2\n",
    "newx = np.linspace(-2,2,101) #Returns number spaces evenly w.r.t interval. Similar to arange but instead of step it uses sample number.\n",
    "newX = np.c_[np.ones(df.shape[0]), newx]\n",
    "y_predicted= yp = np.dot(newX, b_OLS)\n",
    "\n",
    "# Plot a scatter plot of the data and your model's predictions\n",
    "fig, ax = plt.subplots(dpi = 120)\n",
    "ax.scatter(x,y, alpha = 0.5)\n",
    "\n",
    "plt.title('Poisson Linear Regression') #adding a title to the plot\n",
    "plt.xlabel(\"X\") #x axis label\n",
    "plt.ylabel(\"Y\") #y axis label\n",
    "\n",
    "#Finally, plot the predictions on the same axis and color the predictions red\n",
    "plt.plot(newx, y_predicted, color='red')"
   ]
  },
  {
   "cell_type": "markdown",
   "metadata": {},
   "source": [
    "### Question 8: /1 Mark(s)\n",
    "\n",
    "a) Do you see any major problems with the predictions from linear regression? Keep in mind that this model is intended to model counts of things. Provide your answer below in markdown in fewer than 5 sentences.\n",
    "\n",
    "---\n",
    "\n",
    "a)The poisson distribution is a discrete probability distribution often used to describe count-based data. It's impossible to count negative things; for example, if you were to count cars passing by it can only increase, never decrease. Therefore, the major problem with the predications from the linear regression model above is the fact it suggests negative y values are possible. This means the linear regression model is incorrect for values from x = -2.0 to -0.75.\n",
    "\n",
    "\n"
   ]
  },
  {
   "cell_type": "markdown",
   "metadata": {},
   "source": [
    "### Follow These Instructions\n",
    "\n",
    "Once you are finished, ensure to complete the following steps.\n",
    "\n",
    "1.  Restart your kernel by clicking 'Kernel' > 'Restart & Run All'.\n",
    "\n",
    "2.  Fix any errors which result from this.\n",
    "\n",
    "3.  Repeat steps 1. and 2. until your notebook runs without errors.\n",
    "\n",
    "4.  Submit your completed notebook to OWL by the deadline."
   ]
  }
 ],
 "metadata": {
  "kernelspec": {
   "display_name": "Python 3",
   "language": "python",
   "name": "python3"
  },
  "language_info": {
   "codemirror_mode": {
    "name": "ipython",
    "version": 3
   },
   "file_extension": ".py",
   "mimetype": "text/x-python",
   "name": "python",
   "nbconvert_exporter": "python",
   "pygments_lexer": "ipython3",
   "version": "3.8.3"
  }
 },
 "nbformat": 4,
 "nbformat_minor": 4
}
