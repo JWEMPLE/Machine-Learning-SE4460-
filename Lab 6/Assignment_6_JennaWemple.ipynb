{
 "cells": [
  {
   "cell_type": "markdown",
   "metadata": {},
   "source": [
    "# Grade: /20 pts\n",
    "\n",
    "# Assignment 06: Regularization"
   ]
  },
  {
   "cell_type": "code",
   "execution_count": 1,
   "metadata": {},
   "outputs": [],
   "source": [
    "import pandas as pd\n",
    "import numpy as np\n",
    "import matplotlib.pyplot as plt\n",
    "import seaborn as sns\n",
    "import sklearn as sk\n",
    "from sklearn.model_selection import train_test_split, cross_val_score, GridSearchCV, KFold\n",
    "from sklearn.linear_model import Ridge, LinearRegression\n",
    "from sklearn.pipeline import Pipeline\n",
    "from sklearn.preprocessing import StandardScaler, PolynomialFeatures\n",
    "from sklearn.metrics import mean_squared_error, make_scorer\n",
    "\n",
    "pd.set_option('display.max_columns', 500)\n",
    "\n",
    "%matplotlib inline"
   ]
  },
  {
   "cell_type": "markdown",
   "metadata": {},
   "source": [
    "### Question1: Preprocessing (1pt)\n",
    "**Make sure to only use the imports included in the first cell. Any additional imports used will result in 0.** <br>\n",
    "Tasks:\n",
    "* Load the data present in 'footballer_small.csv' using the pandas library and store the loaded data in a dataframe\n",
    "* Drop the variables: 'ID','club','club_logo','flag', 'nationality','photo','potential', 'birth_date'\n",
    "* Dummy code the variables: work_rate_att, work_rate_def, preferred_foot. **Because we are running a regularized model, we do not want to drop the first column**\n",
    "* Get a test data set of size 500 - to make results comparable to solutions, set random_state = 0 <br>"
   ]
  },
  {
   "cell_type": "code",
   "execution_count": 2,
   "metadata": {},
   "outputs": [
    {
     "name": "stdout",
     "output_type": "stream",
     "text": [
      "(500, 48)\n",
      "(2500, 48)\n",
      "      age  height_cm  weight_kg  pac  sho  pas  dri  def  phy  \\\n",
      "311    20      190.0       81.0   57   24   44   49   60   64   \n",
      "1025   24      183.0       71.0   78   65   62   71   44   63   \n",
      "1587   27      193.0       83.0   64   57   55   63   60   52   \n",
      "2941   29      175.0       71.0   76   66   71   70   27   60   \n",
      "2980   29      189.0       85.0   66   68   63   72   59   64   \n",
      "...   ...        ...        ...  ...  ...  ...  ...  ...  ...   \n",
      "49     26      179.0       79.0   74   62   57   68   27   63   \n",
      "1804   23      175.0       74.0   71   48   63   66   63   72   \n",
      "1374   34      180.0       70.0   37   37   58   50   70   65   \n",
      "2985   31      193.0       83.0   39   28   41   34   61   70   \n",
      "993    24      190.0       91.0   49   39   44   42   69   76   \n",
      "\n",
      "      international_reputation  skill_moves  weak_foot  crossing  finishing  \\\n",
      "311                          1            2          3        38         22   \n",
      "1025                         1            2          3        63         65   \n",
      "1587                         1            1          4        12         12   \n",
      "2941                         1            3          3        76         63   \n",
      "2980                         1            1          3        14         14   \n",
      "...                        ...          ...        ...       ...        ...   \n",
      "49                           1            4          4        59         65   \n",
      "1804                         1            3          3        58         42   \n",
      "1374                         1            2          3        43         44   \n",
      "2985                         1            2          3        35         23   \n",
      "993                          1            2          3        32         30   \n",
      "\n",
      "      heading_accuracy  short_passing  volleys  dribbling  curve  \\\n",
      "311                 62             56       20         42     21   \n",
      "1025                61             67       67         72     59   \n",
      "1587                19             34       12         11     20   \n",
      "2941                37             66       58         69     80   \n",
      "2980                15             14       22         19     21   \n",
      "...                ...            ...      ...        ...    ...   \n",
      "49                  53             62       59         68     60   \n",
      "1804                58             68       42         62     55   \n",
      "1374                71             70       30         43     49   \n",
      "2985                63             50       23         26     32   \n",
      "993                 69             57       37         33     30   \n",
      "\n",
      "      free_kick_accuracy  long_passing  ball_control  acceleration  \\\n",
      "311                   20            58            56            58   \n",
      "1025                  48            62            70            79   \n",
      "1587                  16            25            23            59   \n",
      "2941                  70            70            69            77   \n",
      "2980                  14            13            22            46   \n",
      "...                  ...           ...           ...           ...   \n",
      "49                    50            49            67            73   \n",
      "1804                  37            63            69            71   \n",
      "1374                  21            61            60            37   \n",
      "2985                  28            39            42            36   \n",
      "993                   29            50            51            35   \n",
      "\n",
      "      sprint_speed  agility  reactions  balance  shot_power  jumping  stamina  \\\n",
      "311             56       59         55       52          35       66       55   \n",
      "1025            78       75         61       75          68       45       65   \n",
      "1587            61       66         57       51          25       52       28   \n",
      "2941            76       77         66       76          70       72       66   \n",
      "2980            70       74         60       49          22       46       45   \n",
      "...            ...      ...        ...      ...         ...      ...      ...   \n",
      "49              75       71         60       69          61       64       72   \n",
      "1804            71       77         55       75          62       82       89   \n",
      "1374            37       43         70       59          40       65       51   \n",
      "2985            42       46         48       31          44       69       60   \n",
      "993             60       45         68       41          64       50       55   \n",
      "\n",
      "      strength  long_shots  aggression  interceptions  positioning  vision  \\\n",
      "311         73          19          51             61           22      30   \n",
      "1025        65          63          59             40           60      56   \n",
      "1587        71          18          38             21           11      18   \n",
      "2941        61          72          47             30           62      73   \n",
      "2980        75          15          42             30           12      61   \n",
      "...        ...         ...         ...            ...          ...     ...   \n",
      "49          60          61          59             30           59      53   \n",
      "1804        61          49          77             63           51      68   \n",
      "1374        70          19          69             71           39      59   \n",
      "2985        81          28          56             55           15      37   \n",
      "993         90          35          72             68           36      38   \n",
      "\n",
      "      penalties  composure  marking  standing_tackle  work_rate_att_High  \\\n",
      "311          24         52       58               61                   0   \n",
      "1025         66         62       40               45                   0   \n",
      "1587         16         45       13               19                   0   \n",
      "2941         63         70       17               32                   0   \n",
      "2980         20         35       31               14                   0   \n",
      "...         ...        ...      ...              ...                 ...   \n",
      "49           56         48       25               24                   1   \n",
      "1804         47         67       62               66                   0   \n",
      "1374         35         63       73               71                   0   \n",
      "2985         33         49       63               64                   0   \n",
      "993          47         61       68               70                   0   \n",
      "\n",
      "      work_rate_att_Low  work_rate_att_Medium  work_rate_def_High  \\\n",
      "311                   0                     1                   0   \n",
      "1025                  0                     1                   0   \n",
      "1587                  0                     1                   0   \n",
      "2941                  0                     1                   0   \n",
      "2980                  0                     1                   0   \n",
      "...                 ...                   ...                 ...   \n",
      "49                    0                     0                   0   \n",
      "1804                  0                     1                   1   \n",
      "1374                  0                     1                   0   \n",
      "2985                  1                     0                   1   \n",
      "993                   0                     1                   0   \n",
      "\n",
      "      work_rate_def_Low  work_rate_def_Medium  preferred_foot_Left  \\\n",
      "311                   0                     1                    1   \n",
      "1025                  0                     1                    0   \n",
      "1587                  0                     1                    0   \n",
      "2941                  0                     1                    0   \n",
      "2980                  0                     1                    0   \n",
      "...                 ...                   ...                  ...   \n",
      "49                    0                     1                    0   \n",
      "1804                  0                     0                    0   \n",
      "1374                  0                     1                    1   \n",
      "2985                  0                     0                    0   \n",
      "993                   0                     1                    0   \n",
      "\n",
      "      preferred_foot_Right  \n",
      "311                      0  \n",
      "1025                     1  \n",
      "1587                     1  \n",
      "2941                     1  \n",
      "2980                     1  \n",
      "...                    ...  \n",
      "49                       1  \n",
      "1804                     1  \n",
      "1374                     0  \n",
      "2985                     1  \n",
      "993                      1  \n",
      "\n",
      "[500 rows x 48 columns]\n"
     ]
    }
   ],
   "source": [
    "data = pd.read_csv(\"footballer_small.csv\")\n",
    "\n",
    "#dropping columns\n",
    "data = data.drop([\"ID\", \"club\", \"club_logo\", \"flag\", \"nationality\", \"photo\", \"potential\", \"birth_date\"], axis=1)\n",
    "\n",
    "#converting columns into dummy variables\n",
    "data = pd.get_dummies(data, columns=[\"work_rate_att\", \"work_rate_def\", \"preferred_foot\"])\n",
    "\n",
    "#data set of 500\n",
    "x = data.drop(\"overall\", axis=\"columns\")\n",
    "y = data.overall\n",
    "Xtrain, Xtest, ytrain, ytest = train_test_split(x, y, test_size = 500, random_state = 0)\n",
    "#data = data.sample(n=500, random_state=0, axis=0)\n",
    "\n",
    "print(Xtest.shape)\n",
    "print(Xtrain.shape)\n",
    "print(Xtest)"
   ]
  },
  {
   "cell_type": "markdown",
   "metadata": {},
   "source": [
    "## Question 2: Building the pipeline that preprocesses the data (2pts)\n",
    "In order to properly build the regression model, the features need to be standardized so that no feature can dominate others in determining the prediction values due to differences in feature scales. Build the pipeline that preprocesses the feature columns of the training data and create a linear regression model. Plot the data before and after the standardization for the stamina feature. <br>\n",
    "In this question, there is no need to overwrite the training set's values. Create a new variable to include the standardized data. The original training data is needed for future exercises. <br>\n",
    "### Question\n",
    "Make observations about the plot.  "
   ]
  },
  {
   "cell_type": "code",
   "execution_count": 3,
   "metadata": {},
   "outputs": [
    {
     "data": {
      "text/plain": [
       "Text(0.5, 1.0, 'Standardized vs Not Standardized')"
      ]
     },
     "execution_count": 3,
     "metadata": {},
     "output_type": "execute_result"
    },
    {
     "data": {
      "image/png": "[encoded data removed]",
      "text/plain": [
       "<Figure size 720x480 with 1 Axes>"
      ]
     },
     "metadata": {
      "needs_background": "light"
     },
     "output_type": "display_data"
    },
    {
     "data": {
      "image/png": "[encoded data removed]",
      "text/plain": [
       "<Figure size 720x480 with 1 Axes>"
      ]
     },
     "metadata": {
      "needs_background": "light"
     },
     "output_type": "display_data"
    },
    {
     "data": {
      "image/png": "[encoded data removed]",
      "text/plain": [
       "<Figure size 720x480 with 1 Axes>"
      ]
     },
     "metadata": {
      "needs_background": "light"
     },
     "output_type": "display_data"
    }
   ],
   "source": [
    "#need to standardize the features\n",
    "pipe_model = Pipeline(steps = [('Scaler', StandardScaler()), ('linear regression', LinearRegression())]).fit(Xtrain, ytrain)\n",
    "Xscale = pipe_model.named_steps['Scaler'].transform(Xtrain)\n",
    "\n",
    "fig, ax = plt.subplots(dpi = 120)\n",
    "sns.distplot(Xtrain.stamina.values)\n",
    "plt.title('Not Standardized') #adding a title to the plot\n",
    "\n",
    "fig, ax = plt.subplots(dpi = 120)\n",
    "sns.distplot(Xscale[:,29])\n",
    "plt.title('Standardized') #adding a title to the plot\n",
    "\n",
    "plt.xlabel(\"X\") #x axis label\n",
    "plt.ylabel(\"Y\") #y axis label\n",
    "\n",
    "fig, ax = plt.subplots(dpi = 120)\n",
    "ax.scatter(Xtrain.stamina.values, Xscale[:,29])\n",
    "plt.title('Standardized vs Not Standardized') #adding a title to the plot\n"
   ]
  },
  {
   "cell_type": "markdown",
   "metadata": {},
   "source": [
    "Therefore, this shows that the relationship between the standardized and non-standardized plots is a linear relationship"
   ]
  },
  {
   "cell_type": "markdown",
   "metadata": {},
   "source": [
    "## Question 3: Creating a Complex feature model using 2-nd Polynomial features (2pts)\n",
    "In this task, the training data consists of the quadratic terms and 2-way interactions of all features except one of standing_tackle, composure, and marking variable. <br> \n",
    "Create <b> four </b> different training sets:\n",
    "* The first training set includes the quadratic terms and 2-way interactions of all the features. \n",
    "* The second/third/fourth training sets include all the features, their quadratic terms, and their 2-way interactions except the standing_tackle/composure/marking features. <br>\n",
    "\n",
    "#### Hint: \n",
    "For the 2nd/3rd and 4th training sets, create the training sets without the aforementioned features and then apply polynomial expansion to the resultant sets. \n",
    "### Questions:\n",
    "* How many linear terms are in each of the new feature set?\n",
    "* How many squared terms are in each of the new feature set?\n",
    "* How many interaction terms are in each of the new feature set? Give an example of one of the interaction terms. "
   ]
  },
  {
   "cell_type": "code",
   "execution_count": 4,
   "metadata": {},
   "outputs": [
    {
     "name": "stdout",
     "output_type": "stream",
     "text": [
      "(2500, 1224)\n",
      "(2500, 1175)\n",
      "(2500, 1175)\n",
      "(2500, 1175)\n"
     ]
    }
   ],
   "source": [
    "poly = sk.preprocessing.PolynomialFeatures(degree = 2, include_bias=0)\n",
    "\n",
    "#training set 1\n",
    "Xtrain1 = poly.fit_transform(Xtrain)\n",
    "print (Xtrain1.shape)\n",
    "\n",
    "#training set 2\n",
    "Xtrain2 = Xtrain.drop(columns = ['standing_tackle'])\n",
    "Xtrain2 = poly.fit_transform(Xtrain2)\n",
    "print (Xtrain2.shape)\n",
    "\n",
    "#training set 3\n",
    "Xtrain3 = Xtrain.drop(columns = ['composure'])\n",
    "Xtrain3 = poly.fit_transform(Xtrain3)\n",
    "print (Xtrain3.shape)\n",
    "\n",
    "#training set 4\n",
    "Xtrain4 = Xtrain.drop(columns = ['marking'])\n",
    "Xtrain4 = poly.fit_transform(Xtrain4)\n",
    "print (Xtrain4.shape)\n"
   ]
  },
  {
   "cell_type": "markdown",
   "metadata": {},
   "source": [
    "The first training set should have 48 linear terms, while the others would have 47. Then the first training set should have 48 squared terms, while the other would have 47. Then finally the first training set should have 1224 interaction terms, while the others should have 1175. An example of one of the interaction terms would be strength*work_rate_def"
   ]
  },
  {
   "cell_type": "markdown",
   "metadata": {},
   "source": [
    "## Question 4: Evaluating the backward feature search (3 pts)\n",
    "In this question, you have to use the pipeline created in question 2 and apply it to each of the training sets created in question 3. Use 10-fold cross validation to report the validation error on the training set using mean squared error as the metric. <br>\n",
    "Show all the steps of the process and compare and analyze the results using the validation error reported. "
   ]
  },
  {
   "cell_type": "code",
   "execution_count": 5,
   "metadata": {},
   "outputs": [
    {
     "name": "stdout",
     "output_type": "stream",
     "text": [
      "Training Set #1 CV loss: 2.97497799907761\n",
      "Training Set #2 CV loss: 2.7538281155554123\n",
      "Training Set #3 CV loss: 2.8059891727412714\n",
      "Training Set #4 CV loss: 2.6968790066860477\n"
     ]
    }
   ],
   "source": [
    "# Define mean squared error function\n",
    "def MSE (y_true, y_pred):\n",
    "    return np.mean((y_true-y_pred)**2) \n",
    "   \n",
    "kf = KFold(n_splits=10,shuffle=False)\n",
    "sc = make_scorer(MSE)\n",
    "\n",
    "cv_scores1 = cross_val_score(pipe_model, Xtrain1, ytrain, cv=kf, scoring='neg_mean_squared_error')\n",
    "cv_scores2 = cross_val_score(pipe_model, Xtrain2, ytrain, cv=kf, scoring='neg_mean_squared_error')\n",
    "cv_scores3 = cross_val_score(pipe_model, Xtrain3, ytrain, cv=kf, scoring='neg_mean_squared_error')\n",
    "cv_scores4 = cross_val_score(pipe_model, Xtrain4, ytrain, cv=kf, scoring='neg_mean_squared_error')\n",
    "\n",
    "#print(f\"CV score: {cv_scores}\")\n",
    "print(f\"Training Set #1 CV loss: {-cv_scores1.mean()}\")\n",
    "print(f\"Training Set #2 CV loss: {-cv_scores2.mean()}\")\n",
    "print(f\"Training Set #3 CV loss: {-cv_scores3.mean()}\")\n",
    "print(f\"Training Set #4 CV loss: {-cv_scores4.mean()}\")"
   ]
  },
  {
   "cell_type": "markdown",
   "metadata": {},
   "source": [
    "All the steps of the process are showed above. Based on the validation error reported above, it tells us that the complete training set (Training Set #1) produces the highest CV loss. This means that the removed columns are not useful to generalize the data. "
   ]
  },
  {
   "cell_type": "markdown",
   "metadata": {},
   "source": [
    "## Question 5: Applying Ridge Regression (2 pts)\n",
    "Build a pipeline that performs scaling and fits the ridge regression on the data that includes the polynomial expansion of all the features. The penalization parameter is set to 0.5. Use the pipeline to report the validation error using mean square error metric. Use 10-fold cross validation. "
   ]
  },
  {
   "cell_type": "code",
   "execution_count": 6,
   "metadata": {},
   "outputs": [
    {
     "name": "stdout",
     "output_type": "stream",
     "text": [
      "Ridge Regression CV loss: 1.714677002040895\n"
     ]
    }
   ],
   "source": [
    "pipe_model_RR = Pipeline(steps = [('poly', poly),('Standardize', StandardScaler()), ('Ridge', Ridge(alpha=0.5))])\n",
    "RR_model = pipe_model_RR.fit(Xtrain, ytrain)\n",
    "\n",
    "cv_scores1_RR = cross_val_score(pipe_model_RR, Xtrain, ytrain, cv=kf, scoring=sc)\n",
    "\n",
    "print(f\"Ridge Regression CV loss: {cv_scores1_RR.mean()}\")"
   ]
  },
  {
   "cell_type": "markdown",
   "metadata": {},
   "source": [
    "## Question 6: Tune the Ridge coefficient for the 2nd-order model   (3pt)\n",
    "Now use 10-fold CV on the training set to determine a good setting for the regularization coefficient. Perform the search going from $\\lambda = \\exp(-8), \\cdots, \\exp(6)$ in 15 evenly spaced increments on the log scale. Plot the mean squared error as a function of $\\log(\\lambda)$. \n",
    "\n",
    "### Questions: \n",
    "\n",
    "What is the best regularization parameter (actual not approximate)? \n",
    "\n",
    "Why does the error increase as $\\lambda \\rightarrow 0?$  Why does the error increase when $\\lambda \\rightarrow \\infty$?  Answer in terms of the bias variance trade off."
   ]
  },
  {
   "cell_type": "code",
   "execution_count": null,
   "metadata": {},
   "outputs": [],
   "source": [
    "# Systematically vary the ridge coeficient on a log-scale\n",
    "lam = np.exp(np.linspace(-8,6,15))\n",
    "mse = np.zeros(15)\n",
    "\n",
    "for i in range(lam.size):\n",
    "    cv_scores = cross_val_score(Pipeline([('Scaler', StandardScaler()),('Ridge', Ridge(alpha=lam[i]))]), Xtrain1, ytrain, cv=kf,scoring = 'neg_mean_squared_error')\n",
    "    mse[i]=-cv_scores.mean()\n",
    "    \n",
    "# Determine lowest value \n",
    "plt.scatter(np.log(lam),mse)\n",
    "\n",
    "#determine the best regualarization parameter\n",
    "parameters = {'alpha': lam}\n",
    "rrmodel = GridSearchCV(Ridge(),parameters,cv =10, scoring ='neg_mean_squared_error')\n",
    "rrmodel.fit(Xtrain, ytrain)\n",
    "\n",
    "#Pipeline([('Scaler', StandardScaler()),('Ridge', Ridge())])\n",
    "\n",
    "print(parameters)\n",
    "print(rrmodel.best_params_)\n",
    "#print(rrmodel.best_score_)"
   ]
  },
  {
   "cell_type": "markdown",
   "metadata": {},
   "source": [
    "Therefore, this shows us that the best regularization parameter is 7.389 which is e^2, because it has the smallest cross-validation error. \n",
    "\n",
    "The error increases as 𝜆→0 and the error increases when 𝜆→∞ because as 𝜆 increases the variance decreases and the bias increases. The Ridge regression advantage is the bias variance trade off. As 𝜆 increases the flexibility of the ridge regression fit descreases, leading to decreased variance but increased bias. In general, if the relationship between ther resonse and the features is close to linear the least square estimates will have low bias but may have high variance. "
   ]
  },
  {
   "cell_type": "markdown",
   "metadata": {},
   "source": [
    "### Question 7: Test error  (2pt)\n",
    "Now test how the ridge model, fitted to the whole training set, performs on the test data set. \n",
    "\n",
    "\n",
    "Report the following:\n",
    "\n",
    "* The mean squared error on the test data - along with the 95% confidence interval, determined with the central limit theorem. \n",
    "* The proportion of the variance explained by your model - along wth a 95% confidence interval."
   ]
  },
  {
   "cell_type": "code",
   "execution_count": null,
   "metadata": {},
   "outputs": [],
   "source": [
    "pipe_model_RR = Pipeline(steps = [('poly', poly),('Standardize', StandardScaler()), ('Ridge', Ridge(alpha=7.389))])\n",
    "RR_model = pipe_model_RR.fit(Xtrain, ytrain)\n",
    "yp=RR_model.predict(Xtest)\n",
    "\n",
    "#Mean squared error\n",
    "mse = MSE(ytest, yp) \n",
    "se = (ytest-yp)**2\n",
    "stderr = np.std(se) #standard deviation squared error\n",
    "\n",
    "criticalv = 1.96\n",
    "norm_ci = [mse - criticalv*(stderr/np.sqrt(ytest.size)), mse + criticalv*(stderr/np.sqrt(ytest.size))]\n",
    "\n",
    "#Variance\n",
    "variance = (yp - ytest.mean())**2\n",
    "proportion = variance.mean()\n",
    "\n",
    "stderr2 = np.std(variance)\n",
    "norm_ci2 = [proportion - criticalv*(stderr2/np.sqrt(ytest.size)), proportion + criticalv*(stderr2/(ytest.size))]\n",
    "\n",
    "print('MSE:', mse)\n",
    "print('MSE bounds', norm_ci[0], ' and ', norm_ci[1])\n",
    "print('Variance Mean:', proportion)\n",
    "print('Variance bounds', norm_ci2[0], ' and ', norm_ci2[1])\n",
    "\n",
    "#fig, ax = plt.subplots(dpi=120)\n",
    "#sns.distplot(se)\n",
    "#fig, ax = plt.subplots(dpi=120)\n",
    "#sns.distplot(variance)"
   ]
  },
  {
   "cell_type": "markdown",
   "metadata": {},
   "source": [
    "## Question 8: Analyzing Ridge Coefficients (3 pts)\n",
    "In this question, you are first required to extract all the coefficients of the standing tackle, composure and marking features from the best model of question 7. After that, calculate the mean of the coefficients of the aforementioned features and analyze the results. Based on these observations, draw conclusions about the results in question 4. "
   ]
  },
  {
   "cell_type": "code",
   "execution_count": null,
   "metadata": {},
   "outputs": [],
   "source": [
    "#extract coefficents of standing tackle\n",
    "coeff = RR_model.named_steps['Ridge'].coef_\n",
    "features = (RR_model.named_steps['poly'].get_feature_names(Xtest.columns))\n",
    "#print(coeff)\n",
    "\n",
    "coefnames = {features[i]: coeff[i] for i in range(len(features))}\n",
    "standing_tackle = coefnames.get('standing_tackle')\n",
    "composure = coefnames.get('composure')\n",
    "marking = coefnames.get('marking')\n",
    "print(standing_tackle, composure, marking)\n",
    "\n",
    "coeffmean = (standing_tackle + composure + marking)/3\n",
    "\n",
    "print('Mean of the coefficients:', coeffmean)"
   ]
  },
  {
   "cell_type": "markdown",
   "metadata": {},
   "source": [
    "Based on these observations, we can notice that the feature \"marking\" resulted in the largest coefficient here and then in Question 4 when the \"marking\" column was dropped (testing set #4) it resulted in the lowest test loss number. Therefore, we can conclude that the \"marking\" feature is the least significant, since excluding it results in a lower test loss. "
   ]
  },
  {
   "cell_type": "markdown",
   "metadata": {},
   "source": [
    "## Question 9: Lasso Regression (2pts)\n",
    "Let us assume that you are building a linear regression model using only three features: standing tackle, marking, and composure to predict a player's overall rating. Based on the results of question 8, what do you think will be the features' coefficients while applying the lasso regression optimization? Answer in no more than 5 sentences. "
   ]
  },
  {
   "cell_type": "markdown",
   "metadata": {},
   "source": [
    "Lasso penalizes with the L1-norm and the L1 penalty has the effect of forcing some of the coefficients estimates to be exactly equal to zero when the tuning parameter is sufficently large. This means lasso regression performs variable selection. Based on the results in question 8, no feature shows a significant diffrence in their cross-validation score. This leads me to believe that no feature will be minimized to zero by the Lasso regression or they will all be minimized to zero since they are all so close in value. It can be estimated/assumed that \"marking\" would be the last feature to be minizmied to zero based on the fact it has the highest coefficent, however the coefficent does not tell us everything so we can not be sure. These results are all dependant on the scale of the alpha factor. "
   ]
  },
  {
   "cell_type": "markdown",
   "metadata": {},
   "source": [
    "## Note: \n",
    "After completing all the tasks and before submitting: \n",
    "* Restart you kernel by clicking 'Restart & Run all'\n",
    "* Fix any errors resulting from the first step.\n",
    "* Repeat the first two steps until no errors are encountered. "
   ]
  }
 ],
 "metadata": {
  "kernelspec": {
   "display_name": "Python 3",
   "language": "python",
   "name": "python3"
  },
  "language_info": {
   "codemirror_mode": {
    "name": "ipython",
    "version": 3
   },
   "file_extension": ".py",
   "mimetype": "text/x-python",
   "name": "python",
   "nbconvert_exporter": "python",
   "pygments_lexer": "ipython3",
   "version": "3.8.3"
  }
 },
 "nbformat": 4,
 "nbformat_minor": 2
}
