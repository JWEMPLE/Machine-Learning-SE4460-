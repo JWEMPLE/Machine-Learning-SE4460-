{
 "cells": [
  {
   "cell_type": "markdown",
   "metadata": {},
   "source": [
    "# Lab 6\n",
    "## Feature expansion and regularization in sklearn \n",
    "This lab teaches you feature expansion and regularization in sklearn\n"
   ]
  },
  {
   "cell_type": "code",
   "execution_count": 25,
   "metadata": {},
   "outputs": [],
   "source": [
    "import matplotlib.pyplot as plt \n",
    "import seaborn as sns\n",
    "import numpy as np\n",
    "import pandas as pd\n",
    "import sklearn as sk\n",
    "from sklearn.preprocessing import PolynomialFeatures\n",
    "import sklearn.linear_model\n",
    "from sklearn.model_selection import train_test_split, cross_val_score"
   ]
  },
  {
   "cell_type": "markdown",
   "metadata": {},
   "source": [
    "## Polynomial expansion "
   ]
  },
  {
   "cell_type": "code",
   "execution_count": 26,
   "metadata": {},
   "outputs": [
    {
     "data": {
      "text/plain": [
       "[<matplotlib.lines.Line2D at 0x1be0f8ad948>]"
      ]
     },
     "execution_count": 26,
     "metadata": {},
     "output_type": "execute_result"
    },
    {
     "data": {
      "image/png": "[encoded data removed]",
      "text/plain": [
       "<Figure size 432x288 with 1 Axes>"
      ]
     },
     "metadata": {
      "needs_background": "light"
     },
     "output_type": "display_data"
    }
   ],
   "source": [
    "# Let's load a data set and look at it.\n",
    "D=pd.read_csv('regression_data.csv')\n",
    "plt.plot(D.x, D.y, 'bo')\n",
    "\n"
   ]
  },
  {
   "cell_type": "code",
   "execution_count": 27,
   "metadata": {},
   "outputs": [
    {
     "data": {
      "image/png": "[encoded data removed]",
      "text/plain": [
       "<Figure size 432x288 with 2 Axes>"
      ]
     },
     "metadata": {
      "needs_background": "light"
     },
     "output_type": "display_data"
    },
    {
     "data": {
      "image/png": "[encoded data removed]",
      "text/plain": [
       "<Figure size 432x288 with 2 Axes>"
      ]
     },
     "metadata": {
      "needs_background": "light"
     },
     "output_type": "display_data"
    },
    {
     "data": {
      "text/html": [
       "<div>\n",
       "<style scoped>\n",
       "    .dataframe tbody tr th:only-of-type {\n",
       "        vertical-align: middle;\n",
       "    }\n",
       "\n",
       "    .dataframe tbody tr th {\n",
       "        vertical-align: top;\n",
       "    }\n",
       "\n",
       "    .dataframe thead th {\n",
       "        text-align: right;\n",
       "    }\n",
       "</style>\n",
       "<table border=\"1\" class=\"dataframe\">\n",
       "  <thead>\n",
       "    <tr style=\"text-align: right;\">\n",
       "      <th></th>\n",
       "      <th>0</th>\n",
       "      <th>1</th>\n",
       "      <th>2</th>\n",
       "      <th>3</th>\n",
       "      <th>4</th>\n",
       "      <th>5</th>\n",
       "      <th>6</th>\n",
       "    </tr>\n",
       "  </thead>\n",
       "  <tbody>\n",
       "    <tr>\n",
       "      <td>0</td>\n",
       "      <td>1.0</td>\n",
       "      <td>-1.000000</td>\n",
       "      <td>1.000000</td>\n",
       "      <td>-1.000000</td>\n",
       "      <td>1.000000</td>\n",
       "      <td>-1.000000</td>\n",
       "      <td>1.000000</td>\n",
       "    </tr>\n",
       "    <tr>\n",
       "      <td>1</td>\n",
       "      <td>1.0</td>\n",
       "      <td>-0.894737</td>\n",
       "      <td>0.800554</td>\n",
       "      <td>-0.716285</td>\n",
       "      <td>0.640887</td>\n",
       "      <td>-0.573425</td>\n",
       "      <td>0.513064</td>\n",
       "    </tr>\n",
       "    <tr>\n",
       "      <td>2</td>\n",
       "      <td>1.0</td>\n",
       "      <td>-0.789474</td>\n",
       "      <td>0.623269</td>\n",
       "      <td>-0.492054</td>\n",
       "      <td>0.388464</td>\n",
       "      <td>-0.306682</td>\n",
       "      <td>0.242117</td>\n",
       "    </tr>\n",
       "    <tr>\n",
       "      <td>3</td>\n",
       "      <td>1.0</td>\n",
       "      <td>-0.684211</td>\n",
       "      <td>0.468144</td>\n",
       "      <td>-0.320309</td>\n",
       "      <td>0.219159</td>\n",
       "      <td>-0.149951</td>\n",
       "      <td>0.102598</td>\n",
       "    </tr>\n",
       "    <tr>\n",
       "      <td>4</td>\n",
       "      <td>1.0</td>\n",
       "      <td>-0.578947</td>\n",
       "      <td>0.335180</td>\n",
       "      <td>-0.194052</td>\n",
       "      <td>0.112346</td>\n",
       "      <td>-0.065042</td>\n",
       "      <td>0.037656</td>\n",
       "    </tr>\n",
       "  </tbody>\n",
       "</table>\n",
       "</div>"
      ],
      "text/plain": [
       "     0         1         2         3         4         5         6\n",
       "0  1.0 -1.000000  1.000000 -1.000000  1.000000 -1.000000  1.000000\n",
       "1  1.0 -0.894737  0.800554 -0.716285  0.640887 -0.573425  0.513064\n",
       "2  1.0 -0.789474  0.623269 -0.492054  0.388464 -0.306682  0.242117\n",
       "3  1.0 -0.684211  0.468144 -0.320309  0.219159 -0.149951  0.102598\n",
       "4  1.0 -0.578947  0.335180 -0.194052  0.112346 -0.065042  0.037656"
      ]
     },
     "execution_count": 27,
     "metadata": {},
     "output_type": "execute_result"
    }
   ],
   "source": [
    "# Build a design matrix with polynomial expansion on X\n",
    "x=D.x.values\n",
    "x=x.reshape(-1,1)\n",
    "poly = sk.preprocessing.PolynomialFeatures(6)\n",
    "X = poly.fit_transform(x)\n",
    "plt.imshow(X, cmap='gray')\n",
    "plt.colorbar()\n",
    "plt.show()\n",
    "\n",
    "plt.imshow(X)\n",
    "plt.colorbar()\n",
    "plt.show()\n",
    "\n",
    "XDF = pd.DataFrame(X)\n",
    "XDF.head()"
   ]
  },
  {
   "cell_type": "code",
   "execution_count": 28,
   "metadata": {},
   "outputs": [],
   "source": [
    "## Apply Ridge regression "
   ]
  },
  {
   "cell_type": "code",
   "execution_count": 29,
   "metadata": {},
   "outputs": [
    {
     "name": "stdout",
     "output_type": "stream",
     "text": [
      "(7,)\n"
     ]
    },
    {
     "data": {
      "text/plain": [
       "[<matplotlib.lines.Line2D at 0x1be0fa7f688>,\n",
       " <matplotlib.lines.Line2D at 0x1be0fa94948>]"
      ]
     },
     "execution_count": 29,
     "metadata": {},
     "output_type": "execute_result"
    },
    {
     "data": {
      "image/png": "[encoded data removed]",
      "text/plain": [
       "<Figure size 432x288 with 1 Axes>"
      ]
     },
     "metadata": {
      "needs_background": "light"
     },
     "output_type": "display_data"
    }
   ],
   "source": [
    "# Now fit a standard linear model to the data and plot prediction \n",
    "reg = sk.linear_model.LinearRegression(fit_intercept=False)\n",
    "reg.fit(X,D.y)\n",
    "yp=reg.predict(X)\n",
    "print(reg.coef_.shape)\n",
    "plt.plot(x,D.y,'k.',x,yp,'r-')"
   ]
  },
  {
   "cell_type": "code",
   "execution_count": 30,
   "metadata": {},
   "outputs": [
    {
     "name": "stdout",
     "output_type": "stream",
     "text": [
      "(7,)\n"
     ]
    },
    {
     "data": {
      "text/plain": [
       "[<matplotlib.lines.Line2D at 0x1be0fae6408>,\n",
       " <matplotlib.lines.Line2D at 0x1be0fa53d88>,\n",
       " <matplotlib.lines.Line2D at 0x1be0fa3db88>]"
      ]
     },
     "execution_count": 30,
     "metadata": {},
     "output_type": "execute_result"
    },
    {
     "data": {
      "image/png": "[encoded data removed]",
      "text/plain": [
       "<Figure size 432x288 with 1 Axes>"
      ]
     },
     "metadata": {
      "needs_background": "light"
     },
     "output_type": "display_data"
    }
   ],
   "source": [
    "# This seems very wiggly. Could we do better with Ridge regression? \n",
    "# Let's regulatrize a lot\n",
    "print(reg.coef_.shape)\n",
    "\n",
    "ridge = sk.linear_model.Ridge(alpha=1.0,fit_intercept=False)\n",
    "ridge.fit(X,D.y)\n",
    "ypp=ridge.predict(X)\n",
    "plt.plot(x,D.y,'k.',x,yp,'r-',x,ypp,'b-')"
   ]
  },
  {
   "cell_type": "markdown",
   "metadata": {},
   "source": [
    "### Fix the intercept problem"
   ]
  },
  {
   "cell_type": "code",
   "execution_count": 31,
   "metadata": {},
   "outputs": [
    {
     "data": {
      "text/html": [
       "<div>\n",
       "<style scoped>\n",
       "    .dataframe tbody tr th:only-of-type {\n",
       "        vertical-align: middle;\n",
       "    }\n",
       "\n",
       "    .dataframe tbody tr th {\n",
       "        vertical-align: top;\n",
       "    }\n",
       "\n",
       "    .dataframe thead th {\n",
       "        text-align: right;\n",
       "    }\n",
       "</style>\n",
       "<table border=\"1\" class=\"dataframe\">\n",
       "  <thead>\n",
       "    <tr style=\"text-align: right;\">\n",
       "      <th></th>\n",
       "      <th>0</th>\n",
       "      <th>1</th>\n",
       "      <th>2</th>\n",
       "      <th>3</th>\n",
       "      <th>4</th>\n",
       "      <th>5</th>\n",
       "    </tr>\n",
       "  </thead>\n",
       "  <tbody>\n",
       "    <tr>\n",
       "      <td>0</td>\n",
       "      <td>-1.647509</td>\n",
       "      <td>1.923876</td>\n",
       "      <td>-2.288395</td>\n",
       "      <td>2.354589</td>\n",
       "      <td>-2.625946</td>\n",
       "      <td>2.598636</td>\n",
       "    </tr>\n",
       "    <tr>\n",
       "      <td>1</td>\n",
       "      <td>-1.474087</td>\n",
       "      <td>1.316336</td>\n",
       "      <td>-1.639144</td>\n",
       "      <td>1.236850</td>\n",
       "      <td>-1.505783</td>\n",
       "      <td>1.034603</td>\n",
       "    </tr>\n",
       "    <tr>\n",
       "      <td>2</td>\n",
       "      <td>-1.300665</td>\n",
       "      <td>0.776301</td>\n",
       "      <td>-1.126015</td>\n",
       "      <td>0.451184</td>\n",
       "      <td>-0.805330</td>\n",
       "      <td>0.164323</td>\n",
       "    </tr>\n",
       "    <tr>\n",
       "      <td>3</td>\n",
       "      <td>-1.127243</td>\n",
       "      <td>0.303770</td>\n",
       "      <td>-0.732994</td>\n",
       "      <td>-0.075777</td>\n",
       "      <td>-0.393763</td>\n",
       "      <td>-0.283812</td>\n",
       "    </tr>\n",
       "    <tr>\n",
       "      <td>4</td>\n",
       "      <td>-0.953821</td>\n",
       "      <td>-0.101257</td>\n",
       "      <td>-0.444067</td>\n",
       "      <td>-0.408233</td>\n",
       "      <td>-0.170797</td>\n",
       "      <td>-0.492405</td>\n",
       "    </tr>\n",
       "  </tbody>\n",
       "</table>\n",
       "</div>"
      ],
      "text/plain": [
       "          0         1         2         3         4         5\n",
       "0 -1.647509  1.923876 -2.288395  2.354589 -2.625946  2.598636\n",
       "1 -1.474087  1.316336 -1.639144  1.236850 -1.505783  1.034603\n",
       "2 -1.300665  0.776301 -1.126015  0.451184 -0.805330  0.164323\n",
       "3 -1.127243  0.303770 -0.732994 -0.075777 -0.393763 -0.283812\n",
       "4 -0.953821 -0.101257 -0.444067 -0.408233 -0.170797 -0.492405"
      ]
     },
     "execution_count": 31,
     "metadata": {},
     "output_type": "execute_result"
    }
   ],
   "source": [
    "# What happend? \n",
    "# The problem is that the Ridge coefficient was also applied to the intercept\n",
    "# Sometimes this is desired, sometimes not. In this case we want to not to include the intercept \n",
    "# into the regressors that should be regularized \n",
    "poly = sk.preprocessing.PolynomialFeatures(6,include_bias=0)\n",
    "X = poly.fit_transform(x)\n",
    "scaler = sk.preprocessing.StandardScaler(with_mean=True, with_std=True)\n",
    "X = scaler.fit_transform(X)\n",
    "pd.DataFrame(X).head()\n",
    "#plt.imshow(X)\n",
    "#plt.colorbar()"
   ]
  },
  {
   "cell_type": "code",
   "execution_count": 32,
   "metadata": {},
   "outputs": [
    {
     "data": {
      "text/plain": [
       "[<matplotlib.lines.Line2D at 0x1be0f96e0c8>,\n",
       " <matplotlib.lines.Line2D at 0x1be0f9ae488>,\n",
       " <matplotlib.lines.Line2D at 0x1be0f9aeb08>]"
      ]
     },
     "execution_count": 32,
     "metadata": {},
     "output_type": "execute_result"
    },
    {
     "data": {
      "image/png": "[encoded data removed]",
      "text/plain": [
       "<Figure size 432x288 with 1 Axes>"
      ]
     },
     "metadata": {
      "needs_background": "light"
     },
     "output_type": "display_data"
    }
   ],
   "source": [
    "# If we set fit_intercept = True, ridge regression fits the intercept \n",
    "ridge = sk.linear_model.Ridge(alpha=5.0,fit_intercept=True)\n",
    "ridge.fit(X,D.y)\n",
    "ypp=ridge.predict(X)\n",
    "plt.plot(x,D.y,'k.',x,yp,'r-',x,ypp,'b-')"
   ]
  },
  {
   "cell_type": "code",
   "execution_count": 33,
   "metadata": {},
   "outputs": [
    {
     "data": {
      "text/plain": [
       "LinearRegression(copy_X=True, fit_intercept=True, n_jobs=None, normalize=False)"
      ]
     },
     "execution_count": 33,
     "metadata": {},
     "output_type": "execute_result"
    }
   ],
   "source": [
    "# Also redo the linear regression \n",
    "reg = sk.linear_model.LinearRegression(fit_intercept=True)\n",
    "reg.fit(X,D.y)"
   ]
  },
  {
   "cell_type": "code",
   "execution_count": 34,
   "metadata": {},
   "outputs": [
    {
     "data": {
      "text/plain": [
       "(array([ 0.5259425 , -1.22248473, -0.14851093,  2.98075495,  0.12675624,\n",
       "        -1.85398615]),\n",
       " array([ 0.26264477, -0.03604224,  0.12595432,  0.01336734,  0.06098453,\n",
       "        -0.0009332 ]))"
      ]
     },
     "execution_count": 34,
     "metadata": {},
     "output_type": "execute_result"
    }
   ],
   "source": [
    "# Now inspect the coefficients: No explicit intercept is fitted - ridge coefficients are smaller \n",
    "(reg.coef_,ridge.coef_)"
   ]
  },
  {
   "cell_type": "code",
   "execution_count": 35,
   "metadata": {},
   "outputs": [],
   "source": [
    "# Now let's try a lower alpha (i.e. regularization coefficient) "
   ]
  },
  {
   "cell_type": "markdown",
   "metadata": {},
   "source": [
    "### How to set the regularization coefficent? "
   ]
  },
  {
   "cell_type": "code",
   "execution_count": 36,
   "metadata": {},
   "outputs": [
    {
     "data": {
      "text/plain": [
       "array([2.59262227e+02, 2.40636938e-01, 9.21051190e-02, 1.01115077e-01,\n",
       "       7.09633014e+01])"
      ]
     },
     "execution_count": 36,
     "metadata": {},
     "output_type": "execute_result"
    }
   ],
   "source": [
    "# So, how should we tune the regularization coefficient? \n",
    "# Let's use crossvalidation \n",
    "cv_scores = cross_val_score(sk.linear_model.LinearRegression(), X, D.y,cv=5,scoring = 'neg_mean_squared_error')\n",
    "-cv_scores"
   ]
  },
  {
   "cell_type": "code",
   "execution_count": 37,
   "metadata": {},
   "outputs": [],
   "source": [
    "# Systematically vary the ridge coeficient on a log-scale\n",
    "lam = np.exp(np.linspace(-4,2,10))\n",
    "mse = np.zeros(10)\n",
    "for i in range(lam.size):\n",
    "    cv_scores = cross_val_score(sk.linear_model.Ridge(alpha=lam[i]), X, D.y,cv=5,scoring = 'neg_mean_squared_error')\n",
    "    mse[i]=-cv_scores.mean()"
   ]
  },
  {
   "cell_type": "code",
   "execution_count": 38,
   "metadata": {},
   "outputs": [
    {
     "data": {
      "text/plain": [
       "<matplotlib.collections.PathCollection at 0x1be0f7f8788>"
      ]
     },
     "execution_count": 38,
     "metadata": {},
     "output_type": "execute_result"
    },
    {
     "data": {
      "image/png": "[encoded data removed]",
      "text/plain": [
       "<Figure size 432x288 with 1 Axes>"
      ]
     },
     "metadata": {
      "needs_background": "light"
     },
     "output_type": "display_data"
    }
   ],
   "source": [
    "# Determine lowest value \n",
    "plt.scatter(np.log(lam),mse)"
   ]
  },
  {
   "cell_type": "code",
   "execution_count": 39,
   "metadata": {},
   "outputs": [
    {
     "data": {
      "text/plain": [
       "0.44321769965160857"
      ]
     },
     "execution_count": 39,
     "metadata": {},
     "output_type": "execute_result"
    }
   ],
   "source": [
    "# So low let's look at the crossvalidation error for the best setting of lambda \n",
    "cv_scores = cross_val_score(sk.linear_model.Ridge(alpha=np.exp(0.8)), X, D.y,cv=5)\n",
    "-cv_scores.mean()"
   ]
  },
  {
   "cell_type": "markdown",
   "metadata": {},
   "source": [
    "### Written Question\n",
    "can we use this crossvalidated error as a prediction for the test error? "
   ]
  },
  {
   "cell_type": "markdown",
   "metadata": {},
   "source": [
    "### Lasso "
   ]
  },
  {
   "cell_type": "code",
   "execution_count": 40,
   "metadata": {},
   "outputs": [
    {
     "data": {
      "text/plain": [
       "[<matplotlib.lines.Line2D at 0x1be0f6fdf88>,\n",
       " <matplotlib.lines.Line2D at 0x1be0ef92048>,\n",
       " <matplotlib.lines.Line2D at 0x1be0f6ae548>]"
      ]
     },
     "execution_count": 40,
     "metadata": {},
     "output_type": "execute_result"
    },
    {
     "data": {
      "image/png": "[encoded data removed]",
      "text/plain": [
       "<Figure size 432x288 with 1 Axes>"
      ]
     },
     "metadata": {
      "needs_background": "light"
     },
     "output_type": "display_data"
    }
   ],
   "source": [
    "las = sk.linear_model.Lasso(alpha=0.005,fit_intercept=True)\n",
    "las.fit(X,D.y)\n",
    "yl=las.predict(X)\n",
    "plt.plot(x,D.y,'k.',x,ypp,'r-',x,yl,'b-')"
   ]
  },
  {
   "cell_type": "code",
   "execution_count": 41,
   "metadata": {},
   "outputs": [
    {
     "data": {
      "text/plain": [
       "(array([ 0.26264477, -0.03604224,  0.12595432,  0.01336734,  0.06098453,\n",
       "        -0.0009332 ]),\n",
       " array([ 0.47117248, -0.06577209,  0.        ,  0.0393283 ,  0.02196659,\n",
       "         0.        ]))"
      ]
     },
     "execution_count": 41,
     "metadata": {},
     "output_type": "execute_result"
    }
   ],
   "source": [
    "# Let's check the coefficients. What do you notice compared to the ridge? \n",
    "(ridge.coef_,las.coef_)"
   ]
  },
  {
   "cell_type": "markdown",
   "metadata": {},
   "source": [
    "### Lasso Path "
   ]
  },
  {
   "cell_type": "code",
   "execution_count": 45,
   "metadata": {
    "scrolled": true
   },
   "outputs": [
    {
     "name": "stdout",
     "output_type": "stream",
     "text": [
      "minmum regularization parameter : 0.002471599343552048\n",
      "maximum regularization parameter : 0.49431986871040945\n"
     ]
    },
    {
     "data": {
      "image/png": "[encoded data removed]",
      "text/plain": [
       "<Figure size 432x288 with 1 Axes>"
      ]
     },
     "metadata": {
      "needs_background": "light"
     },
     "output_type": "display_data"
    }
   ],
   "source": [
    "# Get a full path for Lasso\n",
    "eps = 5e-3 # The smaller eps, the longer the path  \n",
    "lambda_lasso, coefs_lasso, _ = sk.linear_model.lasso_path(X, D.y, eps, n_alphas=100, alphas= None, fit_intercept=False)\n",
    "\n",
    "print(f\"minmum regularization parameter : {np.amin(lambda_lasso)}\")\n",
    "print(f\"maximum regularization parameter : {np.amax(lambda_lasso)}\")\n",
    "#plt.plot(lambda_lasso)\n",
    "\n",
    "\n",
    "colors = ['b', 'r', 'g', 'c', 'k','c']\n",
    "neg_log_lambda = -np.log(lambda_lasso)\n",
    "for i in range(6):\n",
    "    l1 = plt.plot(neg_log_lambda, coefs_lasso[i,], c=colors[i])\n"
   ]
  },
  {
   "cell_type": "code",
   "execution_count": null,
   "metadata": {},
   "outputs": [],
   "source": []
  }
 ],
 "metadata": {
  "kernelspec": {
   "display_name": "Python 3",
   "language": "python",
   "name": "python3"
  },
  "language_info": {
   "codemirror_mode": {
    "name": "ipython",
    "version": 3
   },
   "file_extension": ".py",
   "mimetype": "text/x-python",
   "name": "python",
   "nbconvert_exporter": "python",
   "pygments_lexer": "ipython3",
   "version": "3.8.3"
  }
 },
 "nbformat": 4,
 "nbformat_minor": 4
}
