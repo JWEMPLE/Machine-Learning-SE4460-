{
 "cells": [
  {
   "cell_type": "markdown",
   "metadata": {
    "id": "S-XNoqlLIkZw"
   },
   "source": [
    "# Week 10 Lecture Lab (Part 2)\n",
    "### In this week's lecture lab, we will examine different methods of dimensionality reduction. We will examine two methods, the first being Principal Component Analysis (PCA) and the second being Autoencoders. To demonstrate dimensionality reduction, we will be using the sklearn wine dataset, which has a total of 178 observations, 13 features, and three output target labels. "
   ]
  },
  {
   "cell_type": "code",
   "execution_count": 1,
   "metadata": {
    "id": "CaGmIRTdIgjn"
   },
   "outputs": [],
   "source": [
    "# make sure that you have seaborn version 0.11.0 installed \n",
    "import pandas as pd\n",
    "import numpy as np\n",
    "import matplotlib.pyplot as plt\n",
    "import seaborn as sns\n",
    "from sklearn.datasets import load_wine\n",
    "from sklearn import __version__\n",
    "from sklearn.preprocessing import StandardScaler\n",
    "import torch\n",
    "import torch.nn as nn\n",
    "import torch.nn.functional as F\n",
    "from sklearn.decomposition import PCA\n",
    "from sklearn.linear_model import LogisticRegressionCV\n",
    "import random\n",
    "random.seed(100)\n",
    "plt.style.use('seaborn')"
   ]
  },
  {
   "cell_type": "code",
   "execution_count": 2,
   "metadata": {
    "colab": {
     "base_uri": "https://localhost:8080/"
    },
    "id": "kav2bomPKL22",
    "outputId": "9e87950d-a635-45ec-9017-88a8faa229e9"
   },
   "outputs": [
    {
     "name": "stdout",
     "output_type": "stream",
     "text": [
      "(178, 13)\n",
      "(178, 1)\n",
      "['class_0' 'class_1' 'class_2']\n"
     ]
    }
   ],
   "source": [
    "#load dataset\n",
    "data= load_wine()\n",
    "\n",
    "#create dataframe for features (X) \n",
    "X = pd.DataFrame(data['data'])\n",
    "X.columns = data['feature_names']\n",
    "print(X.shape)\n",
    "\n",
    "#create dataframe for target (y)\n",
    "y = pd.DataFrame(data['target'])\n",
    "print(y.shape)\n",
    "print(data['target_names'])"
   ]
  },
  {
   "cell_type": "markdown",
   "metadata": {
    "id": "yGNstvGrLdz9"
   },
   "source": [
    "#### We will first examine PCA using sklearn's PCA decomposition method. This implementation follows the same structure as other sklearn implementations we have seen thus far. First, we must instantiate a PCA object, then fit it, and then transform data. When instantiating, we must select the number of principal components to use. For illustrative purposes, we will instantiate multiple PCA objects with different numbers of components and evaluate their performance. Since there are 13 features in the dataset, we will perform dimensionality reductions using 11, 9, 7, 5, 3, and 1 components."
   ]
  },
  {
   "cell_type": "code",
   "execution_count": 3,
   "metadata": {
    "id": "rkc4usHpKkIA"
   },
   "outputs": [],
   "source": [
    "#Instantiate PCA objects setting n_components to the number of reduced features\n",
    "PCA_11 = PCA(n_components = 11)\n",
    "PCA_9 = PCA(n_components = 9)\n",
    "PCA_7 = PCA(n_components = 7)\n",
    "PCA_5 = PCA(n_components = 5)\n",
    "PCA_3 = PCA(n_components = 3)\n",
    "PCA_1 = PCA(n_components = 1)\n",
    "\n",
    "#list of objects\n",
    "pca_objects = [PCA_11, PCA_9, PCA_7, PCA_5, PCA_3, PCA_1]"
   ]
  },
  {
   "cell_type": "code",
   "execution_count": 4,
   "metadata": {
    "id": "vmaeudJNM2qB"
   },
   "outputs": [],
   "source": [
    "# Fit objects on data and transform into dimensionally reduced feature set\n",
    "X_11 = pd.DataFrame(PCA_11.fit_transform(X))\n",
    "X_9 = pd.DataFrame(PCA_9.fit_transform(X))\n",
    "X_7 = pd.DataFrame(PCA_7.fit_transform(X))\n",
    "X_5 = pd.DataFrame(PCA_5.fit_transform(X))\n",
    "X_3 = pd.DataFrame(PCA_3.fit_transform(X))\n",
    "X_1 = pd.DataFrame(PCA_1.fit_transform(X))\n",
    "\n",
    "#list of datasets (including original)\n",
    "datasets = [X, X_11, X_9, X_7, X_5, X_3, X_1]"
   ]
  },
  {
   "cell_type": "markdown",
   "metadata": {
    "id": "LJYCUVYsN29-"
   },
   "source": [
    "#### Inevitably, when you reduce the dimensionality of your data, you lose some information. As a measure of information retention, we consider the PCA model's explained variance attribute, which tells us how much variance (information) is retained post-transformation."
   ]
  },
  {
   "cell_type": "code",
   "execution_count": 5,
   "metadata": {
    "colab": {
     "base_uri": "https://localhost:8080/"
    },
    "id": "JCz3E2l8NYvf",
    "outputId": "09cc8088-1d6d-4d49-d3af-fe63b0c28b1d"
   },
   "outputs": [
    {
     "name": "stdout",
     "output_type": "stream",
     "text": [
      "0.9999997054469665\n",
      "0.9999986059708891\n",
      "0.999995955059917\n",
      "0.9999846861150247\n",
      "0.9999221050741546\n",
      "0.9980912304918974\n",
      "sklearn: 0.21.3\n"
     ]
    }
   ],
   "source": [
    "#sum the explained_varience_ratio across all principal components\n",
    "for i in pca_objects:\n",
    "  print(i.explained_variance_ratio_.sum())\n",
    "\n",
    "print('sklearn: %s' % __version__)"
   ]
  },
  {
   "cell_type": "markdown",
   "metadata": {
    "id": "VSUtwJfbPU9V"
   },
   "source": [
    "#### Did you notice something interesting? The variance barely reduces even when we have one principal component... why is this? We can perform a granular analysis exploring the amount of variance explained by each individual principal component to examine further. Let's consider the example with 11 principal components.\n"
   ]
  },
  {
   "cell_type": "code",
   "execution_count": 6,
   "metadata": {
    "colab": {
     "base_uri": "https://localhost:8080/"
    },
    "id": "BosEPnMuPJwm",
    "outputId": "6f424010-6cd0-48b9-9a17-bb1af3aee7a6"
   },
   "outputs": [
    {
     "name": "stdout",
     "output_type": "stream",
     "text": [
      "           Explained_var\n",
      "Component               \n",
      "1               0.998091\n",
      "2               0.001736\n",
      "3               0.000095\n",
      "4               0.000050\n",
      "5               0.000012\n",
      "6               0.000008\n",
      "7               0.000003\n",
      "8               0.000002\n",
      "9               0.000001\n",
      "10              0.000001\n",
      "11              0.000000\n"
     ]
    }
   ],
   "source": [
    "print(pd.DataFrame({'Component':[i for i in range(1,12)], 'Explained_var': PCA_11.explained_variance_ratio_.round(6)}).set_index('Component'))"
   ]
  },
  {
   "cell_type": "markdown",
   "metadata": {
    "id": "FD4SwZ1lRyHp"
   },
   "source": [
    "#### As we can see, the first component explains 0.998091 of the information. As we reduce the number of components, a portion of the information is lost until we have a single component left. Let's try predicting with the original feature set and the transformed feature sets."
   ]
  },
  {
   "cell_type": "code",
   "execution_count": 7,
   "metadata": {
    "id": "OpPpLRxeQrHb"
   },
   "outputs": [],
   "source": [
    "# split data by index into training and test sets following 80/20 scheme\n",
    "\n",
    "n_train = round(0.8*y.shape[0])\n",
    "indices = [i for i in range (y.shape[0])]\n",
    "ind_train = random.sample(indices, n_train)\n",
    "\n",
    "training = []\n",
    "testing = []\n",
    "\n",
    "for i in range(len(datasets)):\n",
    "  training.append(datasets[i].iloc[ind_train, :])\n",
    "  testing.append(datasets[i].drop(ind_train))\n",
    "\n",
    "# split target into training and testing \n",
    "\n",
    "y_train = y.iloc[ind_train]\n",
    "y_test = y.drop(ind_train)"
   ]
  },
  {
   "cell_type": "code",
   "execution_count": 8,
   "metadata": {
    "id": "Y2pL0Yb6TFVn"
   },
   "outputs": [],
   "source": [
    "#instantiate models in a list\n",
    "\n",
    "models = [LogisticRegressionCV(cv =5, max_iter = 1000000, multi_class='auto') for i in range (7)]\n"
   ]
  },
  {
   "cell_type": "code",
   "execution_count": 9,
   "metadata": {
    "id": "FOvRw_5HVXdW"
   },
   "outputs": [],
   "source": [
    "#train models and predict on features\n",
    "scores = []\n",
    "for i in range(len(models)):\n",
    "  scores.append(models[i].fit(training[i], y_train.values.ravel()).score(testing[i],y_test.values.ravel()))"
   ]
  },
  {
   "cell_type": "code",
   "execution_count": 10,
   "metadata": {
    "colab": {
     "base_uri": "https://localhost:8080/",
     "height": 294
    },
    "id": "aTfRYcsdYZmm",
    "outputId": "a190a46f-bc91-47e3-e6c6-458f3e54215c"
   },
   "outputs": [
    {
     "data": {
      "image/png": "[encoded data removed]",
      "text/plain": [
       "<Figure size 432x288 with 1 Axes>"
      ]
     },
     "metadata": {
      "needs_background": "light"
     },
     "output_type": "display_data"
    }
   ],
   "source": [
    "#plot the results of the scoring\n",
    "plt.scatter([i for i in range(13,0,-2)], scores)\n",
    "plt.xlabel('Number of Components')\n",
    "plt.ylabel('Score')\n",
    "plt.title('Number of Components vs. Predictive Score')\n",
    "plt.show()"
   ]
  },
  {
   "cell_type": "markdown",
   "metadata": {
    "id": "GJPoJKgwawXH"
   },
   "source": [
    "#### Let's now perform dimensionality reduction using an autoencoder, which is a type of neural network that has the same input as it does output. The hidden layer contains hidden units less equal to the number of dimensionally reduced features. In these experiments, we will evaluate our model's effectiveness a bit differently. We will consider the reconstruction error, which compares the reconstructed features to the original features. We will scale our features as a data preparation stage."
   ]
  },
  {
   "cell_type": "code",
   "execution_count": 11,
   "metadata": {
    "id": "JotjzP01atzU"
   },
   "outputs": [],
   "source": [
    "scaler = StandardScaler()\n",
    "X_scaled = scaler.fit_transform(X)\n",
    "X_scaled = X_scaled.astype(np.float32)"
   ]
  },
  {
   "cell_type": "markdown",
   "metadata": {
    "id": "BZ9QXd-Kb7Sn"
   },
   "source": [
    "#### Next we will create our first autoencoder reducing the features to 11"
   ]
  },
  {
   "cell_type": "code",
   "execution_count": 12,
   "metadata": {
    "colab": {
     "base_uri": "https://localhost:8080/"
    },
    "id": "VGrjcG3Pb6s0",
    "outputId": "19264ef5-254a-4b91-dc92-5c1cd98947f6"
   },
   "outputs": [
    {
     "name": "stderr",
     "output_type": "stream",
     "text": [
      "D:\\Program Files\\Anaconda3\\lib\\site-packages\\torch\\autograd\\__init__.py:132: UserWarning: CUDA initialization: The NVIDIA driver on your system is too old (found version 9010). Please update your GPU driver by downloading and installing a new version from the URL: http://www.nvidia.com/Download/index.aspx Alternatively, go to: https://pytorch.org to install a PyTorch version that has been compiled with your version of the CUDA driver. (Triggered internally at  ..\\c10\\cuda\\CUDAFunctions.cpp:100.)\n",
      "  allow_unreachable=True)  # allow_unreachable flag\n"
     ]
    },
    {
     "name": "stdout",
     "output_type": "stream",
     "text": [
      "999 0.03769480809569359\n",
      "1999 0.026837360113859177\n",
      "2999 0.02376527339220047\n",
      "3999 0.022403215989470482\n",
      "4999 0.02174708992242813\n"
     ]
    }
   ],
   "source": [
    "#build model\n",
    "auto_enc_11 = nn.Sequential(\n",
    "    nn.Linear(13,11),\n",
    "    nn.Hardtanh(),\n",
    "    nn.Linear(11,13)\n",
    ")\n",
    "\n",
    "#define loss function\n",
    "loss_fn = torch.nn.MSELoss()\n",
    "\n",
    "#define learning rate\n",
    "learning_rate = 1e-1\n",
    "\n",
    "#convert dataset to tensors\n",
    "X_scaled = torch.from_numpy(X_scaled)\n",
    "#train model\n",
    "for t in range (5000):den\n",
    "  y_pred = auto_enc_11(X_scaled)\n",
    "  loss = loss_fn(y_pred, X_scaled)\n",
    "  if t % 1000 == 999:\n",
    "        print(t, loss.item())\n",
    "  auto_enc_11.zero_grad()\n",
    "  loss.backward()\n",
    "  with torch.no_grad():\n",
    "        for param in auto_enc_11.parameters():\n",
    "            param -= learning_rate * param.grad "
   ]
  },
  {
   "cell_type": "markdown",
   "metadata": {
    "id": "XAzCyhFbTRb4"
   },
   "source": [
    "#### In practice, we would consider the encoder (input + hidden layer) and the decoder (hidden + output) layer by extracting them from the trained model. In this example, we will transform the data and plot a distribution of the reconstruction error."
   ]
  },
  {
   "cell_type": "code",
   "execution_count": 13,
   "metadata": {
    "id": "jHoc9b3QTQ4-"
   },
   "outputs": [],
   "source": [
    "#pass scaled data to the autoencoder\n",
    "X_reconstructed = auto_enc_11(X_scaled)"
   ]
  },
  {
   "cell_type": "code",
   "execution_count": 14,
   "metadata": {
    "colab": {
     "base_uri": "https://localhost:8080/",
     "height": 365
    },
    "id": "rXMGSkexffOy",
    "outputId": "01a7519c-d82e-498c-9714-d2de5dbabfef"
   },
   "outputs": [
    {
     "name": "stderr",
     "output_type": "stream",
     "text": [
      "D:\\Program Files\\Anaconda3\\lib\\site-packages\\seaborn\\distributions.py:2551: FutureWarning: `distplot` is a deprecated function and will be removed in a future version. Please adapt your code to use either `displot` (a figure-level function with similar flexibility) or `histplot` (an axes-level function for histograms).\n",
      "  warnings.warn(msg, FutureWarning)\n"
     ]
    },
    {
     "data": {
      "text/plain": [
       "Text(0.5, 1.0, 'Reconstruction Error Distribution for Autoencoder')"
      ]
     },
     "execution_count": 14,
     "metadata": {},
     "output_type": "execute_result"
    },
    {
     "data": {
      "image/png": "[encoded data removed]",
      "text/plain": [
       "<Figure size 432x288 with 1 Axes>"
      ]
     },
     "metadata": {
      "needs_background": "light"
     },
     "output_type": "display_data"
    }
   ],
   "source": [
    "#plot the distribution of the reconstruction error\n",
    "sns.distplot(X_scaled - X_reconstructed.detach().numpy())\n",
    "plt.xlabel(\"Reconstruction Error\")\n",
    "plt.title(\"Reconstruction Error Distribution for Autoencoder\")"
   ]
  },
  {
   "cell_type": "markdown",
   "metadata": {
    "id": "ytQM4sJTU8EU"
   },
   "source": [
    "#### Remember, as with any neural network model, the parameters need to be tuned to improve performance. As an exercise, try improving the performance of this model by reducing the reconstruction error. You may consider changing activation functions, learning rates, etc. If you are feeling ambitious, consider creating a stacked autoencoder (you will need to look this up) and see how it performs. Additionally, you could try implementing additional autoencoders to reduce the features even further as we did with the PCA. The best way to get familiar with neural networks is to practice!"
   ]
  },
  {
   "cell_type": "code",
   "execution_count": null,
   "metadata": {},
   "outputs": [],
   "source": []
  }
 ],
 "metadata": {
  "colab": {
   "name": "Week 10 Lecture Lab",
   "provenance": []
  },
  "kernelspec": {
   "display_name": "Python 3",
   "language": "python",
   "name": "python3"
  },
  "language_info": {
   "codemirror_mode": {
    "name": "ipython",
    "version": 3
   },
   "file_extension": ".py",
   "mimetype": "text/x-python",
   "name": "python",
   "nbconvert_exporter": "python",
   "pygments_lexer": "ipython3",
   "version": "3.8.3"
  }
 },
 "nbformat": 4,
 "nbformat_minor": 1
}
